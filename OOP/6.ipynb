{
 "cells": [
  {
   "cell_type": "code",
   "execution_count": null,
   "metadata": {},
   "outputs": [],
   "source": [
    "class Test:\n",
    "    def __init__(self):\n",
    "        self.sum, self.y = 0,0 #instance variable\n",
    "    \n",
    "    def method_A(self):\n",
    "        x, y = 2,3 #local variable\n",
    "        msg = [0]\n",
    "        msg[0] = 3\n",
    "        y = self.y +msg[0]\n",
    "        self.method_B(msg, msg[0])\n",
    "        x = self.y + msg[0]\n",
    "        print(x,y,self.sum)\n",
    "    \n",
    "    def method_B(self, msg2, msg1):\n",
    "        x = 0\n",
    "        self.y = self.y + msg2[0]\n",
    "        x = x+ 33+msg1\n",
    "        self.sum = self.sum + x + self.y\n",
    "        msg2[0] = self.y +msg1\n",
    "        msg1 = msg1+x+2\n",
    "        print(x, self.y,self.sum)\n",
    "\n",
    "t3 = Test()\n",
    "t3.method_A()\n"
   ]
  }
 ],
 "metadata": {
  "kernelspec": {
   "display_name": "base",
   "language": "python",
   "name": "python3"
  },
  "language_info": {
   "codemirror_mode": {
    "name": "ipython",
    "version": 3
   },
   "file_extension": ".py",
   "mimetype": "text/x-python",
   "name": "python",
   "nbconvert_exporter": "python",
   "pygments_lexer": "ipython3",
   "version": "3.10.9"
  },
  "orig_nbformat": 4
 },
 "nbformat": 4,
 "nbformat_minor": 2
}
