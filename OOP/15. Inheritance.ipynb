{
 "cells": [
  {
   "cell_type": "code",
   "execution_count": 1,
   "metadata": {},
   "outputs": [],
   "source": [
    "class Vehicle:\n",
    "    def __init__(self, make, model, year):\n",
    "        self.make = make\n",
    "        self.model = model\n",
    "        self.year = year\n",
    "\n",
    "    def display_info(self):\n",
    "        print(f\"{self.year} {self.make} {self.model}\")"
   ]
  },
  {
   "cell_type": "code",
   "execution_count": 2,
   "metadata": {},
   "outputs": [
    {
     "name": "stdout",
     "output_type": "stream",
     "text": [
      "2022 Toyota Camry\n"
     ]
    }
   ],
   "source": [
    "vehicle = Vehicle(\"Toyota\", \"Camry\", 2022)\n",
    "vehicle.display_info()  # Output: 2022 Toyota Camry"
   ]
  },
  {
   "cell_type": "code",
   "execution_count": 5,
   "metadata": {},
   "outputs": [],
   "source": [
    "class Car(Vehicle):\n",
    "    def __init__(self, make, model, year, num_doors): #initialize all the unique and common attr\n",
    "        super().__init__(make,model,year) #call the parent attributes first\n",
    "        self.doors = num_doors #call the unique attributes like normal\n",
    "\n",
    "    def display_info(self):  # Method overridden in the child class\n",
    "        super().display_info()\n",
    "        print(f\"Number of doors: {self.doors}\")"
   ]
  },
  {
   "cell_type": "code",
   "execution_count": 6,
   "metadata": {},
   "outputs": [
    {
     "name": "stdout",
     "output_type": "stream",
     "text": [
      "2023 Tesla Model S\n",
      "Number of doors: 4\n"
     ]
    }
   ],
   "source": [
    "# Creating instances of both classes\n",
    "car = Car(\"Tesla\", \"Model S\", 2023, 4)\n",
    "# Calling methods\n",
    "car.display_info()      # Output: 2023 Tesla Model S, Number of doors: 4"
   ]
  }
 ],
 "metadata": {
  "kernelspec": {
   "display_name": "base",
   "language": "python",
   "name": "python3"
  },
  "language_info": {
   "codemirror_mode": {
    "name": "ipython",
    "version": 3
   },
   "file_extension": ".py",
   "mimetype": "text/x-python",
   "name": "python",
   "nbconvert_exporter": "python",
   "pygments_lexer": "ipython3",
   "version": "3.11.4"
  }
 },
 "nbformat": 4,
 "nbformat_minor": 2
}
