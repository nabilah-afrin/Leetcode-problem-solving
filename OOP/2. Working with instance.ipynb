{
 "cells": [
  {
   "cell_type": "code",
   "execution_count": 3,
   "metadata": {},
   "outputs": [
    {
     "name": "stdout",
     "output_type": "stream",
     "text": [
      "4 Windows 2 Door\n",
      "4 Windows 3 Door\n"
     ]
    }
   ],
   "source": [
    "#suppose an object has some constants or the customer requirement has some specific attributes by default that cannnot be changed but these constants attributes are necessery for othe methods\n",
    "#so these constants need to be introduced in the constructor method, but not as a parameter\n",
    "#but this constant value can be changed\n",
    "#its just,if we pass a constant parameter in the constructor, but while calling the constructor its not necessery to call that as we set as constant. when we will run it, the method will expct the parameter as an argument. thats why it is safe to not pass constants as a parameter in the paranthesis\n",
    "class House:\n",
    "    def __init__(self):\n",
    "        self.windows = 4\n",
    "        self.doors = 2\n",
    "    #instance methods\n",
    "    def view(self):\n",
    "        print(self.windows,\"Windows\", self.doors, \"Door\")\n",
    "\n",
    "#create the object\n",
    "h1 = House()\n",
    "h1.view()\n",
    "h1.doors = 3\n",
    "h1.view()\n",
    "#so its not always necessery to initiate parameters in the paranthesis\n",
    "#self is nothing but location or address of the object"
   ]
  },
  {
   "cell_type": "markdown",
   "metadata": {},
   "source": [
    "Suppose we craete an isntance method without any parameter passing and then call it afterwards\n",
    "```python\n",
    "class Car:\n",
    "    def __init__(self,...):\n",
    "        .....\n",
    "    def view():\n",
    "        print(....)\n",
    "\n",
    "car1 = Car(...)\n",
    "car1.view()\n",
    "```\n",
    "when we run it, it will show typeerror\n",
    "```python\n",
    "---------------------------------------------------------------------------\n",
    "TypeError                                 Traceback (most recent call last)\n",
    "Cell In[6], line 11\n",
    "      7         print(model)\n",
    "     10 car_1 = Car(name= \"bmw\", model = \"123\")\n",
    "---> 11 car_1.view()\n",
    "\n",
    "TypeError: Car.view() takes 0 positional arguments but 1 was given\n",
    "\n",
    "```"
   ]
  },
  {
   "cell_type": "code",
   "execution_count": 8,
   "metadata": {},
   "outputs": [
    {
     "name": "stdout",
     "output_type": "stream",
     "text": [
      "123\n",
      "it is a  4  wheel car\n"
     ]
    }
   ],
   "source": [
    "class Car:\n",
    "    def __init__(self, name, model):\n",
    "        self.name = name\n",
    "        self.wheel = 4\n",
    "        self.model = model\n",
    "    def view(self):\n",
    "        print(self.model) \n",
    "        print(\"it is a \", self.wheel, \" wheel car\")\n",
    "car_1 = Car(name= \"bmw\", model = \"123\")\n",
    "car_1.view()"
   ]
  }
 ],
 "metadata": {
  "kernelspec": {
   "display_name": "base",
   "language": "python",
   "name": "python3"
  },
  "language_info": {
   "codemirror_mode": {
    "name": "ipython",
    "version": 3
   },
   "file_extension": ".py",
   "mimetype": "text/x-python",
   "name": "python",
   "nbconvert_exporter": "python",
   "pygments_lexer": "ipython3",
   "version": "3.10.9"
  },
  "orig_nbformat": 4
 },
 "nbformat": 4,
 "nbformat_minor": 2
}
