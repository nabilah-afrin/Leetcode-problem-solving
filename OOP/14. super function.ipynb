{
 "cells": [
  {
   "cell_type": "code",
   "execution_count": 1,
   "metadata": {},
   "outputs": [
    {
     "name": "stdout",
     "output_type": "stream",
     "text": [
      "woof\n"
     ]
    },
    {
     "ename": "AttributeError",
     "evalue": "'super' object has no attribute 'make_sound'",
     "output_type": "error",
     "traceback": [
      "\u001b[1;31m---------------------------------------------------------------------------\u001b[0m",
      "\u001b[1;31mAttributeError\u001b[0m                            Traceback (most recent call last)",
      "\u001b[1;32me:\\CODE\\Python\\OOP\\super function.ipynb Cell 1\u001b[0m line \u001b[0;36m2\n\u001b[0;32m     <a href='vscode-notebook-cell:/e%3A/CODE/Python/OOP/super%20function.ipynb#W0sZmlsZQ%3D%3D?line=20'>21</a>\u001b[0m dog\u001b[39m.\u001b[39mmake_sound() \u001b[39m# Output: Woof!\u001b[39;00m\n\u001b[0;32m     <a href='vscode-notebook-cell:/e%3A/CODE/Python/OOP/super%20function.ipynb#W0sZmlsZQ%3D%3D?line=22'>23</a>\u001b[0m \u001b[39m# Call the make_sound() method on the dog object using the super() function\u001b[39;00m\n\u001b[1;32m---> <a href='vscode-notebook-cell:/e%3A/CODE/Python/OOP/super%20function.ipynb#W0sZmlsZQ%3D%3D?line=23'>24</a>\u001b[0m \u001b[39msuper\u001b[39;49m(Dog, dog)\u001b[39m.\u001b[39;49mmake_sound()  \u001b[39m# Output: Animal sound\u001b[39;00m\n\u001b[0;32m     <a href='vscode-notebook-cell:/e%3A/CODE/Python/OOP/super%20function.ipynb#W0sZmlsZQ%3D%3D?line=25'>26</a>\u001b[0m \u001b[39mclass\u001b[39;00m \u001b[39mAnimal\u001b[39;00m: \u001b[39m#suppose this is the parent\u001b[39;00m\n\u001b[0;32m     <a href='vscode-notebook-cell:/e%3A/CODE/Python/OOP/super%20function.ipynb#W0sZmlsZQ%3D%3D?line=26'>27</a>\u001b[0m \u001b[39m    \u001b[39m\u001b[39m\"\"\"def __init__(self, name):\u001b[39;00m\n\u001b[0;32m     <a href='vscode-notebook-cell:/e%3A/CODE/Python/OOP/super%20function.ipynb#W0sZmlsZQ%3D%3D?line=27'>28</a>\u001b[0m \u001b[39m        self.name = name\"\"\"\u001b[39;00m\n",
      "\u001b[1;31mAttributeError\u001b[0m: 'super' object has no attribute 'make_sound'"
     ]
    }
   ],
   "source": [
    "# built in function that allows to access specifc methods from parent class\n",
    "# takes two arguments: type, object\n",
    "# type: The type of the object on which the method is being called.\n",
    "# obj: The object on which the method is being called.\n",
    "# this method lets us call parent class in a dynamci way \n",
    "\n",
    "class Animal: #suppose this is the parent\n",
    "    \"\"\"def __init__(self, name):\n",
    "        self.name = name\"\"\"\n",
    "    def make_sound(self):\n",
    "        print(\"Animal sound\")\n",
    "        \n",
    "class Dog:\n",
    "    def make_sound(self):\n",
    "        print(\"woof\")\n",
    "\n",
    "\n",
    "# Create a dog object\n",
    "dog = Dog()\n",
    "# Call the make_sound() method on the dog object\n",
    "dog.make_sound() # Output: Woof!\n",
    "\n",
    "# Call the make_sound() method on the dog object using the super() function\n",
    "super(Dog, dog).make_sound()  # Output: Animal sound\n",
    "\n",
    "class Animal: #suppose this is the parent\n",
    "    \"\"\"def __init__(self, name):\n",
    "        self.name = name\"\"\"\n",
    "    def make_sound(self):\n",
    "        print(\"Animal sound\")\n",
    "\n",
    "class Cat(Animal):\n",
    "    def __init__(self):\n",
    "        self.animal = Animal()\n",
    "\n",
    "    def make_sound(self):\n",
    "        self.animal.make_sound()\n",
    "\n",
    "# Create a dog object\n",
    "dog = Dog()\n",
    "\n",
    "# Call the make_sound() method on the dog object\n",
    "dog.make_sound()# Output: Animal sound\n",
    "\n",
    "\n"
   ]
  },
  {
   "cell_type": "code",
   "execution_count": 14,
   "metadata": {},
   "outputs": [],
   "source": [
    "class Car:\n",
    "    def __init__(self, model,year) -> None:\n",
    "        self.model = model\n",
    "        self.odometer = 0 #we cant call self.odometer = odometer withput passing it as parameter, only constant value is applicable\n",
    "        self.year = year\n",
    "    \n",
    "    def display(self):\n",
    "        print(f\"The model of this car is {self.model}, built in {self.year}\")\n",
    "        \n",
    "    def read_odometer(self):\n",
    "        print(\"This car has \" + str(self.odometer) + \" miles on it.\")\n",
    "        \n",
    "    def update_meter(self,mileage):\n",
    "        if mileage> self.odometer: # mileage is a local var, not necessery to do self as odometer will be updated after all, so its not a different charactersitics\n",
    "            self.odometer = mileage\n",
    "        \n",
    "    def increment_meter(self, miles):\n",
    "       self.odometer_reading += miles"
   ]
  },
  {
   "cell_type": "code",
   "execution_count": 17,
   "metadata": {},
   "outputs": [],
   "source": [
    "class ElectricCar(Car):\n",
    "    def __init__(self, model, year, autopilot_mode):\n",
    "        super().__init__(model, year) #dont use self, as it will refer to parent class, not child class, this self is for child class\n",
    "        self.autopilot_mode = autopilot_mode\n",
    "    \n",
    "    def automode(self):\n",
    "        print(\"Autopilot mode engaged.\")\n",
    "        def display(self):\n",
    "            print(f\"Model: {self.model}, Year: {self.year}\")\n",
    "            print(f\"Autopilot Mode: {self.autopilot_mode}\")"
   ]
  },
  {
   "cell_type": "code",
   "execution_count": 18,
   "metadata": {},
   "outputs": [
    {
     "name": "stdout",
     "output_type": "stream",
     "text": [
      "The model of this car is Model S, built in 2023\n"
     ]
    }
   ],
   "source": [
    "# Creating an instance of ElectricCar\n",
    "electric_car = ElectricCar( \"Model S\", 2023, True)\n",
    "# Calling the display method to show all attributes\n",
    "electric_car.display()"
   ]
  }
 ],
 "metadata": {
  "kernelspec": {
   "display_name": "Python 3",
   "language": "python",
   "name": "python3"
  },
  "language_info": {
   "codemirror_mode": {
    "name": "ipython",
    "version": 3
   },
   "file_extension": ".py",
   "mimetype": "text/x-python",
   "name": "python",
   "nbconvert_exporter": "python",
   "pygments_lexer": "ipython3",
   "version": "3.11.4"
  }
 },
 "nbformat": 4,
 "nbformat_minor": 2
}
