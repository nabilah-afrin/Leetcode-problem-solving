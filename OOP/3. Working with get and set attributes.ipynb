{
 "cells": [
  {
   "cell_type": "code",
   "execution_count": 9,
   "metadata": {},
   "outputs": [
    {
     "name": "stdout",
     "output_type": "stream",
     "text": [
      "Book_name: Crime & Punishment \n",
      "Author: Dostovesky \n",
      "Price: $ 15\n"
     ]
    }
   ],
   "source": [
    "class Book:\n",
    "    def __init__(self, name, author):\n",
    "        self.name = name\n",
    "        self.author = author\n",
    "        self.price = 0\n",
    "    \n",
    "    #update the price, where it will not remain specific anymore\n",
    "    #to work with instance method, for convenience there is default 'get' and 'set' methods\n",
    "    #set method will update the price\n",
    "    def set_price(self, price):\n",
    "        self.price = price\n",
    "    \n",
    "    #get will return the update prices or show it \n",
    "    def get_price(self): #here price wont be changed, it will show the changed price,so no need to add the parameter\n",
    "        return self.price\n",
    "    \n",
    "    def details(self):\n",
    "        print(\"Book_name: \" + self.name,\n",
    "              \"\\nAuthor: \"+ self.author,\n",
    "               \"\\nPrice: $\" , self.price)\n",
    "\"\"\"    \n",
    "b1 = Book(\"Crime & Punishment\",\"Dostovesky\")\n",
    "\n",
    "b1.set_price(15)\n",
    "b1.get_price()\n",
    "b1.details()\"\"\""
   ]
  },
  {
   "cell_type": "markdown",
   "metadata": {},
   "source": []
  }
 ],
 "metadata": {
  "kernelspec": {
   "display_name": "base",
   "language": "python",
   "name": "python3"
  },
  "language_info": {
   "codemirror_mode": {
    "name": "ipython",
    "version": 3
   },
   "file_extension": ".py",
   "mimetype": "text/x-python",
   "name": "python",
   "nbconvert_exporter": "python",
   "pygments_lexer": "ipython3",
   "version": "3.10.9"
  },
  "orig_nbformat": 4
 },
 "nbformat": 4,
 "nbformat_minor": 2
}
