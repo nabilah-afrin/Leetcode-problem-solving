{
 "cells": [
  {
   "cell_type": "code",
   "execution_count": 2,
   "metadata": {},
   "outputs": [],
   "source": [
    "from multipledispatch import dispatch\n",
    "class calculator:\n",
    "    #this method will be called only when we provide  the required parameters, otherwise it wont be executed\n",
    "    @dispatch(int,int)\n",
    "    def product(self, a,b):\n",
    "        print(a,b)\n",
    "    @dispatch(str, str,str)\n",
    "    def product(self, a,b,c):\n",
    "        print(a,b)\n",
    "    @dispatch(float,float,str)\n",
    "    def product(self, a,b):\n",
    "        print(a,b)"
   ]
  },
  {
   "cell_type": "markdown",
   "metadata": {},
   "source": [
    "A library patch called dispatch we can achieve method overloading as well\n",
    "dispatch requires function or class to declared"
   ]
  },
  {
   "cell_type": "code",
   "execution_count": null,
   "metadata": {},
   "outputs": [],
   "source": []
  }
 ],
 "metadata": {
  "kernelspec": {
   "display_name": "base",
   "language": "python",
   "name": "python3"
  },
  "language_info": {
   "codemirror_mode": {
    "name": "ipython",
    "version": 3
   },
   "file_extension": ".py",
   "mimetype": "text/x-python",
   "name": "python",
   "nbconvert_exporter": "python",
   "pygments_lexer": "ipython3",
   "version": "3.11.4"
  },
  "orig_nbformat": 4
 },
 "nbformat": 4,
 "nbformat_minor": 2
}
