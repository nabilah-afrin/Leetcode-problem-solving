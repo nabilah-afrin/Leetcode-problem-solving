{
 "cells": [
  {
   "cell_type": "code",
   "execution_count": 9,
   "metadata": {},
   "outputs": [
    {
     "name": "stdout",
     "output_type": "stream",
     "text": [
      "14\n",
      "sakib's Run:  None\n"
     ]
    }
   ],
   "source": [
    "class Player:\n",
    "    #create a class variable or statiic variable\n",
    "    team_run = 0\n",
    "\n",
    "    def __init__(self,  run = 0):\n",
    "        self.run = run\n",
    "        #self.team_run = 0\n",
    "\n",
    "    def hit_four(self):\n",
    "        self.run += 4\n",
    "        print(self.run)\n",
    "\n",
    "sakib = Player(10)\n",
    "tamim = Player(0)\n",
    "print(\"sakib's Run: \", sakib.hit_four())"
   ]
  },
  {
   "cell_type": "markdown",
   "metadata": {},
   "source": [
    "Now i want to craete a varibale that isnt object dependen but it will just add one of the attributes of the object\n",
    "here, team run is  something not related to the individual player, we can make it instance specific as it will get changed if we add it as a constructor for each object"
   ]
  },
  {
   "cell_type": "markdown",
   "metadata": {},
   "source": [
    "Thats why in order to craete a class property that is not object specific, but shareable or accesible for all the objects in common. this will be not an instance variable. this is called a static variable or class variable\n",
    "it will be property of the class, and we can run the class variable without creating any object"
   ]
  },
  {
   "cell_type": "code",
   "execution_count": 14,
   "metadata": {},
   "outputs": [
    {
     "name": "stdout",
     "output_type": "stream",
     "text": [
      "0\n",
      "14\n"
     ]
    },
    {
     "ename": "TypeError",
     "evalue": "'int' object is not callable",
     "output_type": "error",
     "traceback": [
      "\u001b[1;31m---------------------------------------------------------------------------\u001b[0m",
      "\u001b[1;31mTypeError\u001b[0m                                 Traceback (most recent call last)",
      "Cell \u001b[1;32mIn[14], line 20\u001b[0m\n\u001b[0;32m     18\u001b[0m tamim \u001b[39m=\u001b[39m Player(\u001b[39m0\u001b[39m)\n\u001b[0;32m     19\u001b[0m sakib\u001b[39m.\u001b[39mhit_four()\n\u001b[1;32m---> 20\u001b[0m \u001b[39mprint\u001b[39m(sakib\u001b[39m.\u001b[39;49mteam_run())\n",
      "\u001b[1;31mTypeError\u001b[0m: 'int' object is not callable"
     ]
    }
   ],
   "source": [
    "class Player:\n",
    "    #create a class variable or statiic variable\n",
    "    team_run = 0\n",
    "\n",
    "    def __init__(self,  run = 0):\n",
    "        self.run = run\n",
    "        #to access the class variable in other place we have to call it on the class reference to update\n",
    "        #self.team_run = 0\n",
    "\n",
    "    def hit_four(self):\n",
    "        self.run += 4\n",
    "        print(self.run)\n",
    "        Player.team_run += self.run\n",
    "\n",
    "\n",
    "print(Player.team_run)\n",
    "sakib = Player(10)\n",
    "tamim = Player(0)\n",
    "sakib.hit_four()\n",
    "print(sakib.team_run())"
   ]
  },
  {
   "cell_type": "markdown",
   "metadata": {},
   "source": [
    "we can call the static variable with object reference as well,"
   ]
  },
  {
   "cell_type": "code",
   "execution_count": 18,
   "metadata": {},
   "outputs": [
    {
     "name": "stdout",
     "output_type": "stream",
     "text": [
      "hum 1 2\n"
     ]
    }
   ],
   "source": [
    "class Student:\n",
    "    total_student = 0\n",
    "    def __init__(self,name, Id):\n",
    "        self.name = name\n",
    "        self.Id = Id\n",
    "        Student.total_student += 1\n",
    "    \n",
    "    def details(self):\n",
    "        #we can create the student.count here as well, but it wont be feasible. beacause if we want to count, we will have to call the details method all the time\n",
    "        print(self.name, self.Id, Student.total_student)\n",
    "\n",
    "s1= Student(\"hum\", 1)\n",
    "s2 = Student(\"jobbar\", 10)\n",
    "s1.details()"
   ]
  }
 ],
 "metadata": {
  "kernelspec": {
   "display_name": "base",
   "language": "python",
   "name": "python3"
  },
  "language_info": {
   "codemirror_mode": {
    "name": "ipython",
    "version": 3
   },
   "file_extension": ".py",
   "mimetype": "text/x-python",
   "name": "python",
   "nbconvert_exporter": "python",
   "pygments_lexer": "ipython3",
   "version": "3.10.9"
  },
  "orig_nbformat": 4
 },
 "nbformat": 4,
 "nbformat_minor": 2
}
