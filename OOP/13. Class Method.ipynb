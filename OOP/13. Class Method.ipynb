{
 "cells": [
  {
   "cell_type": "code",
   "execution_count": 5,
   "metadata": {},
   "outputs": [
    {
     "name": "stdout",
     "output_type": "stream",
     "text": [
      "name1 id1 University_1\n"
     ]
    }
   ],
   "source": [
    "class Student:\n",
    "    def __init__(self, name, Id):\n",
    "        self.name = name\n",
    "        self.__id = Id\n",
    "    \n",
    "    def details(self):  \n",
    "        print(self.name,self.__id, Student.Uni_name)\n",
    "    \n",
    "    @classmethod\n",
    "    def upadte_uni_name(cls, U_name):\n",
    "        cls.Uni_name = U_name\n",
    "\n",
    "s1 = Student(\"name1\", \"id1\")\n",
    "Student.upadte_uni_name(\"University_1\")\n",
    "s1.details()\n"
   ]
  },
  {
   "cell_type": "markdown",
   "metadata": {},
   "source": [
    "Do it with instance method"
   ]
  },
  {
   "cell_type": "code",
   "execution_count": 7,
   "metadata": {},
   "outputs": [
    {
     "ename": "TypeError",
     "evalue": "Student.upadte_uni_name() missing 1 required positional argument: 'U_name'",
     "output_type": "error",
     "traceback": [
      "\u001b[1;31m---------------------------------------------------------------------------\u001b[0m",
      "\u001b[1;31mTypeError\u001b[0m                                 Traceback (most recent call last)",
      "Cell \u001b[1;32mIn[7], line 14\u001b[0m\n\u001b[0;32m     11\u001b[0m         \u001b[39mself\u001b[39m\u001b[39m.\u001b[39mUni_name \u001b[39m=\u001b[39m U_name\n\u001b[0;32m     13\u001b[0m s1 \u001b[39m=\u001b[39m Student(\u001b[39m\"\u001b[39m\u001b[39mname1\u001b[39m\u001b[39m\"\u001b[39m, \u001b[39m\"\u001b[39m\u001b[39mid1\u001b[39m\u001b[39m\"\u001b[39m)\n\u001b[1;32m---> 14\u001b[0m Student\u001b[39m.\u001b[39;49mupadte_uni_name(\u001b[39m\"\u001b[39;49m\u001b[39mUniversity_1\u001b[39;49m\u001b[39m\"\u001b[39;49m)\n\u001b[0;32m     15\u001b[0m s1\u001b[39m.\u001b[39mdetails()\n",
      "\u001b[1;31mTypeError\u001b[0m: Student.upadte_uni_name() missing 1 required positional argument: 'U_name'"
     ]
    }
   ],
   "source": [
    "class Student:\n",
    "    def __init__(self, name, Id):\n",
    "        self.name = name\n",
    "        self.__id = Id\n",
    "    \n",
    "    def details(self):  \n",
    "        print(self.name,self.__id, Student.Uni_name)\n",
    "    \n",
    "    \n",
    "    def upadte_uni_name(self, U_name):\n",
    "        self.Uni_name = U_name\n",
    "\n",
    "s1 = Student(\"name1\", \"id1\")\n",
    "Student.upadte_uni_name(\"University_1\")\n",
    "s1.details()"
   ]
  },
  {
   "cell_type": "code",
   "execution_count": 8,
   "metadata": {},
   "outputs": [
    {
     "ename": "TypeError",
     "evalue": "Student.upadte_uni_name() missing 1 required positional argument: 'U_name'",
     "output_type": "error",
     "traceback": [
      "\u001b[1;31m---------------------------------------------------------------------------\u001b[0m",
      "\u001b[1;31mTypeError\u001b[0m                                 Traceback (most recent call last)",
      "Cell \u001b[1;32mIn[8], line 14\u001b[0m\n\u001b[0;32m     11\u001b[0m         \u001b[39mself\u001b[39m\u001b[39m.\u001b[39mUni_name \u001b[39m=\u001b[39m U_name\n\u001b[0;32m     13\u001b[0m s1 \u001b[39m=\u001b[39m Student(\u001b[39m\"\u001b[39m\u001b[39mname1\u001b[39m\u001b[39m\"\u001b[39m, \u001b[39m\"\u001b[39m\u001b[39mid1\u001b[39m\u001b[39m\"\u001b[39m)\n\u001b[1;32m---> 14\u001b[0m Student\u001b[39m.\u001b[39;49mupadte_uni_name(\u001b[39m\"\u001b[39;49m\u001b[39mUniversity_1\u001b[39;49m\u001b[39m\"\u001b[39;49m)\n\u001b[0;32m     15\u001b[0m s1\u001b[39m.\u001b[39mdetails()\n",
      "\u001b[1;31mTypeError\u001b[0m: Student.upadte_uni_name() missing 1 required positional argument: 'U_name'"
     ]
    }
   ],
   "source": [
    "class Student:\n",
    "    def __init__(self, name, Id):\n",
    "        self.name = name\n",
    "        self.__id = Id\n",
    "    \n",
    "    def details(self ):  \n",
    "        print(self.name,self.__id, self.Uni_name)\n",
    "    \n",
    "    \n",
    "    def upadte_uni_name(self, U_name):\n",
    "        self.Uni_name = U_name\n",
    "\n",
    "s1 = Student(\"name1\", \"id1\")\n",
    "Student.upadte_uni_name(\"University_1\")\n",
    "s1.details()"
   ]
  },
  {
   "cell_type": "code",
   "execution_count": 11,
   "metadata": {},
   "outputs": [
    {
     "name": "stdout",
     "output_type": "stream",
     "text": [
      "carol 47 ruey\n"
     ]
    }
   ],
   "source": [
    "class Student:\n",
    "    uni = \"ruey\"\n",
    "    def __init__(self, name, Id):\n",
    "        self.name = name\n",
    "        self.__id = Id\n",
    "    \n",
    "    def details(self):  \n",
    "        print(self.name,self.__id, Student.uni)\n",
    "    \n",
    "    @classmethod\n",
    "    def upadte_uni_name(cls, u_name):\n",
    "        cls.uni_name = u_name\n",
    "\n",
    "    @classmethod\n",
    "    def from_string(cls,info):\n",
    "        name, Id = info.split(\"-\")\n",
    "        obj = cls(name,Id)\n",
    "        return obj\n",
    "\n",
    "s1 = Student(\"name1\", \"id1\")\n",
    "#Student.upadte_uni_name(\"University_1\")\n",
    "s2 = Student.from_string(\"carol-47\")\n",
    "s2.details()"
   ]
  }
 ],
 "metadata": {
  "kernelspec": {
   "display_name": "base",
   "language": "python",
   "name": "python3"
  },
  "language_info": {
   "codemirror_mode": {
    "name": "ipython",
    "version": 3
   },
   "file_extension": ".py",
   "mimetype": "text/x-python",
   "name": "python",
   "nbconvert_exporter": "python",
   "pygments_lexer": "ipython3",
   "version": "3.10.9"
  },
  "orig_nbformat": 4
 },
 "nbformat": 4,
 "nbformat_minor": 2
}
