{
 "cells": [
  {
   "cell_type": "code",
   "execution_count": 1,
   "metadata": {},
   "outputs": [
    {
     "name": "stdout",
     "output_type": "stream",
     "text": [
      "<__main__.Student object at 0x00000199F6FE3100>\n"
     ]
    }
   ],
   "source": [
    "#constructor will create the actual object, like being born\n",
    "#after the constructor, insr=tance method will be like the operations that can be done by the object\n",
    "class Student:\n",
    "   pass\n",
    "s1 = Student()\n",
    "#even if we dont pass any parameter here, in order to create we have to use the paranthesis, because it reperesnts functional operation\n",
    "print(s1)\n",
    "#the result will show, in the PC memory specifically where it is stored as the addrres. it gets stored in the RAM's heap memory location"
   ]
  },
  {
   "cell_type": "code",
   "execution_count": 5,
   "metadata": {},
   "outputs": [
    {
     "name": "stdout",
     "output_type": "stream",
     "text": [
      "A student object has been created\n",
      "<__main__.Student object at 0x00000199F70CB910>\n",
      "A student object has been created\n",
      "<__main__.Student object at 0x00000199F706FF10>\n",
      "s1: <__main__.Student object at 0x00000199F706FF10>\n"
     ]
    }
   ],
   "source": [
    "class Student:\n",
    "    def __init__(self):\n",
    "        print(\"A student object has been created\")\n",
    "        print(self)\n",
    "s1= Student()\n",
    "s1 = Student()\n",
    "#nothing is given under the paranthesis, still it will be passed\n",
    "#the second print, shows that s1 and self are the same\n",
    "#once s1 is created only once, the constructor will be called once\n",
    "# if we call s1 again, it will create another object with different location address\n",
    "print(\"s1:\", s1)"
   ]
  },
  {
   "cell_type": "code",
   "execution_count": 15,
   "metadata": {},
   "outputs": [
    {
     "name": "stdout",
     "output_type": "stream",
     "text": [
      "<__main__.Student object at 0x00000199F6FE2440> Bon 13\n",
      "<__main__.Student object at 0x00000199F6FE2440>\n",
      "Bon\n",
      "<__main__.Student object at 0x00000199F6FE2440>\n"
     ]
    }
   ],
   "source": [
    "class Student:\n",
    "    def __init__(self, name, id):\n",
    "      #create instance variable\n",
    "      #self is like the specific part of the object that cannot be altered, other parameter can be altered from one objec to another\n",
    "      self.name = name\n",
    "      self.id = id\n",
    "      print(self, name, id)\n",
    "      #print(self.name, self.id) \n",
    "      #this is usuable when we want to use one methods variable to another method\n",
    "student_1 = Student(name=\"Bon\", id=13)\n",
    "print(student_1)\n",
    "#no attributes can be shown without erefering the object after they are created\n",
    "print(student_1.name)\n",
    "#if we want to update an object's attribute we will have to call its address that is the constructor_name\n",
    "student_1.name = \"Abdullah\"\n",
    "print(student_1) #here the memory address was same, with updated name\n",
    "#but when we updated line 10 with Bon, the memory address was different\n",
    "#the line 10 is basically the construction operation. as we know constructor can be called only once, if we change the parameter then it will entirely create a new object in a different location. it will not update the parameters at all. compketely it will be a different object\n",
    "#so in order to update an object that has been constrcuted already, we need to refer the object with the corresponding parameter and update it\n",
    "#and it will have an updated parameter with the same address"
   ]
  },
  {
   "cell_type": "code",
   "execution_count": 17,
   "metadata": {},
   "outputs": [
    {
     "name": "stdout",
     "output_type": "stream",
     "text": [
      "abdullah 10\n"
     ]
    }
   ],
   "source": [
    "# while we printed name and id on the constructor or outside the constructor, it it tiresome\n",
    "#so we will create instance method that will create operations, which can be done with the attributes of the object that has been created in the construction method\n",
    "#methods: instant, class and static methods\n",
    "class Student:\n",
    "    def __init__(self, name,id):\n",
    "        self.name = name\n",
    "        self.id = id\n",
    "    def display(self):\n",
    "        #why add self here?because the name and id are the instance variable, which depend on the solely and we know onject and self are same in a sense\n",
    "        print(self.name,self.id)\n",
    "\n",
    "#create the object or instance\n",
    "s1 = Student(name= \"abdullah\",id=10)\n",
    "#call the method under the location of desired oject\n",
    "s1.display()\n",
    "#now unlike constructor method we can call the instant methods several times\n",
    "#think it like an operation. a same object or person can operate or do something several times\n"
   ]
  }
 ],
 "metadata": {
  "kernelspec": {
   "display_name": "base",
   "language": "python",
   "name": "python3"
  },
  "language_info": {
   "codemirror_mode": {
    "name": "ipython",
    "version": 3
   },
   "file_extension": ".py",
   "mimetype": "text/x-python",
   "name": "python",
   "nbconvert_exporter": "python",
   "pygments_lexer": "ipython3",
   "version": "3.10.9"
  },
  "orig_nbformat": 4
 },
 "nbformat": 4,
 "nbformat_minor": 2
}
