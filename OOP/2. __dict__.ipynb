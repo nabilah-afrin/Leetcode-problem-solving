{
 "cells": [
  {
   "cell_type": "code",
   "execution_count": 2,
   "metadata": {},
   "outputs": [
    {
     "name": "stdout",
     "output_type": "stream",
     "text": [
      "<__main__.Dog object at 0x0000020399D42D40>\n",
      "<__main__.Dog object at 0x0000020399D42D40>\n",
      "Black Roku is smilified\n",
      "<__main__.Dog object at 0x0000020399D42D40>\n"
     ]
    }
   ],
   "source": [
    "class Dog:\n",
    "    def __init__(self, name, color):\n",
    "        self.name = name\n",
    "        self.color = color\n",
    "    \n",
    "    def update_color(self, color ): #self must! whenever we want our object or even a single attribute of the object to be worked in an operation, self must be added\n",
    "        #creating a local variable\n",
    "        self.color = color\n",
    "    def poke(self):\n",
    "        #this method has no local variable\n",
    "        print(self.color, self.name, \"is smilified\")\n",
    "\n",
    "d1 = Dog(name= \"Roku\", color = \"Brown\")\n",
    "d1.update_color(\"Black\" )\n",
    "d1.poke()    "
   ]
  },
  {
   "cell_type": "markdown",
   "metadata": {},
   "source": [
    "### __dict__ atrribute\n",
    "<p>each object has a built in attribute, this attribute will let us see the value of these attributes as a dictionar\n",
    "\n",
    "This is called _dict_ attribute\n",
    "</p>\n",
    "\n",
    "### __dir__ attribute\n",
    "<p> this method or function will show all the built in methods and builtin attributes will be shown\n",
    "</p>"
   ]
  },
  {
   "cell_type": "code",
   "execution_count": 3,
   "metadata": {},
   "outputs": [
    {
     "name": "stdout",
     "output_type": "stream",
     "text": [
      "{'name': 'Roku', 'color': 'Black'}\n"
     ]
    }
   ],
   "source": [
    "print(d1.__dict__)"
   ]
  },
  {
   "cell_type": "code",
   "execution_count": 6,
   "metadata": {},
   "outputs": [
    {
     "name": "stdout",
     "output_type": "stream",
     "text": [
      "['__class__', '__delattr__', '__dict__', '__dir__', '__doc__', '__eq__', '__format__', '__ge__', '__getattribute__', '__gt__', '__hash__', '__init__', '__init_subclass__', '__le__', '__lt__', '__module__', '__ne__', '__new__', '__reduce__', '__reduce_ex__', '__repr__', '__setattr__', '__sizeof__', '__str__', '__subclasshook__', '__weakref__', 'color', 'name', 'poke', 'update_color']\n"
     ]
    }
   ],
   "source": [
    "print(dir(d1))"
   ]
  }
 ],
 "metadata": {
  "kernelspec": {
   "display_name": "base",
   "language": "python",
   "name": "python3"
  },
  "language_info": {
   "codemirror_mode": {
    "name": "ipython",
    "version": 3
   },
   "file_extension": ".py",
   "mimetype": "text/x-python",
   "name": "python",
   "nbconvert_exporter": "python",
   "pygments_lexer": "ipython3",
   "version": "3.10.9"
  },
  "orig_nbformat": 4
 },
 "nbformat": 4,
 "nbformat_minor": 2
}
