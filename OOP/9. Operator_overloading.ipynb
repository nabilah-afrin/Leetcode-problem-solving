{
 "cells": [
  {
   "cell_type": "markdown",
   "metadata": {},
   "source": [
    "### Operator overloading\n",
    "everything in python is basically object oriented. so when we are doing a addion/concatanate mostly operator type work they are methods under tsring or int class"
   ]
  },
  {
   "cell_type": "code",
   "execution_count": 3,
   "metadata": {},
   "outputs": [
    {
     "ename": "TypeError",
     "evalue": "unsupported operand type(s) for +: 'sum' and 'sum'",
     "output_type": "error",
     "traceback": [
      "\u001b[1;31m---------------------------------------------------------------------------\u001b[0m",
      "\u001b[1;31mTypeError\u001b[0m                                 Traceback (most recent call last)",
      "Cell \u001b[1;32mIn[3], line 7\u001b[0m\n\u001b[0;32m      5\u001b[0m num1 \u001b[39m=\u001b[39m \u001b[39msum\u001b[39m(\u001b[39m10\u001b[39m,\u001b[39m30\u001b[39m)\n\u001b[0;32m      6\u001b[0m num2 \u001b[39m=\u001b[39m \u001b[39msum\u001b[39m(\u001b[39m20\u001b[39m,\u001b[39m30\u001b[39m)\n\u001b[1;32m----> 7\u001b[0m \u001b[39mprint\u001b[39m(num1\u001b[39m+\u001b[39;49mnum2)\n",
      "\u001b[1;31mTypeError\u001b[0m: unsupported operand type(s) for +: 'sum' and 'sum'"
     ]
    }
   ],
   "source": [
    "class sum:\n",
    "    def __init__(self,x,y) -> None:\n",
    "        self.num = x+y\n",
    "    \n",
    "num1 = sum(10,30)\n",
    "num2 = sum(20,30)\n",
    "print(num1+num2)"
   ]
  },
  {
   "cell_type": "markdown",
   "metadata": {},
   "source": [
    "as we have declared the variables under a class, they will be like an object\n",
    "So when we are adding two integers they are object of int class\n",
    "here num1,num2 are not inegers even though they have value 10, or\"strinG\"\n",
    "these strings or numbers are not under string or int class\n",
    "these are under data class"
   ]
  },
  {
   "cell_type": "markdown",
   "metadata": {},
   "source": [
    "when we want to add two objects(add or concatane)\n",
    "there is a special method called __add__()"
   ]
  },
  {
   "cell_type": "code",
   "execution_count": 7,
   "metadata": {},
   "outputs": [
    {
     "name": "stdout",
     "output_type": "stream",
     "text": [
      "30\n",
      "ab\n"
     ]
    }
   ],
   "source": [
    "class sum:\n",
    "    def __init__(self,x) -> None:\n",
    "        self.x = x\n",
    "    \n",
    "    #method to add the object\n",
    "    def __add__(self, other):\n",
    "        return self.x + other.x\n",
    "    \n",
    "num1 = sum(10) \n",
    "num2 = sum(20)\n",
    "print(num1+num2) #num1.__add__(num2)\n",
    "str1 = sum(\"a\")\n",
    "str2 = sum(\"b\")\n",
    "print(str1+str2)\n"
   ]
  },
  {
   "cell_type": "markdown",
   "metadata": {},
   "source": [
    "### Greater than operator"
   ]
  },
  {
   "cell_type": "code",
   "execution_count": 8,
   "metadata": {},
   "outputs": [
    {
     "name": "stdout",
     "output_type": "stream",
     "text": [
      "num2 greater\n"
     ]
    }
   ],
   "source": [
    "class sum:\n",
    "    def __init__(self,x) -> None:\n",
    "        self.x = x\n",
    "    \n",
    "    def __gt__(self, other):\n",
    "        if (self.x > other.x):\n",
    "            return True\n",
    "        else: return False\n",
    "\n",
    "num1= sum(10) #num1 is an objext, it is not equal to 10 or sum of 10\n",
    "num2 = sum(132)\n",
    "if num1>num2:\n",
    "    print(\"num1 greater\")\n",
    "\n",
    "else:\n",
    "    print(\"num2 greater\")"
   ]
  },
  {
   "cell_type": "markdown",
   "metadata": {},
   "source": [
    "So operator overloading simply means, to use them under the class.we need to create our own methods like the built in methods in order to work them as operands not as object"
   ]
  },
  {
   "cell_type": "markdown",
   "metadata": {},
   "source": [
    "### Equal overloading"
   ]
  },
  {
   "cell_type": "code",
   "execution_count": 9,
   "metadata": {},
   "outputs": [
    {
     "name": "stdout",
     "output_type": "stream",
     "text": [
      "they are same\n"
     ]
    }
   ],
   "source": [
    "class sum:\n",
    "    def __init__(self,x) -> None:\n",
    "        self.x = x\n",
    "    \n",
    "    def __eq__(self, other: object) -> bool:\n",
    "        if (self.x == other.x): return True\n",
    "        else: return False\n",
    "    \n",
    "object_1 = sum(10)\n",
    "object_2 = sum(10)\n",
    "if object_1 == object_2: \n",
    "    print(\"they are same\")\n",
    "else: print(\"different\")\n"
   ]
  },
  {
   "cell_type": "markdown",
   "metadata": {},
   "source": [
    "if we write type(variable) it will show under which class the variable is"
   ]
  },
  {
   "cell_type": "code",
   "execution_count": 17,
   "metadata": {},
   "outputs": [
    {
     "ename": "NameError",
     "evalue": "name 'obj' is not defined",
     "output_type": "error",
     "traceback": [
      "\u001b[1;31m---------------------------------------------------------------------------\u001b[0m",
      "\u001b[1;31mNameError\u001b[0m                                 Traceback (most recent call last)",
      "Cell \u001b[1;32mIn[17], line 23\u001b[0m\n\u001b[0;32m     20\u001b[0m h1\u001b[39m.\u001b[39mview\n\u001b[0;32m     21\u001b[0m h2\u001b[39m.\u001b[39mview\n\u001b[1;32m---> 23\u001b[0m obj\u001b[39m.\u001b[39mview()\n",
      "\u001b[1;31mNameError\u001b[0m: name 'obj' is not defined"
     ]
    }
   ],
   "source": [
    "class House:\n",
    "    def __init__(self, w,d):\n",
    "        self.window = w\n",
    "        self.door = d\n",
    "    \n",
    "    def view(self):\n",
    "        print(self.window, self.door)\n",
    "        \n",
    "    def __add__(self, other):\n",
    "        new_window= self.window + other.window\n",
    "        new_door = self.door + other.door\n",
    "        #create an object as a local variable\n",
    "        obj = House(new_door,new_window)\n",
    "        return obj\n",
    "        #return \"new house has\" + str(new_window)+ \"windows and \" +str(new_door)+ \"door\"\n",
    "\n",
    "#to merge two object\n",
    "h1 = House(6,2)\n",
    "h2 = House(7,2)\n",
    "h1.view\n",
    "h2.view\n",
    "h3 = h1+h2\n",
    "h3.view()\n"
   ]
  }
 ],
 "metadata": {
  "kernelspec": {
   "display_name": "django",
   "language": "python",
   "name": "python3"
  },
  "language_info": {
   "codemirror_mode": {
    "name": "ipython",
    "version": 3
   },
   "file_extension": ".py",
   "mimetype": "text/x-python",
   "name": "python",
   "nbconvert_exporter": "python",
   "pygments_lexer": "ipython3",
   "version": "3.11.4"
  },
  "orig_nbformat": 4
 },
 "nbformat": 4,
 "nbformat_minor": 2
}
