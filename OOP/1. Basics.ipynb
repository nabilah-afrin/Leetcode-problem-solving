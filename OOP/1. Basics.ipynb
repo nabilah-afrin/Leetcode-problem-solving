{
 "cells": [
  {
   "cell_type": "markdown",
   "metadata": {},
   "source": [
    "## OPP Baisc\n",
    "two types of programming: procedural and OOP\n",
    "procedural is some specific functions and variables\n",
    "on the other hand, OOP  the variables = properties or attributes and functions to describe an object"
   ]
  },
  {
   "cell_type": "markdown",
   "metadata": {},
   "source": [
    "### Pillars of OOP\n",
    "Components: \n",
    "1. object \n",
    "2. Class\n",
    "Through class we work with rest of the properties\n",
    "\n",
    "Properties:\n",
    "\n",
    "3. Encapsulation\n",
    "4. Inheritance\n",
    "5. Polymorphism"
   ]
  },
  {
   "cell_type": "markdown",
   "metadata": {},
   "source": [
    "#### Class\n",
    "A class is a blueprint of the object created from that class\n",
    "Basically class is the template for making objects, like a framework or the blueprint\n",
    "A class contains - fields(variables) and methods(functions)"
   ]
  },
  {
   "cell_type": "markdown",
   "metadata": {},
   "source": [
    "#### Object\n",
    "the actual entity created from the class\n",
    "each instance is basically\n",
    "Objects are the variables of the type class(under which class the object belongs)"
   ]
  },
  {
   "cell_type": "markdown",
   "metadata": {},
   "source": [
    "#### Constructor\n",
    "1. Whenever we want to create an object we define a built in method called constructor to ititalize each instance of the class\n",
    "2. a constructor can be called once, because it basically declaring all the attributes a class has\n",
    "3. If we create 4 objects, the class constructor will be called 4 ttimes\n",
    "- Non Parametrized constructor (default)\n",
    "- Paremeterized constructor"
   ]
  },
  {
   "cell_type": "markdown",
   "metadata": {},
   "source": [
    "##### Python _init (the constructor)\n",
    "\n",
    "self is the keyword that is a  address of each object, each object will have fixed address in the memory loacation.\n",
    ">>init will take self and other parameters\n",
    ">>but self is the by default\n",
    ">>>when we dont write the init method, it is called default or non parameterized constructure\n",
    ">>> the costructor will be created by default in the backend of python, but hidden as no _init_\n",
    "\n",
    "default or non parameterized constructure\n",
    "```python\n",
    "class Employee:\n",
    "    pass\n",
    "em1= Employee() the datatype of em1 is employee class\n",
    "em2= Employee() same as em1\n",
    "```\n",
    ">>> backend or default that we call exteranlly define\n",
    "```python\n",
    "class Employee:\n",
    "    def __init__(self):\n",
    "        print(\"Employee object initialized\")\n",
    "em1= Employee() \n",
    "# output--------------------------------\n",
    "# Employee object has been initialized\n",
    "```\n",
    ">>>  here the emp1 is being received in the class through self\n",
    "\n",
    "##### Python parametrized constructor\n",
    ">>> it has multiple parameters along with **self**\n",
    ">>> it accepts the argument during object creation\n",
    "```python\n",
    "class Employee:\n",
    "    #parameterized constructor\n",
    "    def __init__(self, name):\n",
    "        self.name = name #instance variable\n",
    "        print(self.name, \"created\")\n",
    "em1 = Employee(\"John\") #Instance 1\n",
    "# output--------------------------------\n",
    "# John created\n",
    "```"
   ]
  },
  {
   "cell_type": "markdown",
   "metadata": {},
   "source": [
    "#### Instance Method\n",
    "1. This method requires an object of its class to be created befor the instance method can be called, that means the constructor method have to be created first\n",
    "2. The method can be called with the refernce of the object\n",
    "3. Each instance method will have self keyword, self keyword will allow to access the each variables of the object"
   ]
  },
  {
   "cell_type": "code",
   "execution_count": 1,
   "metadata": {},
   "outputs": [
    {
     "name": "stdout",
     "output_type": "stream",
     "text": [
      "John 32\n"
     ]
    }
   ],
   "source": [
    "class Employee:\n",
    "    def __init__(self, name, no):\n",
    "        #create instance variables\n",
    "        self.no = no\n",
    "        self.name = name\n",
    "    \n",
    "    #Instance method to see the object got stored correctly\n",
    "    def display(self):\n",
    "        print(self.name, self.no)\n",
    "\n",
    "em1 = Employee(\"John\", 32) #object got created through the constrcutor, this basically the implementation of the constrcuor method\n",
    "#but instance methods can be implemented only when the object is referred first\n",
    "em1.display()"
   ]
  }
 ],
 "metadata": {
  "kernelspec": {
   "display_name": "base",
   "language": "python",
   "name": "python3"
  },
  "language_info": {
   "codemirror_mode": {
    "name": "ipython",
    "version": 3
   },
   "file_extension": ".py",
   "mimetype": "text/x-python",
   "name": "python",
   "nbconvert_exporter": "python",
   "pygments_lexer": "ipython3",
   "version": "3.10.9"
  },
  "orig_nbformat": 4
 },
 "nbformat": 4,
 "nbformat_minor": 2
}
