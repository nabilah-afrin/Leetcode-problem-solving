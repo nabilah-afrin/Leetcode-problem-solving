{
 "cells": [
  {
   "cell_type": "markdown",
   "metadata": {},
   "source": [
    "### Import class\n",
    "we need multiple class, in order to avoid reptition"
   ]
  },
  {
   "cell_type": "code",
   "execution_count": 1,
   "metadata": {},
   "outputs": [
    {
     "ename": "ModuleNotFoundError",
     "evalue": "No module named 'Book'",
     "output_type": "error",
     "traceback": [
      "\u001b[1;31m---------------------------------------------------------------------------\u001b[0m",
      "\u001b[1;31mModuleNotFoundError\u001b[0m                       Traceback (most recent call last)",
      "Cell \u001b[1;32mIn[1], line 3\u001b[0m\n\u001b[0;32m      1\u001b[0m \u001b[39m#from folder_name import class_name\u001b[39;00m\n\u001b[0;32m      2\u001b[0m \u001b[39m#when in same director, just import the class name by inputting python file\u001b[39;00m\n\u001b[1;32m----> 3\u001b[0m \u001b[39mimport\u001b[39;00m \u001b[39mBook\u001b[39;00m\n\u001b[0;32m      4\u001b[0m b1 \u001b[39m=\u001b[39m Book\u001b[39m.\u001b[39mBook(\u001b[39m\"\u001b[39m\u001b[39mC&M\u001b[39m\u001b[39m\"\u001b[39m, \u001b[39m\"\u001b[39m\u001b[39mDostovesky\u001b[39m\u001b[39m\"\u001b[39m)\n\u001b[0;32m      5\u001b[0m b1\u001b[39m.\u001b[39mset_price(\u001b[39m10\u001b[39m)\n",
      "\u001b[1;31mModuleNotFoundError\u001b[0m: No module named 'Book'"
     ]
    }
   ],
   "source": [
    "#from folder_name import class_name\n",
    "#when in same director, just import the class name by inputting python file\n",
    "from OOP import Book #file_name\n",
    "b1 = Book.Book(\"C&M\", \"Dostovesky\") #File_name.class_name\n",
    "b1.set_price(10)\n",
    "print(b1.get_price())\n",
    "b1.deat.islower()"
   ]
  }
 ],
 "metadata": {
  "kernelspec": {
   "display_name": "base",
   "language": "python",
   "name": "python3"
  },
  "language_info": {
   "codemirror_mode": {
    "name": "ipython",
    "version": 3
   },
   "file_extension": ".py",
   "mimetype": "text/x-python",
   "name": "python",
   "nbconvert_exporter": "python",
   "pygments_lexer": "ipython3",
   "version": "3.10.9"
  },
  "orig_nbformat": 4
 },
 "nbformat": 4,
 "nbformat_minor": 2
}
