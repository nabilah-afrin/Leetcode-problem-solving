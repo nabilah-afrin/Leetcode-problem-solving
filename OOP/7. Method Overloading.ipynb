{
 "cells": [
  {
   "cell_type": "code",
   "execution_count": 3,
   "metadata": {},
   "outputs": [
    {
     "ename": "TypeError",
     "evalue": "Calculator.product() missing 1 required positional argument: 'num3'",
     "output_type": "error",
     "traceback": [
      "\u001b[1;31m---------------------------------------------------------------------------\u001b[0m",
      "\u001b[1;31mTypeError\u001b[0m                                 Traceback (most recent call last)",
      "Cell \u001b[1;32mIn[3], line 10\u001b[0m\n\u001b[0;32m      8\u001b[0m \u001b[39m#create the object using default constructor\u001b[39;00m\n\u001b[0;32m      9\u001b[0m c1 \u001b[39m=\u001b[39m Calculator()\n\u001b[1;32m---> 10\u001b[0m c1\u001b[39m.\u001b[39;49mproduct(\u001b[39m1\u001b[39;49m,\u001b[39m2\u001b[39;49m)\n\u001b[0;32m     11\u001b[0m c1\u001b[39m.\u001b[39mproduct(\u001b[39m1\u001b[39m,\u001b[39m3\u001b[39m)\n",
      "\u001b[1;31mTypeError\u001b[0m: Calculator.product() missing 1 required positional argument: 'num3'"
     ]
    }
   ],
   "source": [
    "class Calculator:\n",
    "    #not working with constructor, it will be default\n",
    "    def product(self, num1, num2):\n",
    "        print(num1*num2)\n",
    "    def product(self, num1, num2,num3):\n",
    "        print(num1*num2)\n",
    "\n",
    "#create the object using default constructor\n",
    "c1 = Calculator()\n",
    "c1.product(1,2)\n",
    "c1.product(1,3)\n"
   ]
  },
  {
   "cell_type": "markdown",
   "metadata": {},
   "source": [
    "In python we cannot create sem method under the sem class. if we create two methods with same name but different parameters; it will save the last method and when we want to call the method we have to look over the last method's parameter numbers\n",
    "For other languages, in a class, when method will habve same name with different parameters it is called method overloading. method overloading is possible for other languages\n",
    "But it is not impossible to do method overloading in python"
   ]
  },
  {
   "cell_type": "code",
   "execution_count": 4,
   "metadata": {},
   "outputs": [
    {
     "name": "stdout",
     "output_type": "stream",
     "text": [
      "1 2\n",
      "1 3 6\n"
     ]
    }
   ],
   "source": [
    "class Calculator:\n",
    "    #not working with constructor, it will be default\n",
    "    \n",
    "    def product(self, num1, num2 = None,num3 =None):\n",
    "        if num1!= None and num2!= None and num3!= None:\n",
    "            print(num1, num2, num3)\n",
    "        elif num1 != None and num2 != None:\n",
    "            print(num1, num2)\n",
    "        else:\n",
    "            print(num1)\n",
    "\n",
    "#create the object using default constructor\n",
    "c1 = Calculator()\n",
    "c1.product(1,2)\n",
    "c1.product(1,3,6)"
   ]
  },
  {
   "cell_type": "markdown",
   "metadata": {},
   "source": [
    "But when we are working with multiple variables, we will use asterisks.\n",
    "Adding the asterisks, the variables will be received as tuples with: so the parameter will be a tupple here"
   ]
  },
  {
   "cell_type": "code",
   "execution_count": 2,
   "metadata": {},
   "outputs": [
    {
     "name": "stdout",
     "output_type": "stream",
     "text": [
      "(1, 2)\n"
     ]
    },
    {
     "ename": "TypeError",
     "evalue": "unsupported operand type(s) for +=: 'int' and 'tuple'",
     "output_type": "error",
     "traceback": [
      "\u001b[1;31m---------------------------------------------------------------------------\u001b[0m",
      "\u001b[1;31mTypeError\u001b[0m                                 Traceback (most recent call last)",
      "Cell \u001b[1;32mIn[2], line 16\u001b[0m\n\u001b[0;32m     14\u001b[0m \u001b[39m#create the object using default constructor\u001b[39;00m\n\u001b[0;32m     15\u001b[0m c1 \u001b[39m=\u001b[39m Calculator()\n\u001b[1;32m---> 16\u001b[0m c1\u001b[39m.\u001b[39;49mproduct(\u001b[39m1\u001b[39;49m,\u001b[39m2\u001b[39;49m)\n\u001b[0;32m     17\u001b[0m c1\u001b[39m.\u001b[39mproduct(\u001b[39m1\u001b[39m,\u001b[39m3\u001b[39m,\u001b[39m6\u001b[39m)\n",
      "Cell \u001b[1;32mIn[2], line 10\u001b[0m, in \u001b[0;36mCalculator.product\u001b[1;34m(self, *nums)\u001b[0m\n\u001b[0;32m      8\u001b[0m \u001b[39mfor\u001b[39;00m i \u001b[39min\u001b[39;00m nums:\n\u001b[0;32m      9\u001b[0m     num\u001b[39m.\u001b[39mappend(nums)\n\u001b[1;32m---> 10\u001b[0m     \u001b[39msum\u001b[39m \u001b[39m+\u001b[39m\u001b[39m=\u001b[39m nums\n\u001b[0;32m     11\u001b[0m \u001b[39mprint\u001b[39m(\u001b[39msum\u001b[39m)\n",
      "\u001b[1;31mTypeError\u001b[0m: unsupported operand type(s) for +=: 'int' and 'tuple'"
     ]
    }
   ],
   "source": [
    "class Calculator:\n",
    "    \n",
    "    def product(self, *nums):\n",
    "        num = []\n",
    "        sum = 0\n",
    "        print(nums)\n",
    "        for i in nums:\n",
    "            num.append(nums)\n",
    "            sum += nums\n",
    "        print(sum)\n",
    "\n",
    "#create the object using default constructor\n",
    "c1 = Calculator()\n",
    "c1.product(1,2)\n",
    "c1.product(1,3,6)"
   ]
  },
  {
   "cell_type": "code",
   "execution_count": 3,
   "metadata": {},
   "outputs": [
    {
     "name": "stdout",
     "output_type": "stream",
     "text": [
      "Numbers: [1, 2]\n",
      "Product: 2\n",
      "Sum: 3\n",
      "Numbers: [1, 2, 1, 3, 6]\n",
      "Product: 18\n",
      "Sum: 10\n"
     ]
    }
   ],
   "source": [
    "class Calculator:\n",
    "    def __init__(self):\n",
    "        self.numbers = []  # Initialize an empty list to store numbers\n",
    "    \n",
    "    def product(self, *nums):\n",
    "        product_result = 1  # Initialize the product result with 1 for multiplication\n",
    "        sum_result = 0  # Initialize the sum result with 0\n",
    "        \n",
    "        for num in nums:\n",
    "            self.numbers.append(num)  # Add the number to the list\n",
    "            product_result *= num  # Multiply each number with the product result\n",
    "            sum_result += num  # Add each number to the sum result\n",
    "        \n",
    "        print(\"Numbers:\", self.numbers)\n",
    "        print(\"Product:\", product_result)\n",
    "        print(\"Sum:\", sum_result)\n",
    "\n",
    "# Create the object using the default constructor\n",
    "c1 = Calculator()\n",
    "c1.product(1, 2)\n",
    "c1.product(1, 3, 6)\n"
   ]
  }
 ],
 "metadata": {
  "kernelspec": {
   "display_name": "base",
   "language": "python",
   "name": "python3"
  },
  "language_info": {
   "codemirror_mode": {
    "name": "ipython",
    "version": 3
   },
   "file_extension": ".py",
   "mimetype": "text/x-python",
   "name": "python",
   "nbconvert_exporter": "python",
   "pygments_lexer": "ipython3",
   "version": "3.10.9"
  },
  "orig_nbformat": 4
 },
 "nbformat": 4,
 "nbformat_minor": 2
}
