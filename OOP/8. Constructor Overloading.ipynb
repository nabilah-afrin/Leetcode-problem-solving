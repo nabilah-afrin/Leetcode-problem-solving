{
 "cells": [
  {
   "cell_type": "code",
   "execution_count": 3,
   "metadata": {},
   "outputs": [
    {
     "ename": "TypeError",
     "evalue": "Student.__init__() missing 1 required positional argument: 'age'",
     "output_type": "error",
     "traceback": [
      "\u001b[1;31m---------------------------------------------------------------------------\u001b[0m",
      "\u001b[1;31mTypeError\u001b[0m                                 Traceback (most recent call last)",
      "Cell \u001b[1;32mIn[3], line 12\u001b[0m\n\u001b[0;32m      9\u001b[0m         \u001b[39mself\u001b[39m\u001b[39m.\u001b[39mage \u001b[39m=\u001b[39m age\n\u001b[0;32m     11\u001b[0m s1\u001b[39m=\u001b[39m Student(\u001b[39m\"\u001b[39m\u001b[39maja\u001b[39m\u001b[39m\"\u001b[39m,\u001b[39m12\u001b[39m,\u001b[39m26\u001b[39m)\n\u001b[1;32m---> 12\u001b[0m s2 \u001b[39m=\u001b[39m Student(\u001b[39m\"\u001b[39;49m\u001b[39maja\u001b[39;49m\u001b[39m\"\u001b[39;49m,\u001b[39m12\u001b[39;49m)\n",
      "\u001b[1;31mTypeError\u001b[0m: Student.__init__() missing 1 required positional argument: 'age'"
     ]
    }
   ],
   "source": [
    "class Student:\n",
    "    def __init__(self,name,id):\n",
    "        self.name = name\n",
    "        self.id = id\n",
    "    \n",
    "    def __init__(self, name,id,age):\n",
    "        self.name = name\n",
    "        self.id = id\n",
    "        self.age = age\n",
    "\n",
    "s1= Student(\"aja\",12,26)\n",
    "s2 = Student(\"aja\",12)"
   ]
  },
  {
   "cell_type": "code",
   "execution_count": null,
   "metadata": {},
   "outputs": [],
   "source": [
    "class Student:\n",
    "    def __init__(self,name,id):\n",
    "        self.name = name\n",
    "        self.id = id\n",
    "    \n",
    "    def __init__(self, name,id,age):\n",
    "        self.name = name\n",
    "        self.id = id\n",
    "        self.age = age\n",
    "\n",
    "s1= Student(\"aja\",12,26)\n",
    "s2 = Student(\"aja\",12)"
   ]
  },
  {
   "cell_type": "markdown",
   "metadata": {},
   "source": [
    "### Constrcutor overloading"
   ]
  },
  {
   "cell_type": "markdown",
   "metadata": {},
   "source": [
    "#### Default Arguments:\n",
    "Default argument values in a single constructor can be used to achieve a form of constructor overloading."
   ]
  },
  {
   "cell_type": "code",
   "execution_count": 4,
   "metadata": {},
   "outputs": [],
   "source": [
    "class MyClass:\n",
    "    def __init__(self, param1=None, param2=None):\n",
    "        if param1 is None and param2 is None:\n",
    "            # Default constructor behavior\n",
    "            pass\n",
    "        elif param2 is None:\n",
    "            # Constructor with one parameter\n",
    "            pass\n",
    "        else:\n",
    "            # Constructor with both parameters\n",
    "            pass\n"
   ]
  },
  {
   "cell_type": "markdown",
   "metadata": {},
   "source": [
    "#### Classmethods as Constructors:\n",
    "You can use class methods to create alternative constructors. These methods can have different names and take different parameter sets."
   ]
  },
  {
   "cell_type": "code",
   "execution_count": 6,
   "metadata": {},
   "outputs": [],
   "source": [
    "class MyClass:\n",
    "    def __init__(self, value):\n",
    "        self.value = value\n",
    "    @classmethod\n",
    "    def from_string(cls, string_value):\n",
    "        # Parse the string and return an instance\n",
    "        return cls(int(string_value))\n",
    "obj1 = MyClass(42)\n",
    "obj2 = MyClass.from_string(\"123\")"
   ]
  }
 ],
 "metadata": {
  "kernelspec": {
   "display_name": "django",
   "language": "python",
   "name": "python3"
  },
  "language_info": {
   "codemirror_mode": {
    "name": "ipython",
    "version": 3
   },
   "file_extension": ".py",
   "mimetype": "text/x-python",
   "name": "python",
   "nbconvert_exporter": "python",
   "pygments_lexer": "ipython3",
   "version": "3.11.4"
  },
  "orig_nbformat": 4
 },
 "nbformat": 4,
 "nbformat_minor": 2
}
