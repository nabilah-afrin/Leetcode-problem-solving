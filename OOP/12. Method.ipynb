{
 "cells": [
  {
   "cell_type": "code",
   "execution_count": null,
   "metadata": {},
   "outputs": [],
   "source": []
  },
  {
   "cell_type": "markdown",
   "metadata": {},
   "source": [
    "### Method types\n",
    "- Instance method\n",
    "- Class Method\n",
    "- Static Method"
   ]
  },
  {
   "cell_type": "markdown",
   "metadata": {},
   "source": [
    "#### Instance method \n",
    "- Must call the function with an object's reference\n",
    "- they can access instance through `self` under the class\n",
    "- instance methods take more than one parameter\n",
    "```python\n",
    "class MyClass:\n",
    "    def __init__(self,---):\n",
    "        ----\n",
    "    def instance_method(self):\n",
    "        print(self.---)\n",
    "#craete instance object\n",
    "object_variable.instance_method()\n",
    "```\n",
    "\n",
    "\n"
   ]
  },
  {
   "cell_type": "markdown",
   "metadata": {},
   "source": [
    "### Class Method\n",
    "class method can be called before creating the object \n",
    "usee decorator(@) @classmethod\n",
    "class method wont take any self keyword parameter, but we can call the class method using the the object reference\n",
    "it cant modify the state of the object\n"
   ]
  },
  {
   "cell_type": "code",
   "execution_count": 3,
   "metadata": {},
   "outputs": [
    {
     "name": "stdout",
     "output_type": "stream",
     "text": [
      "google\n"
     ]
    }
   ],
   "source": [
    "class Employye:\n",
    "    #static variable\n",
    "    org_name= \"google\"\n",
    "    def __init__(self,name) -> None:\n",
    "        self.name = name\n",
    "    @classmethod\n",
    "    def info(cls):\n",
    "        return cls.org_name\n",
    "#we call the class method using the class reference   \n",
    "print(Employye.info())"
   ]
  },
  {
   "cell_type": "markdown",
   "metadata": {},
   "source": [
    "#### Static method\n",
    "it is like a class method but it wont take neither self or cls method\n",
    "we declare it with `@staticmethod`\n",
    "it cannot modify any object or class state\n",
    "to do something extra with the class we use static method\n",
    "they are generally used to create utitility functions\n"
   ]
  },
  {
   "cell_type": "code",
   "execution_count": 5,
   "metadata": {},
   "outputs": [
    {
     "ename": "NameError",
     "evalue": "name 'Student' is not defined",
     "output_type": "error",
     "traceback": [
      "\u001b[1;31m---------------------------------------------------------------------------\u001b[0m",
      "\u001b[1;31mNameError\u001b[0m                                 Traceback (most recent call last)",
      "Cell \u001b[1;32mIn[5], line 10\u001b[0m\n\u001b[0;32m      8\u001b[0m         \u001b[39mprint\u001b[39m(\u001b[39m\"\u001b[39m\u001b[39mThis is an employee class\u001b[39m\u001b[39m\"\u001b[39m)\n\u001b[0;32m      9\u001b[0m \u001b[39m#we call the class method using the class reference   \u001b[39;00m\n\u001b[1;32m---> 10\u001b[0m Student\u001b[39m.\u001b[39minfo()\n",
      "\u001b[1;31mNameError\u001b[0m: name 'Student' is not defined"
     ]
    }
   ],
   "source": [
    "class Employye:\n",
    "    #static variable\n",
    "    org_name= \"google\"\n",
    "    def __init__(self,name) -> None:\n",
    "        self.name = name\n",
    "    @staticmethod\n",
    "    #no need to assign any parameters\n",
    "    def info():\n",
    "        print(\"This is an employee class\")\n",
    "#we call the class method using the class reference   \n",
    "Student.info()"
   ]
  }
 ],
 "metadata": {
  "kernelspec": {
   "display_name": "base",
   "language": "python",
   "name": "python3"
  },
  "language_info": {
   "codemirror_mode": {
    "name": "ipython",
    "version": 3
   },
   "file_extension": ".py",
   "mimetype": "text/x-python",
   "name": "python",
   "nbconvert_exporter": "python",
   "pygments_lexer": "ipython3",
   "version": "3.10.9"
  },
  "orig_nbformat": 4
 },
 "nbformat": 4,
 "nbformat_minor": 2
}
