{
 "cells": [
  {
   "cell_type": "code",
   "execution_count": 7,
   "metadata": {},
   "outputs": [
    {
     "name": "stdout",
     "output_type": "stream",
     "text": [
      "name :  Bob ID: 10\n",
      "name :  Bob ID: -10\n"
     ]
    }
   ],
   "source": [
    "class Student:\n",
    "    def __init__(self, name, id):\n",
    "        self.name = name\n",
    "        self.id = id\n",
    "    def details(self):\n",
    "        print(\"name : \" ,self.name, \"ID:\" ,self.id )\n",
    "\n",
    "s1 = Student(\"Bob\", 10)\n",
    "s1.id = 10\n",
    "s1.details()\n",
    "s1.id = -10\n",
    "s1.details()\n",
    "s1.id = \"sdsds\""
   ]
  },
  {
   "cell_type": "markdown",
   "metadata": {},
   "source": [
    "This shows that, we can change an object's attribute value outside the class. Which might be risky. The attributes are accessed directly.\n",
    "In order to prevent that, to block it from user to access the data we use `Encapsulaation`"
   ]
  },
  {
   "cell_type": "markdown",
   "metadata": {},
   "source": [
    "In other language , we can declare variable or method as public or private protected which are called access modifier in java\n",
    "in order to do that in python, when we dont want attriibbutes or methods to be accessed outside the class thats called Encapsulation\n",
    "To Encapsulate a varibale we use double underscore, "
   ]
  },
  {
   "cell_type": "code",
   "execution_count": 17,
   "metadata": {},
   "outputs": [
    {
     "name": "stdout",
     "output_type": "stream",
     "text": [
      "name :  Bob ID: 10\n",
      "name :  Bob ID: 10\n"
     ]
    },
    {
     "ename": "TypeError",
     "evalue": "'>' not supported between instances of 'builtin_function_or_method' and 'int'",
     "output_type": "error",
     "traceback": [
      "\u001b[1;31m---------------------------------------------------------------------------\u001b[0m",
      "\u001b[1;31mTypeError\u001b[0m                                 Traceback (most recent call last)",
      "Cell \u001b[1;32mIn[17], line 23\u001b[0m\n\u001b[0;32m     21\u001b[0m s1\u001b[39m.\u001b[39mdetails()\n\u001b[0;32m     22\u001b[0m \u001b[39m#it will print id as 10 still\u001b[39;00m\n\u001b[1;32m---> 23\u001b[0m s1\u001b[39m.\u001b[39;49mupdate_ID(\u001b[39m12\u001b[39;49m)\n",
      "Cell \u001b[1;32mIn[17], line 10\u001b[0m, in \u001b[0;36mStudent.update_ID\u001b[1;34m(self, ID)\u001b[0m\n\u001b[0;32m      9\u001b[0m \u001b[39mdef\u001b[39;00m \u001b[39mupdate_ID\u001b[39m(\u001b[39mself\u001b[39m, ID):\n\u001b[1;32m---> 10\u001b[0m     \u001b[39mif\u001b[39;00m (\u001b[39mid\u001b[39;49m\u001b[39m>\u001b[39;49m \u001b[39m0\u001b[39;49m):\n\u001b[0;32m     11\u001b[0m         \u001b[39mself\u001b[39m\u001b[39m.\u001b[39m__id \u001b[39m=\u001b[39m \u001b[39mid\u001b[39m\n\u001b[0;32m     13\u001b[0m     \u001b[39melse\u001b[39;00m:\n",
      "\u001b[1;31mTypeError\u001b[0m: '>' not supported between instances of 'builtin_function_or_method' and 'int'"
     ]
    }
   ],
   "source": [
    "class Student:\n",
    "    def __init__(self, name, id):\n",
    "        self.name = name\n",
    "        self.__id = id #private instance varibale\n",
    "    def details(self):\n",
    "        print(\"name : \" ,self.name, \"ID:\" ,self.__id )\n",
    "    \n",
    "    #but we can update under the class through method\n",
    "    def update_ID(self, ID):\n",
    "        if (id> 0):\n",
    "            self.__id = id\n",
    "        \n",
    "        else:\n",
    "            print(\"invalid id\")\n",
    "\n",
    "s1 = Student(\"Bob\", 10)\n",
    "s1.details()\n",
    "#print(s1.__id)\n",
    "s1.__id = 12\n",
    "#this will be unnecsery and it will create another address in this case\n",
    "s1.details()\n",
    "#it will print id as 10 still\n",
    "s1.update_ID(12)\n"
   ]
  },
  {
   "cell_type": "markdown",
   "metadata": {},
   "source": [
    "### Private method"
   ]
  },
  {
   "cell_type": "code",
   "execution_count": 2,
   "metadata": {},
   "outputs": [
    {
     "name": "stdout",
     "output_type": "stream",
     "text": [
      "name :  Bob ID: 10\n"
     ]
    },
    {
     "ename": "TypeError",
     "evalue": "Student.__update_ID() missing 1 required positional argument: 'ID'",
     "output_type": "error",
     "traceback": [
      "\u001b[1;31m---------------------------------------------------------------------------\u001b[0m",
      "\u001b[1;31mTypeError\u001b[0m                                 Traceback (most recent call last)",
      "Cell \u001b[1;32mIn[2], line 18\u001b[0m\n\u001b[0;32m     15\u001b[0m             \u001b[39mprint\u001b[39m(\u001b[39m\"\u001b[39m\u001b[39minvalid id\u001b[39m\u001b[39m\"\u001b[39m)\n\u001b[0;32m     17\u001b[0m s1 \u001b[39m=\u001b[39m Student(\u001b[39m\"\u001b[39m\u001b[39mBob\u001b[39m\u001b[39m\"\u001b[39m, \u001b[39m10\u001b[39m)\n\u001b[1;32m---> 18\u001b[0m s1\u001b[39m.\u001b[39;49mdetails()\n\u001b[0;32m     19\u001b[0m \u001b[39m#print(s1.__id)\u001b[39;00m\n\u001b[0;32m     20\u001b[0m s1\u001b[39m.\u001b[39m__id \u001b[39m=\u001b[39m \u001b[39m12\u001b[39m\n",
      "Cell \u001b[1;32mIn[2], line 7\u001b[0m, in \u001b[0;36mStudent.details\u001b[1;34m(self)\u001b[0m\n\u001b[0;32m      5\u001b[0m \u001b[39mdef\u001b[39;00m \u001b[39mdetails\u001b[39m(\u001b[39mself\u001b[39m):\n\u001b[0;32m      6\u001b[0m     \u001b[39mprint\u001b[39m(\u001b[39m\"\u001b[39m\u001b[39mname : \u001b[39m\u001b[39m\"\u001b[39m ,\u001b[39mself\u001b[39m\u001b[39m.\u001b[39mname, \u001b[39m\"\u001b[39m\u001b[39mID:\u001b[39m\u001b[39m\"\u001b[39m ,\u001b[39mself\u001b[39m\u001b[39m.\u001b[39m__id )\n\u001b[1;32m----> 7\u001b[0m     \u001b[39mself\u001b[39;49m\u001b[39m.\u001b[39;49m__update_ID()\n",
      "\u001b[1;31mTypeError\u001b[0m: Student.__update_ID() missing 1 required positional argument: 'ID'"
     ]
    }
   ],
   "source": [
    "class Student:\n",
    "    def __init__(self, name, id):\n",
    "        self.name = name\n",
    "        self.__id = id #private instance varibale\n",
    "    def details(self):\n",
    "        print(\"name : \" ,self.name, \"ID:\" ,self.__id )\n",
    "        self.__update_ID()\n",
    "    \n",
    "    #but we can update under the class through method\n",
    "    def __update_ID(self, ID):\n",
    "        if (id> 0):\n",
    "            self.__id = ID\n",
    "        \n",
    "        else:\n",
    "            print(\"invalid id\")\n",
    "\n",
    "s1 = Student(\"Bob\", 10)\n",
    "s1.details()\n",
    "#print(s1.__id)\n",
    "s1.__id = 12\n",
    "#this will be unnecsery and it will create another address in this case\n",
    "s1.details()\n",
    "#it will print id as 10 still\n",
    "#"
   ]
  }
 ],
 "metadata": {
  "kernelspec": {
   "display_name": "django",
   "language": "python",
   "name": "python3"
  },
  "language_info": {
   "codemirror_mode": {
    "name": "ipython",
    "version": 3
   },
   "file_extension": ".py",
   "mimetype": "text/x-python",
   "name": "python",
   "nbconvert_exporter": "python",
   "pygments_lexer": "ipython3",
   "version": "3.11.4"
  },
  "orig_nbformat": 4
 },
 "nbformat": 4,
 "nbformat_minor": 2
}
