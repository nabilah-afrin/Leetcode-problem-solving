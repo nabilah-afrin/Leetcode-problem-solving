{
 "cells": [
  {
   "cell_type": "code",
   "execution_count": 5,
   "metadata": {},
   "outputs": [
    {
     "name": "stdout",
     "output_type": "stream",
     "text": [
      "method inside: 59\n",
      "method inside ['Green', 'miku', 'tiku']\n",
      "different\n"
     ]
    }
   ],
   "source": [
    "class Cat:\n",
    "    def __init__(self, name, action):\n",
    "        self.name = name\n",
    "        self.action = action\n",
    "    \n",
    "    def view(self, num, names):\n",
    "        num = num + 4\n",
    "        name_1 = names\n",
    "        names[0] = \"Green\"\n",
    "        print(\"method inside:\" , num)\n",
    "        print(\"method inside\", names)    \n",
    "    def compare(self,another_cat):\n",
    "        if self.action == another_cat.action:\n",
    "            print(\"both cats are\", self.action)\n",
    "        else:\n",
    "            print(\"different\")\n",
    "\n",
    "#pass by reference\n",
    "cat_1 = Cat(name=\"Roku\", action=\"sleeping\")\n",
    "cat_2 = Cat(name=\"kiku\", action=\"laughing\")\n",
    "cat_1.compare(cat_2)\n",
    "\n",
    "#pass by value\n",
    "#craete a mutable sequence\n",
    "nm = [\"goku\", \"miku\", \"tiku\"]\n",
    "x = 55\n",
    "cat_1.view(55, nm)"
   ]
  },
  {
   "cell_type": "markdown",
   "metadata": {},
   "source": [
    "### Pass by Reference\n",
    "here the object is not going altogether, just the location of the cat2\n",
    "pass by refernce will let us access cat_2 address \n",
    "\n",
    "### Pass by Value"
   ]
  },
  {
   "cell_type": "code",
   "execution_count": null,
   "metadata": {},
   "outputs": [],
   "source": []
  }
 ],
 "metadata": {
  "kernelspec": {
   "display_name": "base",
   "language": "python",
   "name": "python3"
  },
  "language_info": {
   "codemirror_mode": {
    "name": "ipython",
    "version": 3
   },
   "file_extension": ".py",
   "mimetype": "text/x-python",
   "name": "python",
   "nbconvert_exporter": "python",
   "pygments_lexer": "ipython3",
   "version": "3.10.9"
  },
  "orig_nbformat": 4
 },
 "nbformat": 4,
 "nbformat_minor": 2
}
