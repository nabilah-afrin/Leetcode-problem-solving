{
 "cells": [
  {
   "cell_type": "code",
   "execution_count": 2,
   "metadata": {},
   "outputs": [
    {
     "name": "stdout",
     "output_type": "stream",
     "text": [
      "20\n"
     ]
    }
   ],
   "source": [
    "given_number = int(input())\n",
    "\n",
    "result = lambda x:x*given_number\n",
    "print(result(10))\n"
   ]
  },
  {
   "cell_type": "code",
   "execution_count": 1,
   "metadata": {},
   "outputs": [],
   "source": [
    "#Write a Python program to count the even, odd numbers in a given array of integers using Lambda.\n",
    "length = int(input())\n",
    "array = []\n",
    "for i in range(length):\n",
    "    number = int(input())\n",
    "    array.append(number)\n",
    "\n",
    "even_count = len(list(filter(lambda x: x % 2 == 0, array)))\n"
   ]
  }
 ],
 "metadata": {
  "kernelspec": {
   "display_name": "FaceRecog",
   "language": "python",
   "name": "python3"
  },
  "language_info": {
   "codemirror_mode": {
    "name": "ipython",
    "version": 3
   },
   "file_extension": ".py",
   "mimetype": "text/x-python",
   "name": "python",
   "nbconvert_exporter": "python",
   "pygments_lexer": "ipython3",
   "version": "3.11.5"
  }
 },
 "nbformat": 4,
 "nbformat_minor": 2
}
