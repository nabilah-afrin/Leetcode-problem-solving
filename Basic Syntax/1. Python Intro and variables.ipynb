{
 "cells": [
  {
   "cell_type": "markdown",
   "metadata": {},
   "source": [
    "# Theory"
   ]
  },
  {
   "cell_type": "markdown",
   "metadata": {},
   "source": [
    "## What is Python\n",
    "\tPython is a general purpose, dynamic, high-level, and interpreted programming language.\n",
    "\n",
    "\tIt supports Object Oriented programming approach to develop applications.\n",
    "\n",
    "\tPython's syntax and dynamic typing.\n",
    "\n",
    "\tPython supports multiple programming pattern, including object-oriented, imperative, and functional or procedural programming styles.\n",
    "\n",
    "\tWe don't need to use data types to declare variable because it is dynamically typed so we can write num = 10 to assign an integer value in an integer variable."
   ]
  },
  {
   "cell_type": "markdown",
   "metadata": {},
   "source": [
    "#### footnotes\n",
    "<p>There are two types of programming. •\tImperative programming and •\tDeclarative programming</p>\n",
    "•\tImperative programming:\n",
    "\n",
    "* \t_Procedural programming_: C, Pascal, BASIC\n",
    "*\t_Object-oriented programming_: Java, C++, Python\n",
    "\n",
    "•\tDeclarative programming:\n",
    "\n",
    "*\t_Functional programming_: Haskell, Lisp, Erlang\n",
    "*\t_Logic programming_: Prolog\n",
    "*\t_Database programming_: SQL\n",
    "\n",
    " *Declarative programming*  is a style of programming that describes what the program should do, rather than how it should do it. expresses the logic of a computation without describing its control flow. It focuses on what the program should accomplish, rather than how to achieve it.\n",
    " This is in contrast to imperative programming, which tells the computer step-by-step what to do.\n",
    "\n",
    "\n",
    "often easier to read and understand than imperative programming languages, because they are closer to natural language. They can also be more efficient, because the compiler can optimize the code without having to worry about the specific order in which the statements are executed.\n",
    "\n",
    "*Imperative*: changes the state of the program during execution\n",
    "-\tProcedural: program organizes the code into fn or procedures. Procedures are blocks that can be reused and called for other part of the program\n",
    "-\tOop: Organizes code into objects; objects are self-contained entities that contain behaviors and data.obj can interact with each other with sending and receiving msgs.\n"
   ]
  },
  {
   "cell_type": "markdown",
   "metadata": {},
   "source": [
    "## Compiler vs Interpretor"
   ]
  },
  {
   "cell_type": "markdown",
   "metadata": {},
   "source": []
  },
  {
   "cell_type": "markdown",
   "metadata": {},
   "source": [
    "## python numbers\n",
    "Int\n",
    "Int, or integer, is a whole number, positive or negative, without decimals, of unlimited length."
   ]
  },
  {
   "cell_type": "markdown",
   "metadata": {},
   "source": [
    "## range()\n",
    "o index tsrts with n elements range(0,n,1) #the second one indicates elements until n, so n wont be added\n",
    "\n",
    "1 index starts with (1,n+1,1)\n",
    "_Using the negative start, stop, and step values_\n",
    "```python\n",
    "# Range with -ve values\n",
    "for it in range(10, -1, -2):\n",
    "   print(it, end = \", \")\n",
    "\n",
    "# 10, 8, 6, 4, 2, 0\n",
    "```"
   ]
  },
  {
   "cell_type": "code",
   "execution_count": null,
   "metadata": {},
   "outputs": [],
   "source": []
  },
  {
   "cell_type": "markdown",
   "metadata": {},
   "source": [
    "# Problems"
   ]
  },
  {
   "cell_type": "markdown",
   "metadata": {},
   "source": [
    "## 1.Read an integer N and compute all its divisors."
   ]
  },
  {
   "cell_type": "code",
   "execution_count": 1,
   "metadata": {},
   "outputs": [],
   "source": [
    "number = int(input())\n",
    "def divisor(n: int):\n",
    "    for i in range((n//2)+1):\n",
    "        if n%i ==0:\n",
    "            return n"
   ]
  },
  {
   "cell_type": "markdown",
   "metadata": {},
   "source": [
    "### Problem 2\n",
    "Hasan went to the gym today and did some squats. Each set of squats consists of 15 repetitions. Hasan did XX sets of squats. Calculate the total number of squats Hasan did.\n",
    "\n",
    "Input:\n",
    "\n",
    "The first line contains a single integer T — the number of test cases.\n",
    "For each test case, there is a single integer X — the total number of sets of squats that Hasan did.\n",
    "Output:\n",
    "\n",
    "For each test case, output the total number of squats done by Hasan.\n",
    "Example:\n",
    "\n",
    "Input:\n",
    "3\n",
    "1\n",
    "4\n",
    "99\n",
    "\n",
    "Output:\n",
    "\n",
    "15\n",
    "60\n",
    "1485"
   ]
  },
  {
   "cell_type": "code",
   "execution_count": null,
   "metadata": {},
   "outputs": [],
   "source": [
    "\"\"\"def squat(n):\n",
    "    total_squats = 15*n\n",
    "    return total_squats\n",
    "test_case = int(input())\n",
    "for test in range(test_case):\n",
    "    numbers = int(input())\n",
    "    result = squat(numbers)\n",
    "    print(result)\"\"\"\n",
    "#return can only be used in a function\n",
    "\n",
    "test_case = int(input())\n",
    "results = []\n",
    "for test in range(test_case):\n",
    "    number = int(input())\n",
    "    total_squates = 15*number\n",
    "    results.append(total_squates)\n",
    "\n",
    "for result in results:\n",
    "    print(result)"
   ]
  },
  {
   "cell_type": "markdown",
   "metadata": {},
   "source": [
    "### Problem - 03\n",
    "Hasan and Mahmud participated in a coding contest, as a result of which they received NN chocolates. Now they want to divide the chocolates between them equally.\n",
    "Can you help them by deciding if it is possible for them to divide all the NN chocolates in such a way that they each get an equal number of chocolates?\n",
    "You cannot break a chocolate in two or more pieces.\n",
    "\n",
    "Input Format\n",
    "•\tThe first line of input will contain a single integer TT, denoting the number of test cases.\n",
    "•\tThe first and only line of each test case contains a single integer NN — the number of chocolates they received.\n",
    "Output Format\n",
    "For each test case output the answer on a new line — \"Yes\" (without quotes) if they can divide chocolates between them equally, and \"No\" (without quotes) otherwise.\n",
    "Each letter of the output may be printed in either uppercase or lowercase, i.e, \"Yes\", \"YES\", and \"yEs\" will all be treated as equivalent.\n",
    "\n",
    "Input\tOutput\n",
    "4\n",
    "10\n",
    "4\n",
    "3\n",
    "2\tYes\n",
    "Yes\n",
    "No\n",
    "Yes\n",
    "\n",
    "Explanation:\n",
    "Test case 1: They can divide 1010 chocolates such that both of them get 55 chocolates each.\n",
    "Test case 2: They can divide 44 chocolates such that both of them get 22 chocolates each.\n",
    "Test case 3: There is no way to divide 33 chocolates so that they get equal number of chocolates.\n",
    "Test case 4: They can divide 22 chocolates such that both of them get 11 chocolate each.\n"
   ]
  },
  {
   "cell_type": "code",
   "execution_count": 2,
   "metadata": {},
   "outputs": [
    {
     "name": "stdout",
     "output_type": "stream",
     "text": [
      "Yes\n",
      "No\n",
      "No\n",
      "No\n"
     ]
    }
   ],
   "source": [
    "test_cases = int(input())\n",
    "for test_case in range(test_cases):\n",
    "    chocolates = int(input())\n",
    "    if chocolates%2 ==0:\n",
    "        print(\"Yes\")\n",
    "    else: print(\"No\")"
   ]
  },
  {
   "cell_type": "markdown",
   "metadata": {},
   "source": [
    "## pb 4\n",
    "Write a function called \"divide\" that takes two parameters, \"numerator(divised)\" and \"denominator(divisor)\", and returns the result of the division. In the function, use a try-except block to handle the possibility of a division by zero. If a division by zero occurs, return a string that says \"Cannot divide by zero\".\n",
    "3/4 - numerator = 3, denominator = 4\n",
    "\n",
    "## pb 5\n",
    "Write a program that prompts the user to enter two numbers, and then uses the \"divide\" function from Task 1 to divide the first number by the second number. If the division is successful, print the result. If a division by zero occurs, catch the exception and print the error message."
   ]
  },
  {
   "cell_type": "code",
   "execution_count": 6,
   "metadata": {},
   "outputs": [
    {
     "name": "stdout",
     "output_type": "stream",
     "text": [
      "0.75\n"
     ]
    }
   ],
   "source": [
    "def divide(numerator,denominator):\n",
    "    try:\n",
    "        result = numerator/denominator\n",
    "        return result\n",
    "    except: \n",
    "        denominator=0\n",
    "        print(\"Cannot divide by zero\")\n",
    "numerator = 3\n",
    "denominator = 4\n",
    "result = divide(numerator,denominator)\n",
    "print(result)"
   ]
  },
  {
   "cell_type": "markdown",
   "metadata": {},
   "source": [
    "### pb 6\n",
    "you are given an integer=the number of teams.will find it in leetcode"
   ]
  },
  {
   "cell_type": "code",
   "execution_count": 5,
   "metadata": {},
   "outputs": [
    {
     "name": "stdout",
     "output_type": "stream",
     "text": [
      "6\n"
     ]
    }
   ],
   "source": [
    "n = int(input())\n",
    "def tournament_match(teams):\n",
    "    total_match = 0\n",
    "    while teams>1:\n",
    "        if teams%2 == 0:\n",
    "            total_match += teams/2\n",
    "            teams = teams/2\n",
    "        else:\n",
    "            total_match +=(teams-1)/2\n",
    "            teams = ((teams-1)/2)  + 1\n",
    "    return int(total_match)\n",
    "result = tournament_match(n)\n",
    "print(result)"
   ]
  },
  {
   "cell_type": "markdown",
   "metadata": {},
   "source": [
    "### pb 7\n",
    "Write a program in Python to display the pattern like right angle triangle using an asterisk."
   ]
  },
  {
   "cell_type": "code",
   "execution_count": 8,
   "metadata": {},
   "outputs": [
    {
     "name": "stdout",
     "output_type": "stream",
     "text": [
      "*\n",
      "**\n",
      "***\n",
      "****\n"
     ]
    }
   ],
   "source": [
    "n = int(input())\n",
    "for i in range(1,n+1):\n",
    "    print(\"*\"*i)"
   ]
  },
  {
   "cell_type": "markdown",
   "metadata": {},
   "source": [
    "n Python's print() function, the end parameter is used to specify what character or string should be printed at the end of the printed line. By default, the print() function ends with a newline character (\\n), which means the next output will be printed on a new line.\n",
    "\n",
    "The end=\"\" part modifies the default behavior. It tells Python to print an asterisk (*) without moving to the next line. So, if you have multiple print() statements without end=\"\", each one would print on a new line. By using end=\"\", you can print multiple asterisks on the same line."
   ]
  },
  {
   "cell_type": "code",
   "execution_count": 9,
   "metadata": {},
   "outputs": [
    {
     "name": "stdout",
     "output_type": "stream",
     "text": [
      "******"
     ]
    }
   ],
   "source": [
    "print(\"*\", end=\"\")\n",
    "print(\"**\", end=\"\")\n",
    "print(\"***\", end=\"\")"
   ]
  },
  {
   "cell_type": "markdown",
   "metadata": {},
   "source": [
    " Write a program in Python to display the multiplication table of a given integer."
   ]
  },
  {
   "cell_type": "code",
   "execution_count": 11,
   "metadata": {},
   "outputs": [
    {
     "name": "stdout",
     "output_type": "stream",
     "text": [
      "15 X 1 = 15\n",
      "15 X 2 = 30\n",
      "15 X 3 = 45\n",
      "15 X 4 = 60\n",
      "15 X 5 = 75\n",
      "15 X 6 = 90\n",
      "15 X 7 = 105\n",
      "15 X 8 = 120\n",
      "15 X 9 = 135\n",
      "15 X 10 = 150\n"
     ]
    }
   ],
   "source": [
    "integer = int(input())\n",
    "for i in range(1,11):\n",
    "    result = integer*i\n",
    "    print(f\"{integer} X {i} = {result}\")"
   ]
  },
  {
   "cell_type": "markdown",
   "metadata": {},
   "source": [
    "# \n",
    "Write a program in Python to read 10 numbers from keyboard and find their sum and average."
   ]
  },
  {
   "cell_type": "code",
   "execution_count": 13,
   "metadata": {},
   "outputs": [
    {
     "name": "stdout",
     "output_type": "stream",
     "text": [
      "[10, 20, 330, 40, 50, 60, 70, 80, 90, 100]\n",
      "850\n",
      "85.0\n"
     ]
    }
   ],
   "source": [
    "total_numbers = []\n",
    "for numbers in range(10):\n",
    "    integer = int(input())\n",
    "    total_numbers.append(integer)\n",
    "print(total_numbers)\n",
    "list_sum = sum(total_numbers)\n",
    "print(list_sum)\n",
    "avg = list_sum/len(total_numbers)\n",
    "print(avg)"
   ]
  },
  {
   "cell_type": "markdown",
   "metadata": {},
   "source": [
    "# \n",
    "Write a program in Python to display n terms of natural number and their sum."
   ]
  },
  {
   "cell_type": "code",
   "execution_count": 16,
   "metadata": {},
   "outputs": [
    {
     "name": "stdout",
     "output_type": "stream",
     "text": [
      "Natural numbers from 1 to 10 are:\n",
      "1 2 3 4 5 6 7 8 9 10 \n",
      "Sum of natural numbers from 1 to 10 is: 55\n"
     ]
    }
   ],
   "source": [
    "# Taking input from the user\n",
    "n = int(input(\"Enter the number of terms: \"))\n",
    "\n",
    "# Initializing variables\n",
    "sum_of_natural_numbers = 0\n",
    "\n",
    "# Displaying n terms of natural numbers and calculating their sum\n",
    "print(\"Natural numbers from 1 to\", n, \"are:\")\n",
    "for i in range(1, n + 1):\n",
    "    print(i, end=\" \")  # Print the natural number\n",
    "    sum_of_natural_numbers += i  # Add the natural number to the sum\n",
    "\n",
    "# Displaying the sum of natural numbers\n",
    "print(\"\\nSum of natural numbers from 1 to\", n, \"is:\", sum_of_natural_numbers)\n"
   ]
  },
  {
   "cell_type": "markdown",
   "metadata": {},
   "source": [
    "### Write a program that takes an integer input num and outputs all the factors of the number.\n",
    "Input:\n",
    "\n",
    "Copy code\n",
    "12\n",
    "Output:\n",
    "\n",
    "Copy code\n",
    "1\n",
    "2\n",
    "3\n",
    "4\n",
    "6\n",
    "12\n",
    "\n",
    "\n",
    "\n",
    "\n",
    "\n",
    "\n"
   ]
  },
  {
   "cell_type": "code",
   "execution_count": 3,
   "metadata": {},
   "outputs": [
    {
     "name": "stdout",
     "output_type": "stream",
     "text": [
      "1\n",
      "2\n",
      "5\n",
      "10\n"
     ]
    }
   ],
   "source": [
    "n = int(input())\n",
    "for i in range(1,n+1):\n",
    "    if n%i == 0:\n",
    "        print(i)"
   ]
  }
 ],
 "metadata": {
  "kernelspec": {
   "display_name": "FaceRecog",
   "language": "python",
   "name": "python3"
  },
  "language_info": {
   "codemirror_mode": {
    "name": "ipython",
    "version": 3
   },
   "file_extension": ".py",
   "mimetype": "text/x-python",
   "name": "python",
   "nbconvert_exporter": "python",
   "pygments_lexer": "ipython3",
   "version": "3.11.5"
  }
 },
 "nbformat": 4,
 "nbformat_minor": 2
}
