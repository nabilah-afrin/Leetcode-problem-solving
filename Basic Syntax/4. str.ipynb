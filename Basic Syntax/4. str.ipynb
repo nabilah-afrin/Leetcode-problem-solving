{
 "cells": [
  {
   "cell_type": "markdown",
   "metadata": {},
   "source": [
    "# String"
   ]
  },
  {
   "cell_type": "markdown",
   "metadata": {},
   "source": [
    "## .join() method\n",
    "separator.join(string)"
   ]
  },
  {
   "cell_type": "code",
   "execution_count": 2,
   "metadata": {},
   "outputs": [
    {
     "name": "stdout",
     "output_type": "stream",
     "text": [
      "John#Peter#Vicky\n"
     ]
    }
   ],
   "source": [
    "myTuple = (\"John\", \"Peter\", \"Vicky\")\n",
    "x = \"#\".join(myTuple)\n",
    "print(x)"
   ]
  },
  {
   "cell_type": "markdown",
   "metadata": {},
   "source": [
    "## string slicing\n",
    "```python\n",
    "String = 'Hello World'\n",
    "slice_obj = slice(5,11) #World\n",
    "print(String[slice_obj])\n",
    "```\n",
    "\n",
    "```python\n",
    "l = ['a', 'b', 'c', 'd', 'e', 'f']\n",
    "slice_obj = slice(-2, -6, -1)\n",
    "print(\"list slicing:\", l[slice_obj]) #list slicing: ['e', 'd', 'c', 'b']\n",
    "\n",
    "```"
   ]
  },
  {
   "cell_type": "markdown",
   "metadata": {},
   "source": [
    "## String formatting"
   ]
  },
  {
   "cell_type": "code",
   "execution_count": 2,
   "metadata": {},
   "outputs": [],
   "source": [
    "country = \"Bangladesh\"\n",
    "country2 = 'India'"
   ]
  },
  {
   "cell_type": "code",
   "execution_count": 4,
   "metadata": {},
   "outputs": [
    {
     "name": "stdout",
     "output_type": "stream",
     "text": [
      "Country one is: Bangladesh and Country two is: India\n",
      "Country one is: USA and Country two is: Bangladesh\n",
      "Country one is: Bangladesh and Country two is: India\n",
      "One is 1 and Two is: Two\n"
     ]
    }
   ],
   "source": [
    "print(\"Country one is: {} and Country two is: {}\".format(country, country2))\n",
    "print(\"Country one is: {2} and Country two is: {0}\".format(country, country2, \"USA\"))\n",
    "print(\"Country one is: {c1} and Country two is: {c2}\".format(c1=country, c2=country2))\n",
    "print(\"One is {} and Two is: {}\".format(1, \"Two\"))"
   ]
  },
  {
   "cell_type": "code",
   "execution_count": 6,
   "metadata": {},
   "outputs": [
    {
     "name": "stdout",
     "output_type": "stream",
     "text": [
      "10.1010101010101\n",
      "10.101010\n",
      "10.1010101\n"
     ]
    }
   ],
   "source": [
    "# Process - 5\n",
    "num = 10.10101010101010  # 10.101\n",
    "print(num)\n",
    "print(\"%f\" % num)\n",
    "print(\"%.7f\" % num)\n",
    "#%d and %s exist"
   ]
  },
  {
   "cell_type": "markdown",
   "metadata": {},
   "source": [
    "## Problem"
   ]
  },
  {
   "cell_type": "markdown",
   "metadata": {},
   "source": [
    "### pb 1\n",
    "How to translate a string containing a binary code (1 and 0) into a number (integer)? Write a function to do this."
   ]
  },
  {
   "cell_type": "code",
   "execution_count": 3,
   "metadata": {},
   "outputs": [
    {
     "name": "stdout",
     "output_type": "stream",
     "text": [
      "<class 'int'>\n"
     ]
    }
   ],
   "source": [
    "#input = \"101010\"\n",
    "def string_binary_to_int(binary:str):\n",
    "    number = int\n",
    "    return number\n",
    "\n",
    "input_str = str(input())\n",
    "result = string_binary_to_int(input_str)\n",
    "print(result)"
   ]
  },
  {
   "cell_type": "markdown",
   "metadata": {},
   "source": [
    "### pb 2\n",
    "How to check that tuple A contains all elements of tuple B. Do both tuples contain unique values? Write a function to do this.\n",
    ">>> tuples are ordered collections, which means the order of elements in a tuple matters\n",
    "\n",
    ">>> sets can be used in order to work with unordered collections"
   ]
  },
  {
   "cell_type": "code",
   "execution_count": 8,
   "metadata": {},
   "outputs": [
    {
     "name": "stdout",
     "output_type": "stream",
     "text": [
      "True\n"
     ]
    }
   ],
   "source": [
    "tuple_a = (2,4,5,1)\n",
    "tuple_b= (2,4,5,1)\n",
    "if tuple_a==tuple_b:\n",
    "    print(\"True\")\n",
    "else: print(\"False\")"
   ]
  },
  {
   "cell_type": "code",
   "execution_count": 9,
   "metadata": {},
   "outputs": [
    {
     "name": "stdout",
     "output_type": "stream",
     "text": [
      "15\n"
     ]
    }
   ],
   "source": [
    "def f():\n",
    "     x = 15\n",
    "     print(x)\n",
    "x = 12\n",
    "f()"
   ]
  },
  {
   "cell_type": "markdown",
   "metadata": {},
   "source": [
    "### pb 3\n",
    "*Write a function that returns a string of numbers from 0 to 100, \"0123456789101112...\".*\n",
    "\n",
    "it is not neceseery to pass parameter in a function. a function can have 0 parameters. as it is mentioned to write a function..."
   ]
  },
  {
   "cell_type": "code",
   "execution_count": 1,
   "metadata": {},
   "outputs": [
    {
     "name": "stdout",
     "output_type": "stream",
     "text": [
      "0123456789101112131415161718192021222324252627282930313233343536373839404142434445464748495051525354555657585960616263646566676869707172737475767778798081828384858687888990919293949596979899100\n"
     ]
    }
   ],
   "source": [
    "def number_str():\n",
    "    numberstring = \"\".join(str(number) for number in range(101))\n",
    "    return numberstring\n",
    "result = number_str()\n",
    "print(result)"
   ]
  },
  {
   "cell_type": "code",
   "execution_count": 15,
   "metadata": {},
   "outputs": [
    {
     "name": "stdout",
     "output_type": "stream",
     "text": [
      "[4, 3, 2, 1]\n"
     ]
    }
   ],
   "source": [
    "list = [1,2,3,4] =length =4\n",
    "print(list[-1:-5:-1]) "
   ]
  }
 ],
 "metadata": {
  "kernelspec": {
   "display_name": "FaceRecog",
   "language": "python",
   "name": "python3"
  },
  "language_info": {
   "codemirror_mode": {
    "name": "ipython",
    "version": 3
   },
   "file_extension": ".py",
   "mimetype": "text/x-python",
   "name": "python",
   "nbconvert_exporter": "python",
   "pygments_lexer": "ipython3",
   "version": "3.11.5"
  }
 },
 "nbformat": 4,
 "nbformat_minor": 2
}
