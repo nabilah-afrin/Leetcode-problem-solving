{
 "cells": [
  {
   "cell_type": "markdown",
   "metadata": {},
   "source": [
    "## List"
   ]
  },
  {
   "cell_type": "markdown",
   "metadata": {},
   "source": [
    "## List Methods\n",
    ">> List Methods (List.mthod(parameters))\n",
    "\n",
    "- __Append()__\tAdd an element to the end of the list\n",
    "- __Extend()__\tAdd all elements of a list to another list\n",
    "- __Insert()__\tInsert an item at the defined index\n",
    "- __Remove()__\tRemoves an item from the list\n",
    "- __Clear()__\t    Removes all items from the list\n",
    "- __Index()__\t    Returns the index of the first matched item\n",
    "- __Count()__\t    Returns the count of the number of items passed as an argument\n",
    "- __Sort()__\t    Sort items in a list in ascending order\n",
    "- __Reverse()__\tReverse the order of items in the list\n",
    "- __copy()__\t    Returns a copy of the list\n",
    "- __any()__    return true if any element of the list is true. if the list is empty, return false\n",
    "- __sum()__    Sums up the numbers in the list\n",
    "- __max()__\t    return maximum element of a given list\n",
    "- __min()__\t    return minimum element of a given list\n",
    "- __all()__\t    Returns true if all element is true or if the list is empty\n",
    "- __any()__\t    return true if any element of the list is true. if the list is empty, return false\n",
    "- __len()__\t    Returns length of the list or size of the list"
   ]
  },
  {
   "cell_type": "markdown",
   "metadata": {},
   "source": [
    "## multidimentional list or nested list"
   ]
  },
  {
   "cell_type": "code",
   "execution_count": 4,
   "metadata": {},
   "outputs": [
    {
     "name": "stdout",
     "output_type": "stream",
     "text": [
      "Python\n"
     ]
    }
   ],
   "source": [
    "List = [['Java', 'Python'], ['PHP']]\n",
    "#access python\n",
    "print(List[0][1])"
   ]
  },
  {
   "cell_type": "code",
   "execution_count": 7,
   "metadata": {},
   "outputs": [
    {
     "name": "stdout",
     "output_type": "stream",
     "text": [
      "[4, 3, 2, 1]\n"
     ]
    }
   ],
   "source": [
    "### Slice of list\n",
    "list = [1,2,3,4] #length =4\n",
    "print(list[-1:-5:-1]) "
   ]
  },
  {
   "cell_type": "code",
   "execution_count": 6,
   "metadata": {},
   "outputs": [
    {
     "name": "stdout",
     "output_type": "stream",
     "text": [
      "['A', 'B', 'C', 'D', 'E', 'F', 'G']\n",
      "['H', 'I', 'J', 'K', 'L']\n",
      "['M', 'L', 'K', 'J', 'I', 'H', 'G', 'F', 'E', 'D', 'C', 'B', 'A']\n"
     ]
    }
   ],
   "source": [
    "List = ['A', 'B', 'C', 'D', 'E', 'F', 'G', 'H', 'I', 'J', 'K', 'L', 'M']\n",
    "Sliced_List = List[:-6]\n",
    "print(Sliced_List)  # ['A', 'B', 'C', 'D', 'E', 'F', 'G']\n",
    "Sliced_List = List[-6:-1]\n",
    "print(Sliced_List)  # ['H', 'I', 'J', 'K', 'L']\n",
    "Sliced_List = List[::-1]\n",
    "print(Sliced_List)  # ['M', 'L', 'K', 'J', 'I', 'H', 'G', 'F', 'E', 'D', 'C', 'B', 'A']"
   ]
  },
  {
   "cell_type": "markdown",
   "metadata": {},
   "source": [
    "#### Copy list\n",
    "To copy a list, you can make a slice that includes the entire original list by omitting the first index and the second index ([:]). This tells Python to make a slice that starts at the first item and ends with the last item, produc-\n",
    "ing a copy of the entire list."
   ]
  },
  {
   "cell_type": "code",
   "execution_count": 1,
   "metadata": {},
   "outputs": [
    {
     "name": "stdout",
     "output_type": "stream",
     "text": [
      "My favorite foods are:\n",
      "['pizza', 'falafel', 'carrot cake', 'cannoli']\n"
     ]
    }
   ],
   "source": [
    "my_foods = ['pizza', 'falafel', 'carrot cake'] \n",
    "friend_foods = my_foods[:]\n",
    "my_foods.append('cannoli') \n",
    "friend_foods.append('ice cream')\n",
    "print(\"My favorite foods are:\")\n",
    "print(my_foods)"
   ]
  },
  {
   "cell_type": "markdown",
   "metadata": {},
   "source": [
    "## List Comprehension"
   ]
  },
  {
   "cell_type": "code",
   "execution_count": null,
   "metadata": {},
   "outputs": [],
   "source": [
    "# Make a list of the multiples of 3 from 3 to 30. Use a for loop to print the numbers in your list.\n",
    "threes = [number for number in range(3,34) if number%3 ==0]\n",
    "for number in threes: print(number)\n",
    "        #list comprehension = [function +for loop + condition]"
   ]
  },
  {
   "cell_type": "code",
   "execution_count": null,
   "metadata": {},
   "outputs": [],
   "source": [
    "#cube prehension: \n",
    "cubes_of_odd_numbers = [i ** 3 for i in range(1, 11) if i % 2 != 0]\n",
    "print(cubes_of_odd_numbers)"
   ]
  },
  {
   "cell_type": "markdown",
   "metadata": {},
   "source": [
    "# Problems"
   ]
  },
  {
   "cell_type": "code",
   "execution_count": null,
   "metadata": {},
   "outputs": [],
   "source": [
    "n = int(input())\n",
    "def find_divisor(n):\n",
    "    divisors =[]\n",
    "    for i in range(1, n+1):\n",
    "        if n%i ==0: divisors.append[i]\n",
    "    return divisors\n",
    "result = find_divisor(n)"
   ]
  },
  {
   "cell_type": "code",
   "execution_count": null,
   "metadata": {},
   "outputs": [],
   "source": [
    "n = int(input())\n",
    "number_list = []\n",
    "for index in range(n):\n",
    "\tnumber = int(input())\t\n",
    "\tnumber_list.append(number)\n",
    "number_list.sort()\n",
    "def is_divisble(n:list):\n",
    "\tfor number in n:\n",
    "\t\tif number<120:\n",
    "\t\t\tif number%10 ==0: \n",
    "\t\t\t\tprint(number)\n",
    "result = is_divisble(number_list)\n",
    "print(result)"
   ]
  },
  {
   "cell_type": "markdown",
   "metadata": {},
   "source": [
    "### pb 3\n",
    "How to remove empty lines from a list of lines (with a length of 0). Write a function to do this.\n",
    "empy line- with no visible characters\n",
    "```sql\n",
    "This is not an empty line.\n",
    "   \n",
    "This line contains spaces, so it is not empty.\n",
    "\\t\n",
    "This line contains a tab character, so it is not empty.\n",
    "\n",
    "This is an empty line.\n",
    "```\n",
    "The strip() method removes any leading, and trailing whitespaces.You can specify which character(s) to remove, if not, any whitespaces will be removed.\n",
    "\n",
    "string.strip(character)\n"
   ]
  },
  {
   "cell_type": "code",
   "execution_count": 2,
   "metadata": {},
   "outputs": [
    {
     "name": "stdout",
     "output_type": "stream",
     "text": [
      "['This is a non-empty line.', 'Another non-empty line.']\n"
     ]
    }
   ],
   "source": [
    "def remove_empty_line(lines):\n",
    "    new_line = []\n",
    "    for line in lines:\n",
    "        if line.strip():\n",
    "            new_line.append(line.strip())\n",
    "    return new_line\n",
    "# Example usage\n",
    "lines = [\"\", \"This is a non-empty line.\", \"\", \"Another non-empty line.\", \"\", \"\"]\n",
    "filtered_lines = remove_empty_line(lines)\n",
    "print(filtered_lines)"
   ]
  },
  {
   "cell_type": "markdown",
   "metadata": {},
   "source": [
    "### pb 4\n",
    "Write a function that makes a list with unique items from a list with duplicate items. Example: [1, 1, 2, 3, 3] -> [1, 2, 3]."
   ]
  },
  {
   "cell_type": "code",
   "execution_count": 2,
   "metadata": {},
   "outputs": [
    {
     "ename": "TypeError",
     "evalue": "unhashable type: 'list'",
     "output_type": "error",
     "traceback": [
      "\u001b[1;31m---------------------------------------------------------------------------\u001b[0m",
      "\u001b[1;31mTypeError\u001b[0m                                 Traceback (most recent call last)",
      "\u001b[1;32me:\\CODE\\Python\\Leetcode-Notes\\Basic Syntax\\3. Lists.ipynb Cell 14\u001b[0m line \u001b[0;36m1\n\u001b[0;32m     <a href='vscode-notebook-cell:/e%3A/CODE/Python/Leetcode-Notes/Basic%20Syntax/3.%20Lists.ipynb#X16sZmlsZQ%3D%3D?line=9'>10</a>\u001b[0m \t\u001b[39mreturn\u001b[39;00m unique_number\n\u001b[0;32m     <a href='vscode-notebook-cell:/e%3A/CODE/Python/Leetcode-Notes/Basic%20Syntax/3.%20Lists.ipynb#X16sZmlsZQ%3D%3D?line=10'>11</a>\u001b[0m number_list \u001b[39m=\u001b[39m [\u001b[39m1\u001b[39m,\u001b[39m1\u001b[39m,\u001b[39m3\u001b[39m,\u001b[39m4\u001b[39m,\u001b[39m5\u001b[39m,\u001b[39m5\u001b[39m]\n\u001b[1;32m---> <a href='vscode-notebook-cell:/e%3A/CODE/Python/Leetcode-Notes/Basic%20Syntax/3.%20Lists.ipynb#X16sZmlsZQ%3D%3D?line=11'>12</a>\u001b[0m result \u001b[39m=\u001b[39m unique_list(number_list)\n\u001b[0;32m     <a href='vscode-notebook-cell:/e%3A/CODE/Python/Leetcode-Notes/Basic%20Syntax/3.%20Lists.ipynb#X16sZmlsZQ%3D%3D?line=12'>13</a>\u001b[0m \u001b[39mprint\u001b[39m(result)\n",
      "\u001b[1;32me:\\CODE\\Python\\Leetcode-Notes\\Basic Syntax\\3. Lists.ipynb Cell 14\u001b[0m line \u001b[0;36m6\n\u001b[0;32m      <a href='vscode-notebook-cell:/e%3A/CODE/Python/Leetcode-Notes/Basic%20Syntax/3.%20Lists.ipynb#X16sZmlsZQ%3D%3D?line=3'>4</a>\u001b[0m \u001b[39mfor\u001b[39;00m integer \u001b[39min\u001b[39;00m number:\n\u001b[0;32m      <a href='vscode-notebook-cell:/e%3A/CODE/Python/Leetcode-Notes/Basic%20Syntax/3.%20Lists.ipynb#X16sZmlsZQ%3D%3D?line=4'>5</a>\u001b[0m \t\u001b[39mif\u001b[39;00m integer \u001b[39min\u001b[39;00m list_table\u001b[39m.\u001b[39mkeys():\n\u001b[1;32m----> <a href='vscode-notebook-cell:/e%3A/CODE/Python/Leetcode-Notes/Basic%20Syntax/3.%20Lists.ipynb#X16sZmlsZQ%3D%3D?line=5'>6</a>\u001b[0m \t\tlist_table[number]\u001b[39m=\u001b[39m\u001b[39m+\u001b[39m\u001b[39m1\u001b[39m\n\u001b[0;32m      <a href='vscode-notebook-cell:/e%3A/CODE/Python/Leetcode-Notes/Basic%20Syntax/3.%20Lists.ipynb#X16sZmlsZQ%3D%3D?line=6'>7</a>\u001b[0m \t\u001b[39melse\u001b[39;00m: list_table[integer]\u001b[39m=\u001b[39m\u001b[39m1\u001b[39m\t\n\u001b[0;32m      <a href='vscode-notebook-cell:/e%3A/CODE/Python/Leetcode-Notes/Basic%20Syntax/3.%20Lists.ipynb#X16sZmlsZQ%3D%3D?line=7'>8</a>\u001b[0m \u001b[39mfor\u001b[39;00m keys \u001b[39min\u001b[39;00m list_table\u001b[39m.\u001b[39mkeys():\n",
      "\u001b[1;31mTypeError\u001b[0m: unhashable type: 'list'"
     ]
    }
   ],
   "source": [
    "def unique_list(number:list[int]):\n",
    "\tunique_number=[]\n",
    "\tlist_table = {}\n",
    "\tfor integer in number:\n",
    "\t\tif integer in list_table.keys():\n",
    "\t\t\tlist_table[number]=+1\n",
    "\t\telse: list_table[integer]=1\t\n",
    "\tfor keys in list_table.keys():\n",
    "\t\tunique_number.append(keys)\n",
    "\treturn unique_number\n",
    "number_list = [1,1,3,4,5,5]\n",
    "result = unique_list(number_list)\n",
    "print(result)"
   ]
  },
  {
   "cell_type": "code",
   "execution_count": 3,
   "metadata": {},
   "outputs": [
    {
     "name": "stdout",
     "output_type": "stream",
     "text": [
      "[1, 3, 4, 5]\n"
     ]
    }
   ],
   "source": [
    "def unique_list(numbers:list[int]):\n",
    "\tuniquelist = []\n",
    "\tfor integer in numbers:\n",
    "\t\tif integer not in uniquelist:\n",
    "\t\t\tuniquelist.append(integer)\n",
    "\treturn uniquelist\n",
    "number_list = [1,1,3,4,5,5]\n",
    "result = unique_list(number_list)\n",
    "print(result)"
   ]
  },
  {
   "cell_type": "markdown",
   "metadata": {},
   "source": [
    "### pb 5\n",
    "Make a list of prime numbers from the range (1, 100) using Python."
   ]
  },
  {
   "cell_type": "code",
   "execution_count": 3,
   "metadata": {},
   "outputs": [
    {
     "name": "stdout",
     "output_type": "stream",
     "text": [
      "[2, 3, 5, 7, 11, 13, 17, 19, 23, 29, 31, 37, 41, 43, 47, 53, 59, 61, 67, 71, 73, 79, 83, 89, 97]\n"
     ]
    }
   ],
   "source": [
    "prime_number = []\n",
    "\n",
    "for number in range(2, 101):\n",
    "  for i in range(2, number):\n",
    "    if number % i == 0:\n",
    "      break\n",
    "  else: prime_number.append(number)\n",
    "\n",
    "print(prime_number)\n"
   ]
  },
  {
   "cell_type": "markdown",
   "metadata": {},
   "source": [
    "## pb: if a lis has doble element, find the unique elements from the list\n",
    "[4,1,2,2]"
   ]
  },
  {
   "cell_type": "code",
   "execution_count": 7,
   "metadata": {},
   "outputs": [
    {
     "name": "stdout",
     "output_type": "stream",
     "text": [
      "1\n"
     ]
    }
   ],
   "source": [
    "element_count = {}\n",
    "def unique_number(number_list):\n",
    "    for number in number_list:\n",
    "        if number in element_count.keys():\n",
    "            element_count[number]+=1\n",
    "        else: element_count[number] =1\n",
    "\n",
    "    for keys in element_count.keys():\n",
    "        if element_count[keys] ==1:\n",
    "            return keys\n",
    "        \n",
    "numbers = [9,1,2,2,9]\n",
    "result = unique_number(numbers)\n",
    "print(result)\n",
    "\n"
   ]
  },
  {
   "cell_type": "markdown",
   "metadata": {},
   "source": [
    "## print running sum of number\n",
    "[1,2,3,4] >>> [1,3,6,10]"
   ]
  },
  {
   "cell_type": "code",
   "execution_count": 8,
   "metadata": {},
   "outputs": [
    {
     "name": "stdout",
     "output_type": "stream",
     "text": [
      "[1, 3, 6, 10]\n"
     ]
    }
   ],
   "source": [
    "sum_list = []\n",
    "def listsum(number_list):\n",
    "    result = 0\n",
    "    for number in number_list:\n",
    "        result+= number\n",
    "        sum_list.append(result)\n",
    "    return sum_list\n",
    "list = [1,2,3,4]\n",
    "result = listsum(list)\n",
    "print(result)"
   ]
  }
 ],
 "metadata": {
  "kernelspec": {
   "display_name": "Python 3",
   "language": "python",
   "name": "python3"
  },
  "language_info": {
   "codemirror_mode": {
    "name": "ipython",
    "version": 3
   },
   "file_extension": ".py",
   "mimetype": "text/x-python",
   "name": "python",
   "nbconvert_exporter": "python",
   "pygments_lexer": "ipython3",
   "version": "3.11.5"
  }
 },
 "nbformat": 4,
 "nbformat_minor": 2
}
