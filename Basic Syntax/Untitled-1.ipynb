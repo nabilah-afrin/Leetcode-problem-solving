{
 "cells": [
  {
   "cell_type": "code",
   "execution_count": 1,
   "metadata": {},
   "outputs": [
    {
     "name": "stdout",
     "output_type": "stream",
     "text": [
      "I love 'Python'\n",
      "I love 'Python'\n",
      "I love \"Python\"\"\n",
      "I love \"Python\"\"#I love \"Python\"\""
     ]
    }
   ],
   "source": [
    "\"\"\"\n",
    "\n",
    "I love 'Python'\n",
    "I love \"Python\"\n",
    "\n",
    "\"\"\"\"\"\"statement = \"I love \"python\"\"\n",
    "\"\"\"\n",
    "statement = 'I love \\'Python\\''\n",
    "print(statement)\n",
    "\n",
    "statement = \"I love 'Python'\"\n",
    "print(statement)\n",
    "\n",
    "statement = \"I love \\\"Python\\\"\\\"\"\n",
    "print(statement)\n",
    "\n",
    "print(statement,end=\"#\")\n",
    "\n",
    "print(statement,end=\"\")"
   ]
  }
 ],
 "metadata": {
  "kernelspec": {
   "display_name": "FaceRecog",
   "language": "python",
   "name": "python3"
  },
  "language_info": {
   "codemirror_mode": {
    "name": "ipython",
    "version": 3
   },
   "file_extension": ".py",
   "mimetype": "text/x-python",
   "name": "python",
   "nbconvert_exporter": "python",
   "pygments_lexer": "ipython3",
   "version": "3.11.5"
  }
 },
 "nbformat": 4,
 "nbformat_minor": 2
}
