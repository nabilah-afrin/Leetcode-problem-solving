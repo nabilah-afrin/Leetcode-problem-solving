{
 "cells": [
  {
   "cell_type": "markdown",
   "metadata": {},
   "source": [
    "## INPUT"
   ]
  },
  {
   "cell_type": "markdown",
   "metadata": {},
   "source": [
    "### Take multiple inputs from user"
   ]
  },
  {
   "cell_type": "code",
   "execution_count": 16,
   "metadata": {},
   "outputs": [
    {
     "name": "stdout",
     "output_type": "stream",
     "text": [
      "The numbers: 12 22 33\n"
     ]
    }
   ],
   "source": [
    "a,b,c = map(int,input(\"The numbers: \").split())\n",
    "print(\"The numbers: \", end=\"\") #end = \"\" will look for next print statement and if its there, it will print it in the same line\n",
    "print(a,b,c)"
   ]
  },
  {
   "cell_type": "markdown",
   "metadata": {},
   "source": [
    "In order to get the mutiplle input as integer we need to use the map function initially. after getting the inputs, it will split it and map them as an integer\n",
    "map() - map(int/str, input) "
   ]
  },
  {
   "cell_type": "markdown",
   "metadata": {},
   "source": [
    "### OUTPUT\n",
    "__Syntax: print(value(s), sep= '', end = ‘\\n’, file=file, flush=flush)__\n",
    "_Parameters:_\n",
    "\n",
    "_value(s)        : Any value, and as many as you like. Will be converted to string before printed_\n",
    "\n",
    "_sep=’separator’ : (Optional) Specify how to separate the objects, if there is more than one.Default :''_\n",
    "\n",
    "_end=’end’       : (Optional) Specify what to print at the end.Default : ‘\\n’_\n",
    "\n",
    "_file            : (Optional) An object with a write method. Default :sys.stdout_\n",
    "\n",
    "_flush           : (Optional) A Boolean, specifying if the output is flushed (True) or buffered (False). Default: False_\n",
    "\n",
    "_Returns         : It returns output to the screen._\n",
    "1. String formatting\n",
    "  - %-formatting\n",
    "  - str.format() method\n",
    "  - f-strings"
   ]
  },
  {
   "cell_type": "markdown",
   "metadata": {},
   "source": [
    "#### 1. Using f string"
   ]
  },
  {
   "cell_type": "code",
   "execution_count": 29,
   "metadata": {},
   "outputs": [
    {
     "name": "stdout",
     "output_type": "stream",
     "text": [
      "the numbers are: 12,22,33\n",
      "the numbers are: 12 - 22 - 33\n"
     ]
    }
   ],
   "source": [
    "print(f\"the numbers are: {a},{b},{c}\")\n",
    "print(f\"the numbers are: {a} - {b} - {c}\")"
   ]
  },
  {
   "cell_type": "markdown",
   "metadata": {},
   "source": [
    "#### 2. format()"
   ]
  },
  {
   "cell_type": "code",
   "execution_count": 28,
   "metadata": {},
   "outputs": [
    {
     "name": "stdout",
     "output_type": "stream",
     "text": [
      "the numbers: 12, 22, 33 \n",
      "\n",
      "the numbers: 12- 22- 33\n"
     ]
    }
   ],
   "source": [
    "print(\"the numbers: {}, {}, {}\".format(a,b,c), \"\\n\")\n",
    "print(\"the numbers: {}- {}- {}\".format(a,b,c))"
   ]
  },
  {
   "cell_type": "markdown",
   "metadata": {},
   "source": [
    "#### 3. .join() method"
   ]
  },
  {
   "cell_type": "code",
   "execution_count": 23,
   "metadata": {},
   "outputs": [
    {
     "name": "stdout",
     "output_type": "stream",
     "text": [
      "the numbers: 12-22-33\n"
     ]
    }
   ],
   "source": [
    "print(\"the numbers: \" + \"-\".join(map(str, [a,b,c])))"
   ]
  },
  {
   "cell_type": "markdown",
   "metadata": {},
   "source": [
    "#### 4. sep parameter inside print() function"
   ]
  },
  {
   "cell_type": "code",
   "execution_count": 27,
   "metadata": {},
   "outputs": [
    {
     "name": "stdout",
     "output_type": "stream",
     "text": [
      "12, 22, 33\n"
     ]
    }
   ],
   "source": [
    "print(a, b, c, sep=\", \", end=\"\\n\")"
   ]
  },
  {
   "cell_type": "markdown",
   "metadata": {},
   "source": [
    "#### Using the % operator (String Formatting - Python 2 and 3)\n",
    "\"\"\"\n",
    "We can use ‘%’ operator. % values are replaced with zero or more value of elements. \n",
    "The formatting using % is similar to that of ‘printf’ in the C programming language.\n",
    "\n",
    "%d – integer\n",
    "%f – float\n",
    "%s – string\n",
    "%x – hexadecimal\n",
    "%o – octal"
   ]
  },
  {
   "cell_type": "code",
   "execution_count": 32,
   "metadata": {},
   "outputs": [
    {
     "name": "stdout",
     "output_type": "stream",
     "text": [
      "nubers: 12, 22, 33\n"
     ]
    }
   ],
   "source": [
    "print(\"nubers: %s, %s, %s\"%(a,b,c))"
   ]
  },
  {
   "cell_type": "code",
   "execution_count": 34,
   "metadata": {},
   "outputs": [
    {
     "name": "stdout",
     "output_type": "stream",
     "text": [
      "10.1\n",
      "10.10101010\n"
     ]
    }
   ],
   "source": [
    "num = 10.1010101010101010\n",
    "print(\"%.1f\" % num)\n",
    "print(\"%.8f\" % num)"
   ]
  },
  {
   "cell_type": "code",
   "execution_count": 35,
   "metadata": {},
   "outputs": [
    {
     "name": "stdout",
     "output_type": "stream",
     "text": [
      "The Number is: 10\n"
     ]
    }
   ],
   "source": [
    "num1 = 10\n",
    "print(\"The Number is: %d\" % num1)"
   ]
  },
  {
   "cell_type": "code",
   "execution_count": 37,
   "metadata": {},
   "outputs": [
    {
     "name": "stdout",
     "output_type": "stream",
     "text": [
      "Language is Python and Number is 10.101\n"
     ]
    }
   ],
   "source": [
    "language = \"Python\"\n",
    "print(\"Language is %s and Number is %.3f\" % (language, num))\n"
   ]
  },
  {
   "cell_type": "code",
   "execution_count": 33,
   "metadata": {},
   "outputs": [
    {
     "name": "stdout",
     "output_type": "stream",
     "text": [
      "PYTHON@P#Y#T#H#O#N\n"
     ]
    }
   ],
   "source": [
    "print(\"PYTHON\", end=\"@\")\n",
    "print('P', 'Y', 'T', 'H', 'O', 'N', sep=\"#\")"
   ]
  }
 ],
 "metadata": {
  "kernelspec": {
   "display_name": "Python 3",
   "language": "python",
   "name": "python3"
  },
  "language_info": {
   "codemirror_mode": {
    "name": "ipython",
    "version": 3
   },
   "file_extension": ".py",
   "mimetype": "text/x-python",
   "name": "python",
   "nbconvert_exporter": "python",
   "pygments_lexer": "ipython3",
   "version": "3.11.5"
  }
 },
 "nbformat": 4,
 "nbformat_minor": 2
}
