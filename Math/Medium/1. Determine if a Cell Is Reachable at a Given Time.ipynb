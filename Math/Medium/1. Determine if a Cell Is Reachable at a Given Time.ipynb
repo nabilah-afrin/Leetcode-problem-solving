{
 "cells": [
  {
   "cell_type": "markdown",
   "metadata": {},
   "source": [
    "# LC Daily Challenge: <a href = \"https://leetcode.com/problems/determine-if-a-cell-is-reachable-at-a-given-time/description/?envType=daily-question&envId=2023-11-08\">Determine if a Cell Is Reachable at a Given Time</a>"
   ]
  },
  {
   "cell_type": "markdown",
   "metadata": {},
   "source": [
    "## Problem Statement\n",
    "In an infinite 2D grid, coordinates of two points are given. The starting cell =` (sx, sy)` and the finishing cell = `(fx,fy)`. Another ` non-negative integer t ` is given as well.\n",
    "\n",
    "It takes 1 second to move to the other adjacent cell. Each cell is surrounded by 8 adjacent cells.\n",
    "\n",
    "If the starting cell can reach the finishing cell *`after exactly t seconds`*, return True"
   ]
  },
  {
   "cell_type": "markdown",
   "metadata": {},
   "source": [
    "## Solution\n",
    "The problem seemed quite easy until some edge cases were hard to resolve. At first I tried to solve the problem using euclidean distance, but it failed after 600 test cases.\n",
    "\n",
    "In order to deal with the edge cases we have to consider some factors:\n",
    ">>> when the starting point and finishing points are the same, either it doesnot move at all or it moves several cells and returns to the same position (t is eihter 0 or greater than 1) \n",
    "\n",
    "After considering the edge case, this is the final solution\n",
    "1. return true when t= 0 or t>1 for same starting and finishing points\n",
    "2. find the horizontal and vertical distance\n",
    "3. if the maximum distance between horizontal or vertical is greater then t, then return False\n"
   ]
  },
  {
   "cell_type": "code",
   "execution_count": 1,
   "metadata": {},
   "outputs": [],
   "source": [
    "# Leetcode daily challenge: day 10\n",
    "# 08/11/23\n",
    "class Solution:\n",
    "    def isReachableAtTime(self, sx: int, sy: int, fx: int, fy: int, t: int) -> bool:\n",
    "        if sx==fx and sy ==fy:\n",
    "            return t>1 or t==0\n",
    "        # distance =  abs(((fx - sx) ** 2 + (fy - fy) ** 2) ** 0.5) \n",
    "        height = abs(sy-fy)        \n",
    "        width = abs(sx-fx)\n",
    "        return max(height,width) <= t"
   ]
  }
 ],
 "metadata": {
  "kernelspec": {
   "display_name": "base",
   "language": "python",
   "name": "python3"
  },
  "language_info": {
   "codemirror_mode": {
    "name": "ipython",
    "version": 3
   },
   "file_extension": ".py",
   "mimetype": "text/x-python",
   "name": "python",
   "nbconvert_exporter": "python",
   "pygments_lexer": "ipython3",
   "version": "3.11.4"
  }
 },
 "nbformat": 4,
 "nbformat_minor": 2
}
