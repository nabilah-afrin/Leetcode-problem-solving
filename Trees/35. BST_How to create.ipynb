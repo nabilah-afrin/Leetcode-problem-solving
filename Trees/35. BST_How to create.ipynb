{
 "cells": [
  {
   "cell_type": "markdown",
   "metadata": {},
   "source": [
    "<h1> Leetcode problems</h1>"
   ]
  },
  {
   "cell_type": "markdown",
   "metadata": {},
   "source": [
    "# Problem 29\n",
    "<h2>  Search in a Binary Search Tree </h2>\n",
    "<p>You are given the root of a binary search tree (BST) and an integer val.\n",
    "Find the node in the BST that the node's value equals val and return the subtree rooted with that node. If such a node does not exist, return null.\n",
    "Input: root = [4,2,7,1,3], val = 2\n",
    "Output: [2,1,3]\n",
    "</p>"
   ]
  },
  {
   "cell_type": "code",
   "execution_count": 1,
   "metadata": {},
   "outputs": [
    {
     "data": {
      "text/plain": [
       "'class Solution(object):\\n    def searchBST(self, root, val):\\n        new_array = []\\n        if root is None:\\n            return None\\n        for i = 0:\\n            if root[i] <= val:\\n                new_array.append(root[i])\\n                i +=1\\n            '"
      ]
     },
     "execution_count": 1,
     "metadata": {},
     "output_type": "execute_result"
    }
   ],
   "source": [
    "\"\"\"class Solution(object):\n",
    "    def searchBST(self, root, val):\n",
    "        new_array = []\n",
    "        if root is None:\n",
    "            return None\n",
    "        for i = 0:\n",
    "            if root[i] <= val:\n",
    "                new_array.append(root[i])\n",
    "                i +=1\n",
    "            \"\"\"\n",
    "           "
   ]
  },
  {
   "cell_type": "markdown",
   "metadata": {},
   "source": [
    "<p>In BST we cannot treat it like an array.\n",
    "so We cant use indexing like array[i]\n",
    "because, a BST is a tree structure where each node has left and right children. There's no direct indexing like an array.</p>"
   ]
  },
  {
   "cell_type": "markdown",
   "metadata": {},
   "source": [
    "## Binary Search Tree from A to Z\n",
    "<h3> How to create a BST</h3>\n",
    "Creating a Binary Search Tree (BST) involves inserting nodes in a way that maintains the BST properties: \n",
    "\n",
    "1.   all nodes in the left subtree of a node should have values less than the node's value \n",
    "2.   all nodes in the right subtree should have values greater than the node's value. \n",
    "3.   Traversal involves visiting each node in a specific order. \n",
    "4.   There are three common methods of traversal: \n",
    "**in-order, pre-order, and post-order** \n"
   ]
  },
  {
   "cell_type": "markdown",
   "metadata": {},
   "source": [
    "### Creating a BST"
   ]
  },
  {
   "cell_type": "code",
   "execution_count": 2,
   "metadata": {},
   "outputs": [],
   "source": [
    "class TreeNode:\n",
    "    def __init__(self, val = 0, left = None, right = None):\n",
    "        self.val = val\n",
    "        self.left = left\n",
    "        self.right = right\n",
    "\n",
    "class BST:\n",
    "    def __init__(self):\n",
    "        self.root = None\n",
    "\n",
    "    def insert(self, val):\n",
    "        self.root = self._insert_recursive(self.root, val)\n",
    "    \n",
    "    def _insert_recursive(self,node, val):\n",
    "        if node is None:\n",
    "            return TreeNode(val)\n",
    "        if val < node.val:\n",
    "            node.left = self._insert_recursive(node.left, val)\n",
    "        else:\n",
    "            node.right = self._insert_recursive(node.right, val)\n",
    "        return node"
   ]
  },
  {
   "cell_type": "code",
   "execution_count": 3,
   "metadata": {},
   "outputs": [],
   "source": [
    "#create the nodes\n",
    "a = TreeNode(\"a\")\n",
    "b = TreeNode(\"b\")\n",
    "c = TreeNode(\"c\")\n",
    "d = TreeNode(\"d\")\n",
    "e = TreeNode(\"e\")\n",
    "f = TreeNode(\"f\")\n",
    "\n",
    "#create pointers\n",
    "a.left =b\n",
    "a.right = c\n",
    "b.left = d\n",
    "b.right = e\n",
    "c.right = f"
   ]
  },
  {
   "cell_type": "markdown",
   "metadata": {},
   "source": [
    "# DFS\n",
    "\n",
    "keep looking at the next node, or the next level.\n",
    "\n",
    "when there is no child of the corresponding node, then look other node benlonging in the same level. the next node will look for nodes in the next level\n",
    "\n",
    "          a\n",
    "        /   \\\n",
    "        b    c\n",
    "       / \\    \\\n",
    "      d   e    f\n",
    "\n",
    "dfs traversal: a >b >d >e >c >f"
   ]
  },
  {
   "cell_type": "code",
   "execution_count": null,
   "metadata": {},
   "outputs": [],
   "source": [
    "def dfs(root):\n",
    "    stack = [root]\n",
    "    while len(stack) > 0:\n",
    "        \n"
   ]
  },
  {
   "cell_type": "markdown",
   "metadata": {},
   "source": [
    "## Search in BST"
   ]
  },
  {
   "cell_type": "code",
   "execution_count": 4,
   "metadata": {},
   "outputs": [],
   "source": [
    "def search( search_value, root):\n",
    "    #base case: if the node is nonexistent return the current node\n",
    "    #if the value is found\n",
    "    current = root\n",
    "    if current is None or current.val == search_value:\n",
    "        return current\n",
    "    \n",
    "    #if the value<current node value: make the left child current node\n",
    "    elif current.val >search_value:\n",
    "        return search(search_value, current.left)\n",
    "    \n",
    "    else:\n",
    "        return search(search_value, current.right)"
   ]
  },
  {
   "cell_type": "markdown",
   "metadata": {},
   "source": [
    "### Test case"
   ]
  },
  {
   "cell_type": "code",
   "execution_count": 5,
   "metadata": {},
   "outputs": [
    {
     "name": "stdout",
     "output_type": "stream",
     "text": [
      "Value found in the binary tree!\n"
     ]
    }
   ],
   "source": [
    "# Example usage\n",
    "# Creating a binary tree\n",
    "root = TreeNode(5)\n",
    "root.left = TreeNode(3)\n",
    "root.right = TreeNode(8)\n",
    "root.left.left = TreeNode(2)\n",
    "root.left.right = TreeNode(4)\n",
    "root.right.left = TreeNode(7)\n",
    "root.right.right = TreeNode(9)\n",
    "root.left.right.left = TreeNode(1)\n",
    "\n",
    "# Calling the search function\n",
    "result = search(4, root)\n",
    "\n",
    "if result:\n",
    "    print(\"Value found in the binary tree!\")\n",
    "else:\n",
    "    print(\"Value not found in the binary tree.\")\n"
   ]
  },
  {
   "cell_type": "markdown",
   "metadata": {},
   "source": [
    "## Insertion in BST\n",
    "- compare the targeted value with the current node\n",
    "- insert according to the comparison if the current node has no children\n",
    "- else, make the children as the current node"
   ]
  },
  {
   "cell_type": "code",
   "execution_count": 6,
   "metadata": {},
   "outputs": [],
   "source": [
    "def insertion(root, target):\n",
    "    current = root\n",
    "    #if the target is less than the current >> left node\n",
    "    if target < current.val:\n",
    "        #two cases for each side\n",
    "        #if there is no children then insert\n",
    "        if current.left is None: current.left = TreeNode(target) #here we have to call the class as the insertion requires both value and node creation\n",
    "\n",
    "        #else make the left child as the current\n",
    "        else: insertion(current.left, target)\n",
    "    \n",
    "    #if the target val is greater than the current node val >> right\n",
    "    elif target > current.val:\n",
    "        #if no child\n",
    "        if current.right is None: current.right = TreeNode(target)\n",
    "\n",
    "        #else make the right child as current\n",
    "        else:\n",
    "            insertion(current.right, target)\n"
   ]
  }
 ],
 "metadata": {
  "kernelspec": {
   "display_name": "base",
   "language": "python",
   "name": "python3"
  },
  "language_info": {
   "codemirror_mode": {
    "name": "ipython",
    "version": 3
   },
   "file_extension": ".py",
   "mimetype": "text/x-python",
   "name": "python",
   "nbconvert_exporter": "python",
   "pygments_lexer": "ipython3",
   "version": "3.11.5"
  },
  "orig_nbformat": 4
 },
 "nbformat": 4,
 "nbformat_minor": 2
}
