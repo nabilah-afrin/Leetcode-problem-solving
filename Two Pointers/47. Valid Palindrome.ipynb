{
 "cells": [
  {
   "cell_type": "markdown",
   "metadata": {},
   "source": [
    "# Valid Palindrome\n",
    "\n",
    "algorithms\tEasy (45.42%)\t\n",
    "Tags || two-pointers | string\n",
    "\n",
    "Companies || facebook | microsoft | uber | zenefits\n",
    "\n",
    "A phrase is a palindrome if, after converting all uppercase letters into lowercase letters and removing all non-alphanumeric characters, it reads the same forward and backward. Alphanumeric characters include letters and numbers.\n",
    "\n",
    "Given a string s, return true if it is a palindrome, or false otherwise.\n",
    "```yaml\n",
    "Example 1:\n",
    "Input: s = \"A man, a plan, a canal: Panama\"\n",
    "Output: true\n",
    "Explanation: \"amanaplanacanalpanama\" is a palindrome.\n",
    "\n",
    "Example 2:\n",
    "Input: s = \"race a car\"\n",
    "Output: false\n",
    "Explanation: \"raceacar\" is not a palindrome.\n",
    "\n",
    "Example 3:\n",
    "Input: s = \" \"\n",
    "Output: true\n",
    "Explanation: s is an empty string \"\" after removing non-alphanumeric characters.\n",
    "Since an empty string reads the same forward and backward, it is a palindrome.\n",
    " ```\n",
    "Constraints:\n",
    "\n",
    "1 <= s.length <= 2 * 105\n",
    "s consists only of printable ASCII characters.\n"
   ]
  },
  {
   "cell_type": "markdown",
   "metadata": {},
   "source": [
    "## Intuitive Approach"
   ]
  },
  {
   "cell_type": "code",
   "execution_count": 1,
   "metadata": {},
   "outputs": [],
   "source": [
    "class Solution(object):\n",
    "    def isPalindrome(self, s):\n",
    "\n",
    "        s = ''.join(letter for letter in s.lower() if letter.isalnum())\n",
    "        i, j = 0, len(s) - 1\n",
    "        while i < j:\n",
    "            if s[i] != s[j]:\n",
    "                return False\n",
    "            else:\n",
    "                i += 1\n",
    "                j -= 1\n",
    "        return True"
   ]
  },
  {
   "cell_type": "markdown",
   "metadata": {},
   "source": [
    "The isalnum() method returns True if all characters in the string are alphanumeric (either alphabets or numbers). If not, it returns False."
   ]
  },
  {
   "cell_type": "markdown",
   "metadata": {},
   "source": [
    "### Time Complexity:\n",
    "\n",
    "The first step is to convert the input string to lowercase, which takes O(n) time, where n is the length of the original string.\n",
    "\n",
    "Next, we iterate through the modified string to remove non-alphanumeric characters using a list comprehension. This also takes O(n) time because we iterate through each character in the string once.\n",
    "\n",
    "After that, we use a two-pointer approach to check if the string is a palindrome. In the worst case, we may need to compare all characters, which takes O(n/2) time (approximately O(n) time in the worst case).\n",
    "\n",
    "Overall, the time complexity of the isPalindrome function is O(n)."
   ]
  },
  {
   "cell_type": "markdown",
   "metadata": {},
   "source": [
    "### Space Complexity:\n",
    "\n",
    "We create a modified string that contains only alphanumeric characters, which can be at most n characters long. Therefore, the space complexity for this part is O(n).\n",
    "\n",
    "We use a constant amount of additional space for variables i, j, and a few temporary variables. These do not depend on the input size, so they are considered to be O(1) space.\n",
    "\n",
    "Overall, the space complexity of the isPalindrome function is O(n) due to the modified string created during processing."
   ]
  },
  {
   "cell_type": "markdown",
   "metadata": {},
   "source": [
    "## Test cases\n",
    "s = \"a#b\"\n",
    "\n",
    "\n",
    "A palindrome with only alphanumeric characters:\n",
    "\n",
    "s = \"racecar\"\n",
    "\n",
    "\n",
    "A palindrome with mixed uppercase and lowercase alphanumeric characters:\n",
    "\n",
    "s = \"Able was I ere I saw Elba\"\n",
    "\n",
    "\n",
    "A non-palindrome with only alphanumeric characters:\n",
    "\n",
    "s = \"hello\"\n",
    "\n",
    "\n",
    "A string with spaces but is a palindrome when spaces are ignored:\n",
    " \n",
    "s = \"A man a plan a canal Panama\"\n",
    "\n",
    "\n",
    "A string with spaces and non-alphanumeric characters but is a palindrome when they are ignored:\n",
    " \n",
    "s = \"Was it a car or a cat I saw?\"\n",
    "\n",
    "\n",
    "A string with special characters:\n",
    "\n",
    "s = \"@$%^&*\"\n",
    "\n",
    "\n",
    "A long palindrome with only alphanumeric characters:\n",
    "\n",
    "s = \"abcd\" * 1000 + \"dcba\"\n",
    "\n",
    "\n",
    "A long non-palindrome with only alphanumeric characters:\n",
    "\n",
    "s = \"abcde\" * 1000 + \"f\"\n",
    "\n",
    "\n",
    "A string with leading and trailing spaces:\n",
    "\n",
    "s = \"   racecar   \"\n",
    "A string with leading and trailing non-alphanumeric characters:\n",
    "\n",
    "s = \"@racecar#\"\n",
    "\n",
    "\n",
    "A string with leading and trailing spaces and mixed uppercase and lowercase alphanumeric characters, forming a palindrome:\n",
    "\n",
    "s = \"  Madam  In Eden, I'm Adam  \""
   ]
  }
 ],
 "metadata": {
  "kernelspec": {
   "display_name": "base",
   "language": "python",
   "name": "python3"
  },
  "language_info": {
   "codemirror_mode": {
    "name": "ipython",
    "version": 3
   },
   "file_extension": ".py",
   "mimetype": "text/x-python",
   "name": "python",
   "nbconvert_exporter": "python",
   "pygments_lexer": "ipython3",
   "version": "3.10.9"
  },
  "orig_nbformat": 4
 },
 "nbformat": 4,
 "nbformat_minor": 2
}
