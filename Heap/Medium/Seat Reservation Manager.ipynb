{
 "cells": [
  {
   "cell_type": "markdown",
   "metadata": {},
   "source": [
    "# LC Daily Challenge: <a href = \"https://leetcode.com/problems/seat-reservation-manager/?envType=daily-question&envId=2023-11-06\">Seat Reservation Manager</a>"
   ]
  },
  {
   "cell_type": "markdown",
   "metadata": {},
   "source": [
    "## Problem Statement\n",
    "This is a basic level system design problem, where we have to develop a seat management system. There are three main tasks:\n",
    "- `Initiate objects for seat management:` Manage `n` number of avaiable seats starting from 1 (avoid zero indexing).\n",
    "- `resrever() method for seat reservation:` Reserve or take a seat from the available seat starting from 1 to n, the reserved seat will be the smallest; that means initially the first seat that gets reserved is seat number 1. return the seat that just got reserved\n",
    "- `unreserve() method`: Unreserve a seat that with a given *seatnumber*\n",
    "\n",
    "```yaml\n",
    "Example 1:\n",
    "Input\n",
    "[\"SeatManager\", \"reserve\", \"reserve\", \"unreserve\", \"reserve\", \"reserve\", \"reserve\", \"reserve\", \"unreserve\"]\n",
    "[[5], [], [], [2], [], [], [], [], [5]]\n",
    "Output\n",
    "[null, 1, 2, null, 2, 3, 4, 5, null]\n",
    "Explanation\n",
    "SeatManager seatManager = new SeatManager(5); // Initializes a SeatManager with 5 seats.\n",
    "seatManager.reserve();    // All seats are available, so return the lowest numbered seat, which is 1.\n",
    "seatManager.reserve();    // The available seats are [2,3,4,5], so return the lowest of them, which is 2.\n",
    "seatManager.unreserve(2); // Unreserve seat 2, so now the available seats are [2,3,4,5].\n",
    "seatManager.reserve();    // The available seats are [2,3,4,5], so return the lowest of them, which is 2.\n",
    "seatManager.reserve();    // The available seats are [3,4,5], so return the lowest of them, which is 3.\n",
    "seatManager.reserve();    // The available seats are [4,5], so return the lowest of them, which is 4.\n",
    "seatManager.reserve();    // The only available seat is seat 5, so return 5.\n",
    "seatManager.unreserve(5); // Unreserve seat 5, so now the available seats are [5].\n",
    "Constraints:\n",
    "1 <= n <= 105\n",
    "1 <= seatNumber <= n\n",
    "For each call to reserve, it is guaranteed that there will be at least one unreserved seat.\n",
    "For each call to unreserve, it is guaranteed that seatNumber will be reserved.\n",
    "At most 105 calls in total will be made to reserve and unreserve."
   ]
  },
  {
   "cell_type": "markdown",
   "metadata": {},
   "source": [
    "## Heap approach\n",
    "While dealing with this problem, we have to consider two main factors: \n",
    "* Create a data structure, that will maintain all the seats starting from one\n",
    "* sort the seats, to reserve seats in order\n",
    "\n",
    "Considering these two points, using the *`heapq method`* will be one of the optimal approach, because to reserve the seat, we can automatically get the lowest ekement without the sorting.\n",
    "Hence the approach is listed bellow:\n",
    "1. Create list for `n` number of seats\n",
    "2. use `heappop(list)` to get the lowest seat\n",
    "3. use `heappush(list, seatnumber)` to get a seat available"
   ]
  },
  {
   "cell_type": "code",
   "execution_count": 2,
   "metadata": {},
   "outputs": [],
   "source": [
    "# daily leetcode challenge: day 08\n",
    "# 06/11/2023\n",
    "\n",
    "import heapq\n",
    "class SeatManager:\n",
    "\n",
    "    def __init__(self, n: int):\n",
    "        self.seats = [number for number in range(1, n+1)]\n",
    "        # self.seats.sort()\n",
    "    def reserve(self) -> int:\n",
    "        if self.seats:\n",
    "            return heapq.heappop(self.seats)\n",
    "        return -1\n",
    "\n",
    "    def unreserve(self, seatNumber: int) -> None:\n",
    "        heapq.heappush(self.seats, seatNumber)\n",
    "        #self.available_seats.sort()\n",
    "\n",
    "# Your SeatManager object will be instantiated and called as such:\n",
    "# obj = SeatManager(n)\n",
    "# param_1 = obj.reserve()\n",
    "# obj.unreserve(seatNumber)"
   ]
  },
  {
   "cell_type": "markdown",
   "metadata": {},
   "source": [
    "## Combination of a Counter and Min-Heap strategy\n",
    "- create a variable to keep track of the last seat that got reserved in a continuous manner\n",
    "-  create a min-heap variable, that will keep track of the seats that got *unreserved*. These unreserved seats will be mutually out of continuous sequence.For instance, if someone reserves seats 1, 2, and 3, and then unreserves seat 2, then seat 2 will be added to the min-heap.\n",
    "- now, what if the min_heap varibale is empty? just incremanet in with the last counter variable\n",
    "- or, what if the seats are unreserved in continuous manner as well? that is, the unreserved is the last seat in the continuous sequence. Just decrement the last counter."
   ]
  },
  {
   "cell_type": "code",
   "execution_count": 3,
   "metadata": {},
   "outputs": [],
   "source": [
    "class SeatManager:\n",
    "    def __init__(self, n:int):\n",
    "        self.last = 0 #store the last or max element\n",
    "        self.heap = [] #store the discontinous unreserved seat\n",
    "    \n",
    "    def reserve(self):\n",
    "        if not self.heap: #for no discontinous unreserved seats\n",
    "            self.last +=1 \n",
    "            return self.last\n",
    "        return heapq.heappop(self.heap)\n",
    "    \n",
    "    def unreserver(self, seatNumber):\n",
    "        if seatNumber == self.last:\n",
    "            self.last -= 1\n",
    "        else:\n",
    "            heapq.heappush(self.heap, seatNumber)"
   ]
  },
  {
   "cell_type": "markdown",
   "metadata": {},
   "source": [
    "## sorted set approach\n",
    "Sorted set is a sorted mutable set. Sorted set values are maintained in sorted order. The design of sorted set is simple: sorted set uses a set for set-operations and maintains a sorted list of values. Sorted set values must be hashable and comparable.\n",
    "This data structure internally uses a height-balanced binary search tree (like, a red-black tree, AVL tree, etc.) to keep the data sorted. Thus, pushing an element, popping an element, and getting the minimum-valued element are all logarithmic time operations because the tree balances itself after each operation.\n",
    "1. initialize the object with built in `sortedset`\n",
    "2. for reserve method: pop the first element from th sorted set\n",
    "3. add the given number in the second method"
   ]
  },
  {
   "cell_type": "code",
   "execution_count": 5,
   "metadata": {},
   "outputs": [],
   "source": [
    "from sortedcontainers import SortedSet\n",
    "class SeatManagement:\n",
    "    def __init__(self, n):\n",
    "        self.marker = 1 #store the first unreserved seat\n",
    "        self.available_seats = SortedSet() # store unreseved seat\n",
    "\n",
    "    def reserve(self):\n",
    "        #if there are available seats in the list\n",
    "        if self.available_seats:\n",
    "            return self.available_seats.pop(0)\n",
    "        \n",
    "        #if all the seats are reserved\n",
    "        seat_number = self.marker\n",
    "        self.marker+=1\n",
    "        return seat_number\n",
    "    \n",
    "    def unreseve(self,seatNumber):\n",
    "        self.available_seats.add(seatNumber)"
   ]
  },
  {
   "cell_type": "markdown",
   "metadata": {},
   "source": [
    "## Test cases"
   ]
  },
  {
   "cell_type": "markdown",
   "metadata": {},
   "source": [
    "```python\n",
    "Case1 -> all seats reserved and then unreserved\n",
    "[\"SeatManager\", \"reserve\", \"reserve\", \"reserve\", \"reserve\", \"unreserve\", \"unreserve\", \"unreserve\", \"unreserve\"]\n",
    "[[4], [], [], [], [], [1], [2], [3], [4]] # Output: [null, 1, 2, 3, 4, null, null, null, null]\n",
    "\n",
    "Case2 -> only one seat available\n",
    "[\"SeatManager\", \"reserve\", \"unreserve\", \"reserve\"]\n",
    "[[1], [], [1], []] \n",
    "```"
   ]
  }
 ],
 "metadata": {
  "kernelspec": {
   "display_name": "base",
   "language": "python",
   "name": "python3"
  },
  "language_info": {
   "codemirror_mode": {
    "name": "ipython",
    "version": 3
   },
   "file_extension": ".py",
   "mimetype": "text/x-python",
   "name": "python",
   "nbconvert_exporter": "python",
   "pygments_lexer": "ipython3",
   "version": "3.11.4"
  }
 },
 "nbformat": 4,
 "nbformat_minor": 2
}
