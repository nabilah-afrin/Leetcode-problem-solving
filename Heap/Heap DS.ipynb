{
 "cells": [
  {
   "cell_type": "markdown",
   "metadata": {},
   "source": [
    "# Heap \n",
    "Heap is a tree-based DS, which can be used when we want to constantly keep tabs on __the greatest or the least__ data element in the dataset. In order to understand the heap, we have to first undersatnd what is *priority queue*"
   ]
  },
  {
   "cell_type": "markdown",
   "metadata": {},
   "source": [
    "<h3>Priority Queue</h3>\n",
    "In accessing the queue’s data, we give precedence to the order in which the data was inserted. It maintains the FIFO order, where the last eleement or the front of the ques is first inserted or deleted.\n",
    "\n",
    "But in the priority queue, to insert the data we must make sure the data is in a specific order. Meaining, the item will be inserted in the front of the queue, but the front element will be decided according to the priority. After sorting, the data can be normally deleted like any other queue item.\n",
    "\n",
    "The priority queue is an example of an abstract data type. That is, it can be implemented using other, more fundamental data structures. One straight-\n",
    "forward way we can implement a priority queue is by using an ordered array."
   ]
  },
  {
   "cell_type": "markdown",
   "metadata": {},
   "source": [
    "<h3> Heap </h3>\n",
    "based on the above explanation, its obvious that, insertion takes O(n) istead of O(1). To overcome the insertion problem, heap DS comes in light.\n",
    "There are two types of basic heap: min heap and max heap (specificanlly for binary heap). In a max-heap, the value of a parent node is always greater than or equal to the value of its children. In a min-heap, the value of a parent node is always less than or equal to the value of its children.\n",
    "\n",
    "<h4>Basic Properties:</h4>\n",
    "\n",
    "1. Shape Property: The heap is a complete binary tree, meaning all levels of the tree are fully filled except possibly for the last level, which is filled from left to right.\n",
    "2. Heap Property: In a min-heap, for any given node C with parent P, the key (value) of P is less than or equal to the key of C. In a max-heap, it's the opposite: the key of P is greater than or equal to the key of C.\n",
    "\n",
    "<h4>Basic Operations</h4>\n",
    "\n",
    "1. Insertion: Insert a new element into the heap. Place the element at the next available position in the last level of the heap and then \"heapify up\" by swapping the element with its parent until the heap property is restored.\n",
    "\n",
    "Time Complexity: O(log N) - where N is the number of elements in the heap.\n",
    "\n",
    "2. Deletion: Remove the root element from the heap. Replace the root with the last element in the last level of the heap, then \"heapify down\" by swapping the element with its smallest child until the heap property is restored.\n",
    "\n",
    "Time Complexity: O(log N) - where N is the number of elements in the heap.\n",
    "\n",
    "3. Peek (or Find Minimum/Maximum): Return the root element of the heap without removing it.\n",
    "\n",
    "Time Complexity: O(1)\n"
   ]
  },
  {
   "cell_type": "markdown",
   "metadata": {},
   "source": [
    "## Heapq"
   ]
  },
  {
   "cell_type": "markdown",
   "metadata": {},
   "source": [
    "\"heapq\" is a Python module in the standard library that provides functions for working with binary heaps. It is specifically used in list. When a list associated with heap related task, such as, implementing priority queues; as well as min-heaps."
   ]
  },
  {
   "cell_type": "code",
   "execution_count": 16,
   "metadata": {},
   "outputs": [],
   "source": [
    "import heapq\n",
    "\n",
    "#create an empty heap\n",
    "heap_list = []"
   ]
  },
  {
   "cell_type": "markdown",
   "metadata": {},
   "source": [
    "##### Insertion: heappush(heap, element), Deletion: heappop(heap), heapreplace(heap, element), heappushpop(heap, element)\n",
    "in heapq.heappush(), the element is added to the heap, and the heap property is preserved. In the case of a min-heap, the smallest element will always be at the root after the operation."
   ]
  },
  {
   "cell_type": "code",
   "execution_count": 17,
   "metadata": {},
   "outputs": [
    {
     "name": "stdout",
     "output_type": "stream",
     "text": [
      "[2, 5, 8]\n"
     ]
    }
   ],
   "source": [
    "# insert elements in heaps\n",
    "heapq.heappush(heap_list,5)\n",
    "heapq.heappush(heap_list, 2)\n",
    "heapq.heappush(heap_list, 8)\n",
    "print(heap_list)"
   ]
  },
  {
   "cell_type": "code",
   "execution_count": 18,
   "metadata": {},
   "outputs": [
    {
     "name": "stdout",
     "output_type": "stream",
     "text": [
      "2\n"
     ]
    }
   ],
   "source": [
    "# Get the minimum element\n",
    "min_element = heapq.heappop(heap_list)\n",
    "print(min_element)"
   ]
  },
  {
   "cell_type": "code",
   "execution_count": 19,
   "metadata": {},
   "outputs": [
    {
     "name": "stdout",
     "output_type": "stream",
     "text": [
      "[5, 8]\n"
     ]
    }
   ],
   "source": [
    "# Pops and returns the smallest element from the heap and then pushes a new element onto the heap.\n",
    "smallest = heapq.heapreplace(heap_list, 5)\n",
    "print(heap_list)"
   ]
  },
  {
   "cell_type": "code",
   "execution_count": 20,
   "metadata": {},
   "outputs": [
    {
     "name": "stdout",
     "output_type": "stream",
     "text": [
      "[8, 15]\n"
     ]
    }
   ],
   "source": [
    "#  Pushes a new element onto the heap and then pops and returns the smallest element from the heap.\n",
    "heapq.heappushpop(heap_list, 15) #\n",
    "print(heap_list)"
   ]
  }
 ],
 "metadata": {
  "kernelspec": {
   "display_name": "base",
   "language": "python",
   "name": "python3"
  },
  "language_info": {
   "codemirror_mode": {
    "name": "ipython",
    "version": 3
   },
   "file_extension": ".py",
   "mimetype": "text/x-python",
   "name": "python",
   "nbconvert_exporter": "python",
   "pygments_lexer": "ipython3",
   "version": "3.11.4"
  }
 },
 "nbformat": 4,
 "nbformat_minor": 2
}
