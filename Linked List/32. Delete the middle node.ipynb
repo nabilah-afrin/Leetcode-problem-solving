{
 "cells": [
  {
   "cell_type": "code",
   "execution_count": 1,
   "metadata": {},
   "outputs": [],
   "source": [
    "# Definition for singly-linked list.\n",
    "# class ListNode(object):\n",
    "#     def __init__(self, val=0, next=None):\n",
    "#         self.val = val\n",
    "#         self.next = next\n",
    "class Solution(object):\n",
    "    def deleteMiddle(self, head):\n",
    "        #edge case: return none when there is an empty or one node\n",
    "        if head.next == None:\n",
    "            return None\n",
    "        \n",
    "        index = 0\n",
    "        #create two sperate variable for current and \n",
    "        current = next_node = head\n",
    "\n",
    "        #count the length of the lniked list\n",
    "        while current:\n",
    "            index+=1\n",
    "            current = current.next\n",
    "        \n",
    "        #get the index of the middle node\n",
    "        middle = index//2\n",
    "\n",
    "        for _ in range(middle-1):\n",
    "            next_node = next_node.next\n",
    "        \n",
    "        #delete the middle node\n",
    "        next_node.next = next_node.next.next\n",
    "        return head\n",
    "\n",
    "\n"
   ]
  }
 ],
 "metadata": {
  "kernelspec": {
   "display_name": "base",
   "language": "python",
   "name": "python3"
  },
  "language_info": {
   "codemirror_mode": {
    "name": "ipython",
    "version": 3
   },
   "file_extension": ".py",
   "mimetype": "text/x-python",
   "name": "python",
   "nbconvert_exporter": "python",
   "pygments_lexer": "ipython3",
   "version": "3.10.9"
  },
  "orig_nbformat": 4
 },
 "nbformat": 4,
 "nbformat_minor": 2
}
