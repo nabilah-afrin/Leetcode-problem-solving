{
 "cells": [
  {
   "cell_type": "markdown",
   "metadata": {},
   "source": [
    "# Merge two linked list\n",
    "\n",
    "## 21. Merge Two Sorted Lists\n",
    "\n",
    "Topics: Linkedlist, Recusrsion\n",
    "\n",
    "You are given the heads of two sorted linked lists list1 and list2.\n",
    "\n",
    "Merge the two lists into one sorted list. The list should be made by splicing together the nodes of the first two lists.\n",
    "\n",
    "Return the head of the merged linked list.\n",
    "```yaml\n",
    "Example 1:\n",
    "Input: list1 = [1,2,4], list2 = [1,3,4]\n",
    "Output: [1,1,2,3,4,4]\n",
    "\n",
    "Example 2:\n",
    "Input: list1 = [], list2 = []\n",
    "Output: []\n",
    "\n",
    "Example 3:\n",
    "Input: list1 = [], list2 = [0]\n",
    "Output: [0]\n",
    " ```\n",
    "Constraints:\n",
    "1. The number of nodes in both lists is in the range [0, 50].\n",
    "2. -100 <= Node.val <= 100\n",
    "3. Both list1 and list2 are sorted in non-decreasing order.\n",
    "\n",
    "![](https://media.geeksforgeeks.org/wp-content/cdn-uploads/20220303143032/Merge-Two-Sorted-LinkedLists1.jpg)"
   ]
  },
  {
   "cell_type": "markdown",
   "metadata": {},
   "source": [
    "## Bruet force method"
   ]
  },
  {
   "cell_type": "code",
   "execution_count": 6,
   "metadata": {},
   "outputs": [],
   "source": [
    "class Node:\n",
    "    def __init__(self, key):\n",
    "        self.key = key\n",
    "        self.next = None\n",
    "def newNode(key):\n",
    "    return Node(key)\n",
    "#create two sorted linked lists to test the above\n",
    "#function. Created lists shall be\n",
    "#a: 5->10->15->40\n",
    "#b: 2->3->20\n",
    "a = Node(5)\n",
    "a.next = Node(10)\n",
    "a.next.next = Node(15)\n",
    "a.next.next.next = Node(40)\n",
    "b = Node(2)\n",
    "b.next = Node(3)\n",
    "b.next.next = Node(20)\n",
    " \n",
    "temp = []\n",
    "while a is not None:\n",
    "    temp.append(a.key)\n",
    "    a = a.next\n",
    "while(b is not None):\n",
    "    temp.append(b.key)\n",
    "    b = b.next\n",
    "temp.sort()\n"
   ]
  },
  {
   "cell_type": "markdown",
   "metadata": {},
   "source": [
    "## Recusively"
   ]
  },
  {
   "cell_type": "markdown",
   "metadata": {},
   "source": [
    "The idea is to use a temporary dummy node as the start of the result list. The pointer Tail always points to the last node in the result list, so appending new nodes is easy.\n"
   ]
  },
  {
   "cell_type": "markdown",
   "metadata": {},
   "source": [
    "Follow the steps below to solve the problem:\n",
    "\n",
    "- First, make a dummy node for the new merged linked list\n",
    "- Now make two pointers, one will point to list1 and another will point to list2.\n",
    "- Now traverse the lists till one of them gets exhausted.\n",
    "- If the value of the node pointing to either list is smaller than another pointer, add that node to our merged list and increment that pointer."
   ]
  },
  {
   "cell_type": "code",
   "execution_count": null,
   "metadata": {},
   "outputs": [
    {
     "ename": "",
     "evalue": "",
     "output_type": "error",
     "traceback": [
      "\u001b[1;31mRunning cells with 'c:\\Users\\user\\AppData\\Local\\Programs\\Python\\Python311\\python.exe' requires the ipykernel package.\n",
      "\u001b[1;31mRun the following command to install 'ipykernel' into the Python environment. \n",
      "\u001b[1;31mCommand: 'c:/Users/user/AppData/Local/Programs/Python/Python311/python.exe -m pip install ipykernel -U --user --force-reinstall'"
     ]
    }
   ],
   "source": [
    "def mergeLinkedList(list1,list2):\n",
    "    #base case\n",
    "    if not list1: return list2\n",
    "    if not list2: return list1\n",
    "    \n",
    "    #condition\n",
    "    if list1.val < list2.val:\n",
    "        list1.next = mergeLinkedList(list1.next, list2)\n",
    "        return list1\n",
    "    \n",
    "    if list2.val < list1.val:\n",
    "        list2.next = mergeLinkedList(list1, list2.next)\n",
    "        return list2\n",
    "\n"
   ]
  }
 ],
 "metadata": {
  "kernelspec": {
   "display_name": "base",
   "language": "python",
   "name": "python3"
  },
  "language_info": {
   "codemirror_mode": {
    "name": "ipython",
    "version": 3
   },
   "file_extension": ".py",
   "mimetype": "text/x-python",
   "name": "python",
   "nbconvert_exporter": "python",
   "pygments_lexer": "ipython3",
   "version": "3.11.4"
  },
  "orig_nbformat": 4
 },
 "nbformat": 4,
 "nbformat_minor": 2
}
