{
 "cells": [
  {
   "cell_type": "markdown",
   "metadata": {},
   "source": [
    "# ODD EVEN LINKED LIST "
   ]
  },
  {
   "cell_type": "code",
   "execution_count": 18,
   "metadata": {},
   "outputs": [],
   "source": [
    "class ListNode:\n",
    "    def __init__(self, value = 0, next = None):\n",
    "        self.value = value \n",
    "        self.next = next\n"
   ]
  },
  {
   "cell_type": "markdown",
   "metadata": {},
   "source": [
    "Here, wil will iterate through the tail nodes. heads and current will be constant."
   ]
  },
  {
   "cell_type": "code",
   "execution_count": 19,
   "metadata": {},
   "outputs": [],
   "source": [
    "def odd_even_list(head):\n",
    "    odd_head=odd_tail = head\n",
    "    even_head = even_tail = head.next\n",
    "    current = head.next.next\n",
    "    index = 3 \n",
    "    while current:\n",
    "        #create the odd list:\n",
    "        if index % 2 == 1:\n",
    "            #create the pointer to connect between two nodes\n",
    "            odd_tail.next = current\n",
    "            #make the current as next tail\n",
    "            odd_tail = odd_tail.next\n",
    "        \n",
    "        else:\n",
    "            #create ponter\n",
    "            even_tail.next = current\n",
    "            even_tail = even_tail.next\n",
    "        \n",
    "        #merge the list\n",
    "        current = current.next #this is the position or index \n",
    "        index += 1\n",
    "\n",
    "    odd_tail.next = even_head\n",
    "    even_tail.next = None\n",
    "    return odd_head\n",
    "        \n"
   ]
  },
  {
   "cell_type": "markdown",
   "metadata": {},
   "source": [
    "## Test cases"
   ]
  },
  {
   "cell_type": "code",
   "execution_count": 20,
   "metadata": {},
   "outputs": [],
   "source": [
    "# Function to create a linked list from a list of values\n",
    "def linkedlist(values):\n",
    "    if not values:\n",
    "        return None\n",
    "    head = ListNode(values[0])\n",
    "    current = head\n",
    "    for val in values[1:]:\n",
    "        current.next = ListNode(val)\n",
    "        current = current.next\n",
    "    return head"
   ]
  },
  {
   "cell_type": "code",
   "execution_count": 16,
   "metadata": {},
   "outputs": [],
   "source": [
    "#print the linked list first\n",
    "def print_linked_list(head):\n",
    "    current = head\n",
    "    while current:\n",
    "        print(current.val, end=\" -> \")\n",
    "        current = current.next\n",
    "    print(\"None\")"
   ]
  },
  {
   "cell_type": "code",
   "execution_count": null,
   "metadata": {},
   "outputs": [],
   "source": [
    "# Get user input for the linked list values\n",
    "user_input = input(\"Enter a list of values separated by spaces: \")\n",
    "values = list(map(int, user_input.split()))\n",
    "\n",
    "# Create the linked list from the user input values\n",
    "head = linkedlist(values)\n",
    "\n",
    "# Reorder the linked list using oddEvenList function\n",
    "modified_head = odd_even_list(head)\n",
    "\n",
    "# Print the original and modified linked lists\n",
    "print(\"Original linked list:\")\n",
    "print_linked_list(head)\n",
    "\n",
    "print(\"Modified linked list:\")\n",
    "print_linked_list(modified_head)"
   ]
  }
 ],
 "metadata": {
  "kernelspec": {
   "display_name": "base",
   "language": "python",
   "name": "python3"
  },
  "language_info": {
   "codemirror_mode": {
    "name": "ipython",
    "version": 3
   },
   "file_extension": ".py",
   "mimetype": "text/x-python",
   "name": "python",
   "nbconvert_exporter": "python",
   "pygments_lexer": "ipython3",
   "version": "3.10.9"
  },
  "orig_nbformat": 4
 },
 "nbformat": 4,
 "nbformat_minor": 2
}
