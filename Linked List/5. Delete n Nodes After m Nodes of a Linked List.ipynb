{
 "cells": [
  {
   "cell_type": "markdown",
   "metadata": {},
   "source": [
    "# Problem: <a href=\"https://www.lintcode.com/problem/3632/\">Delete n Nodes After m Nodes of a Linked List</a>\n",
    "<h2>Description</h2>\n",
    "You are given the head of a linked list and two integers m and n.\n",
    "\n",
    "Traverse the linked list and remove some nodes in the following way:\n",
    "\n",
    "1. Start with the head as the current node\n",
    "2. Keep the first m nodes starting with the current node\n",
    "3. Remove the next n nodes\n",
    "4. Keep repeating steps 2 and 3 until you reach the end of the list\n",
    "5. Return the head of the modified list after removing the mentioned nodes. In addition, you do not need to consider ->null at the end of the output chain.\n",
    "\n",
    "```yaml\n",
    "1.\n",
    "input:\n",
    "head = 1->2->3->4->5->6->7->8->9->10->11->12->13\n",
    "m = 2\n",
    "n = 3\n",
    "output:\n",
    "1->2->6->7->11->12->null\n",
    "\n",
    "2. \n",
    "Input:\n",
    "head = 1->2->3->4->5->6->7->8->9->10->11\n",
    "m = 1\n",
    "n = 3\n",
    "1->5->9->null\n",
    "\n",
    "3.\n",
    "Input:\n",
    "head = 1->2->3->4->5->6->7\n",
    "m = 1\n",
    "n = 1\n",
    "Output:\n",
    "1->3->5->7\n",
    "```"
   ]
  },
  {
   "cell_type": "markdown",
   "metadata": {},
   "source": [
    "## Problem Statement\n",
    "In the given problem a linked list will be given, as well as two integers: m and n. We have to keep \"m\" number of nodes and remove \"n\" nodes consecutively until we reach the null point.\n",
    "\n",
    "we have to return the m nodes and then delete n nodes.\n",
    "\n",
    "for the solution, 3 factors need to be focused on:\n",
    "- create a variable, that will be set to NOne initially in order to store the m selected nodes\n",
    "- for next `n` nodes keep moving forward to the next nodes\n",
    "- connect the stored notes with next m nodes after n nodes are skipped "
   ]
  },
  {
   "cell_type": "markdown",
   "metadata": {},
   "source": [
    "## Solution"
   ]
  },
  {
   "cell_type": "markdown",
   "metadata": {},
   "source": [
    "### Create node"
   ]
  },
  {
   "cell_type": "code",
   "execution_count": 4,
   "metadata": {},
   "outputs": [],
   "source": [
    "class ListNode:\n",
    "    def __init__(self, val =0, next = None) -> None:\n",
    "        self.val = val\n",
    "        self.next = next"
   ]
  },
  {
   "cell_type": "markdown",
   "metadata": {},
   "source": [
    "### Define method"
   ]
  },
  {
   "cell_type": "code",
   "execution_count": 2,
   "metadata": {},
   "outputs": [],
   "source": [
    "def deleteNodes(head, m,n):\n",
    "    # Edge case: if the LL is empty or m or n is 0\n",
    "    if not head or m ==0 or n ==0:\n",
    "        return None\n",
    "    \n",
    "    current = head\n",
    "    # create a variable to store m number of nodes\n",
    "    prev = None\n",
    "    \n",
    "    while current: #until current is not null\n",
    "        #keep m nodes\n",
    "        for nodes in range(m):\n",
    "            if current:\n",
    "                prev = current\n",
    "                current = current.next\n",
    "            else: break\n",
    "        # remove the next n nodes\n",
    "        for nodes in range(n):\n",
    "            if current:\n",
    "                current = current.next\n",
    "            else: break\n",
    "        \n",
    "        #link prev node to skip the removed nodes\n",
    "        if prev:\n",
    "            prev.next = current\n",
    "        \n",
    "        return head"
   ]
  },
  {
   "cell_type": "markdown",
   "metadata": {},
   "source": [
    "## Test Case"
   ]
  },
  {
   "cell_type": "code",
   "execution_count": 7,
   "metadata": {},
   "outputs": [],
   "source": [
    "def printLinkedList(head):\n",
    "    while head:\n",
    "        print(head.val, end=\"->\")\n",
    "        head = head.next\n",
    "    print(\"null\")"
   ]
  },
  {
   "cell_type": "code",
   "execution_count": 5,
   "metadata": {},
   "outputs": [],
   "source": [
    "head1 = ListNode(1, ListNode(2, ListNode(3, ListNode(4, ListNode(5,\n",
    "                     ListNode(6, ListNode(7, ListNode(8, ListNode(9,\n",
    "                     ListNode(10, ListNode(11, ListNode(12, ListNode(13)))))))))))))\n",
    "m1 = 2\n",
    "n1 = 3"
   ]
  },
  {
   "cell_type": "markdown",
   "metadata": {},
   "source": [
    "## Result"
   ]
  },
  {
   "cell_type": "code",
   "execution_count": 8,
   "metadata": {},
   "outputs": [
    {
     "name": "stdout",
     "output_type": "stream",
     "text": [
      "1->2->9->10->11->12->13->null\n"
     ]
    }
   ],
   "source": [
    "deleteNodes(head1, m1, n1)\n",
    "printLinkedList(head1)  # Output: 1->2->6->7->11->12->null"
   ]
  }
 ],
 "metadata": {
  "kernelspec": {
   "display_name": "base",
   "language": "python",
   "name": "python3"
  },
  "language_info": {
   "codemirror_mode": {
    "name": "ipython",
    "version": 3
   },
   "file_extension": ".py",
   "mimetype": "text/x-python",
   "name": "python",
   "nbconvert_exporter": "python",
   "pygments_lexer": "ipython3",
   "version": "3.11.4"
  }
 },
 "nbformat": 4,
 "nbformat_minor": 2
}
