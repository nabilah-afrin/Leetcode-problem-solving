{
 "cells": [
  {
   "cell_type": "markdown",
   "metadata": {},
   "source": [
    "# 30. LINKED LIST AND REVERSE LINKED LIST"
   ]
  },
  {
   "cell_type": "markdown",
   "metadata": {},
   "source": [
    "# 1. Introduction of linked list\n",
    "<p> A linked list is a linear data structure where elements, called nodes, are connected together using pointers. Each node contains data and a reference (or pointer) to the next node in the sequence. It's a way to store a collection of elements where each element points to the next one in line. Linked lists can be used to implement various types of data structures like stacks, queues, etc. Linked list doesn’t get backward</p>\n",
    "Basically when we define a linked list, the list is defined under a class **`ListNode`**"
   ]
  },
  {
   "cell_type": "markdown",
   "metadata": {},
   "source": [
    "Why Linked list or BST or other data structure are not created under a function but a class?\n",
    "\n",
    "1. **Encapsulation and Organization:** Classes provide a way to encapsulate the data structure's attributes (such as the head node in a linked list or the root node in a BST) and methods (like insertion, deletion, traversal) within a single unit. This helps in organizing the code and keeping related functionality together.\n",
    "\n",
    "2. **State Management:** Data structures often need to maintain some internal state, such as the current size of the linked list or the structure of the tree. Classes allow you to store and manage this state along with the methods that operate on it.\n",
    "\n",
    "3. **Abstraction and Reusability:** By using classes, you can create instances of these data structures that encapsulate their behavior. This allows for easy reuse of the same data structure in different parts of your codebase, without duplicating code.\n",
    "\n",
    "4. **Object-Oriented Paradigm:** Classes and objects are fundamental concepts in object-oriented programming (OOP). Designing data structures as classes aligns well with the principles of OOP, making the code more modular, maintainable, and extensible.\n",
    "\n",
    "5. **Complexity and Scalability:** Linked lists and BSTs can become quite complex as you add more features, optimize for performance, or handle edge cases. Organizing this complexity within classes makes it easier to manage and reason about the codebase.\n",
    "\n",
    "While you could theoretically implement linked lists or BSTs using functions and global variables, using classes offers a more structured and organized approach. It promotes better code organization, modularity, and reusability."
   ]
  },
  {
   "cell_type": "markdown",
   "metadata": {},
   "source": [
    "Basically when we define a linked list, the list is defined under a class ListNode\n",
    "So when we call the class we create an object. Now the linked list falls under the object ListNode. When we try to employ the len() function on an object, it will show error len() is not supported for custom objects like linked list nodes by default."
   ]
  },
  {
   "cell_type": "markdown",
   "metadata": {},
   "source": [
    ">> Using len() with Linked Lists: Unlike built-in Python lists, linked lists are custom data structures that you define yourself (using classes). The error message you encountered, TypeError: object of type 'ListNode' has no len(), occurred because you were trying to use the len() function on a custom linked list node, which doesn't inherently support the len() function like built-in lists do."
   ]
  },
  {
   "cell_type": "markdown",
   "metadata": {},
   "source": [
    "# 2. How to define a linked list?\n",
    "1. Each list node will have two attributes in values : Values and Next node on the list\n",
    "2. **Define a custom class (step 1)** : Each node in the linked list should have a value and a reference (pointer) to the next node in the sequence.\n",
    "\n",
    "    ```python\n",
    "    class ListNode:\n",
    "        def __init__(self,  value):\n",
    "            self.value = value\n",
    "            self.next = None \n",
    "            ```\n",
    ">>> self.next is a reference to the next node in the sequence, and by initializing it as None, you're establishing a starting point for building a linked list and indicating the absence of a connection to the next node until explicitly linked.\n",
    "\n",
    ">>>In the context of a linked list, self.next represents the reference (or pointer) to the next node in the sequence. When a node is created, its self.next attribute is initially set to None to indicate that it doesn't point to any other node yet.\n",
    "\n",
    ">>> but next attribute isn't pass on the constructor. because we initialize the node with value. so a new node gets created when we declare value with class.\n",
    ">>> now what if i want to change the value of current node by writting new_node = current.next. it will not create a new node rather it will assign as the next node which is already preedined in the ListNode.\n",
    "\n",
    ">>> Here's why self.next is set to None and what it actually means:\n",
    "\n",
    ">>> Initial State: When you create a new node using the constructor of the ListNode class, the self.next attribute is set to None by default. This signifies that the newly created node doesn't have any connection to another node yet.\n",
    "\n",
    ">>>Linking Nodes: After creating multiple nodes, you can link them together by assigning the self.next attribute of one node to point to another node. \n",
    "```python\n",
    "node1 = ListNode(1)\n",
    "node2 = ListNode(2)\n",
    "node3 = ListNode(3)\n",
    "\n",
    "node1.next = node2 #definign the pointer, referring the next object node2\n",
    "node2.next = node3\n",
    "```\n",
    "\n",
    "\n",
    ">>> End of List: When the last node in the linked list is reached, its self.next attribute remains None. This indicates that it's the end of the list, as there are no more nodes to traverse.\n",
    "\n",
    ">>>> Setting self.next to None when a node is created does not create a new node. It simply initializes the attribute to a default value, indicating that the node is not yet connected to any other nodes. The process of creating new nodes and linking them together is a separate step involving assignments like node1.next = node2.\n",
    "3. **Create nodes and link them**\n",
    "You can create instances of the ListNode class to represent the individual elements of your linked list and link them together to form the sequence.\n",
    "```python\n",
    "#creating nodes \n",
    "node1=ListNode(1)\n",
    "node2 = ListNode(2)\n",
    "node3 = ListNode(3)\n",
    "\n",
    "#linking nodes\n",
    "node1.next = node2\n",
    "node2.next = node3\n",
    "```\n",
    "4. **Manipulating the Linked List:** Now you have a linked list with three nodes (node1, node2, and node3) linked in order."
   ]
  },
  {
   "cell_type": "markdown",
   "metadata": {},
   "source": [
    "A Pointer in the context of linked lists is a reference or a variable that holds the memory address of another variable or object. In the case of linked lists, a pointer (reference) is used to navigate from one node to another in the sequence. In the example above, node1.next is a pointer that refers to the node2 object, connecting them in the linked list."
   ]
  },
  {
   "cell_type": "markdown",
   "metadata": {},
   "source": [
    "# 3. When to use a linked list?\n",
    "\n",
    "<h2> Dynamic Sizes</h2>\n",
    "\n",
    "__Scenario__ : When the size of the data is not known in advance or can change dynamically.Linked lists can grow or shrink as needed, without having to reallocate memory.The size of the list is not known in advance\n",
    "\n",
    "__Example__: A music playlist where songs can be added or removed without the need to allocate a fixed amount of memory.\n",
    "\n",
    "<h2>  Efficient Insertion/Deletion:</h2>\n",
    "\n",
    "__Scenario__ : When frequent insertion and deletion of elements are required without the need to shift other elements.Inserting or deleting an element from a linked list takes constant time, regardless of the size of the list.\n",
    "\n",
    "__Example__: A music playlist where songs can be added or removed without the need to allocate a fixed amount of memory.You don't need random access to elements in the list.\n",
    "\n",
    "<h2> No Pre-allocation of Memory:</h2>\n",
    "\n",
    "__Scenario__ : When memory is not pre-allocated, and you want to use only the memory needed.\n",
    "\n",
    "__Example__: Allocating memory for a variable-sized structure like a sentence or paragraph where the length is not fixed.\n",
    "\n",
    "<h2>  Implementation of Stacks and Queues:</h2>\n",
    "\n",
    "__Scenario__ :  As a basis for implementing more complex data structures like stacks and queues.\n",
    "\n",
    "__Example__: A program that needs to manage function calls or messages in the order they are received."
   ]
  },
  {
   "cell_type": "markdown",
   "metadata": {},
   "source": [
    "## 3.1. Examples of Linked list\n",
    "-  A linked list can be used to store a blog post in reverse chronological order. Each node in the list can represent a blog post, and the next pointer can point to the next post in the list. This allows new posts to be added to the beginning of the list efficiently.\n",
    "\n",
    "Let's consider a blogging platform where each blog post is represented as a node in a linked list:\n",
    "\n",
    "* * Each node contains the actual content of the blog post, and a reference (link) to the next blog post in the sequence.\n",
    "* * New blog posts can be easily added to the end of the linked list by updating the reference of the last node to point to the new post.\n",
    "* * Deleting a blog post involves updating the reference of the previous post to skip the post being deleted.\n",
    "* * This allows for dynamic management of blog posts without the need to allocate a fixed amount of memory, and it provides efficient insertion and deletion of posts.\n",
    "- Browser history. A linked list can be used to store the browser history in a web browser. Each node in the list represents a web page visited, and the next pointer points to the next page in the history. This allows the user to easily navigate back and forth through their browsing history."
   ]
  },
  {
   "cell_type": "markdown",
   "metadata": {},
   "source": [
    "## 3.2. How memory is allocated on LL?\n",
    "\n",
    "When creating an array, your code finds a contiguous group of empty cells in memory and designates them to store data for your application.\n",
    "\n",
    "Linked lists, on the other hand, work quite differently. Instead of being a contiguous block of memory, the data from linked lists can be scattered across\n",
    "different cells throughout the computer’s memory.\n",
    "\n",
    "The big question, then, is: if the nodes are not next to each other in memory, how does the computer know __*which nodes are part of the same linked list?*__\n",
    "> each node also comes with a little extra information, namely, the memory address of the next node in the list. That is why the pointer is used! The link in the linked list is basically linking between memory address! thats it. after value 1, value 2 will be in the list, and to indicate that, 2's memory address is linked with 1.\n",
    "```python\n",
    "Node 1:\n",
    "    value = 10\n",
    "    next = 0x12345678\n",
    "\n",
    "Node 2:\n",
    "    value = 20\n",
    "    next = 0x87654321```"
   ]
  },
  {
   "cell_type": "markdown",
   "metadata": {},
   "source": [
    "# Reverese Linked list"
   ]
  },
  {
   "cell_type": "markdown",
   "metadata": {},
   "source": [
    "## Step 1: create a linked list\n",
    "```python\n",
    "class ListNode(object):\n",
    "    def __init__(self, val=0, next=None):\n",
    "        self.val = val\n",
    "        self.next = next\n",
    "```"
   ]
  },
  {
   "cell_type": "markdown",
   "metadata": {},
   "source": [
    "# 5. traversing a linked list\n",
    "Traversing through a linked list involves iterating through each node in the list to access or manipulate its values. Here's how you can traverse a linked list:\n",
    "\n",
    "1. **Starting at the Head:** Begin traversal from the head of the linked list, which is the first node in the sequence.\n",
    "\n",
    "2. **Iterate Using a Loop:** Use a loop (usually a while loop) to iterate through the list nodes. The loop continues until you reach the end of the list, which is indicated when the next attribute of the current node becomes None.\n",
    "\n",
    "3. **Accessing Node Values:** Within each iteration, you can access the value of the current node and perform any desired operations on it.\n",
    "\n",
    "4. **Advancing to Next Node:** Move to the next node by updating the current node reference to its next attribute. This step is crucial to continue traversing the list.\n",
    "\n",
    "5. **Exiting the Loop:** Once you've iterated through all nodes (reached the end of the list), the loop should naturally terminate.\n",
    "```python\n",
    "# Traversing the linked list\n",
    "current_node = node1  # Start at the head\n",
    "while current_node is not None:\n",
    "    print(current_node.value)  # Access the value of the current node\n",
    "    current_node = current_node.next  # Move to the next node\n",
    "\n",
    "#get the length\n",
    "def get_linked_list_length(head):\n",
    "    length = 0\n",
    "    current = head\n",
    "\n",
    "    while current is not None:\n",
    "        length += 1\n",
    "        current = current.next\n",
    "\n",
    "    return length\n",
    "```\n"
   ]
  },
  {
   "cell_type": "markdown",
   "metadata": {},
   "source": [
    "#### Create the linked list: 1 -> 2 -> 3 -> 4 -> 5\n",
    "```python\n",
    "node5 = ListNode(5)\n",
    "node4 = ListNode(4, node5)\n",
    "node3 = ListNode(3, node4)\n",
    "node2 = ListNode(2, node3)\n",
    "node1 = ListNode(1, node2)\n",
    "```"
   ]
  },
  {
   "cell_type": "code",
   "execution_count": 1,
   "metadata": {},
   "outputs": [],
   "source": [
    "### Define the Solution Class for reverse, because this will be a separated list\n",
    "class Node:\n",
    "    ## Constructor to initialize the node object\n",
    "    def __init__(self, value, next):\n",
    "        self.value = value\n",
    "        self.next = None\n",
    "\n",
    "class LinkedList:\n",
    "    def __init__(self):\n",
    "        self.head = None\n",
    "        \n",
    "    def ReverseList(head):\n",
    "        prev = None\n",
    "        current = head\n",
    "        while head != None:\n",
    "            next_node = head.next #its just a variable created\n",
    "            current.next = prev #the poimter variable created\n",
    "            prev = current\n",
    "            current = next_node\n",
    "        self.head = prev\n",
    "    "
   ]
  },
  {
   "cell_type": "markdown",
   "metadata": {},
   "source": [
    "### Using recursion"
   ]
  },
  {
   "cell_type": "code",
   "execution_count": null,
   "metadata": {},
   "outputs": [],
   "source": []
  }
 ],
 "metadata": {
  "kernelspec": {
   "display_name": "base",
   "language": "python",
   "name": "python3"
  },
  "language_info": {
   "codemirror_mode": {
    "name": "ipython",
    "version": 3
   },
   "file_extension": ".py",
   "mimetype": "text/x-python",
   "name": "python",
   "nbconvert_exporter": "python",
   "pygments_lexer": "ipython3",
   "version": "3.10.9"
  },
  "orig_nbformat": 4
 },
 "nbformat": 4,
 "nbformat_minor": 2
}
