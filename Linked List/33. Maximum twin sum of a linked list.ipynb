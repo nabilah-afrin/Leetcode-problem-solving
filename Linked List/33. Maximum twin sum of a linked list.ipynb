{
 "cells": [
  {
   "cell_type": "markdown",
   "metadata": {},
   "source": [
    "In a linked list of size n, where n is even, the ith node (0-indexed) of the linked list is known as the twin of the (n-1-i)th node, if 0 <= i <= (n / 2) - 1.\n",
    "\n",
    "For example, if n = 4, then node 0 is the twin of node 3, and node 1 is the twin of node 2. These are the only nodes with twins for n = 4.\n",
    "The twin sum is defined as the sum of a node and its twin.\n",
    "\n",
    "Given the head of a linked list with even length, return the maximum twin sum of the linked list."
   ]
  },
  {
   "cell_type": "markdown",
   "metadata": {},
   "source": [
    "Example 1:\n",
    "\n",
    "\n",
    "Input: head = [5,4,2,1]\n",
    "Output: 6\n",
    "Explanation:\n",
    "Nodes 0 and 1 are the twins of nodes 3 and 2, respectively. All have twin sum = 6.\n",
    "There are no other nodes with twins in the linked list.\n",
    "Thus, the maximum twin sum of the linked list is 6. \n",
    "Example 2:\n",
    "\n",
    "\n",
    "Input: head = [4,2,2,3]\n",
    "Output: 7\n",
    "Explanation:\n",
    "The nodes with twins present in this linked list are:\n",
    "- Node 0 is the twin of node 3 having a twin sum of 4 + 3 = 7.\n",
    "- Node 1 is the twin of node 2 having a twin sum of 2 + 2 = 4.\n",
    "Thus, the maximum twin sum of the linked list is max(7, 4) = 7. \n",
    "Example 3:\n",
    "\n",
    "\n",
    "Input: head = [1,100000]\n",
    "Output: 100001\n",
    "Explanation:\n",
    "There is only one node with a twin in the linked list having twin sum of 1 + 100000 = 100001.\n",
    " \n",
    "\n",
    "Constraints:\n",
    "\n",
    "The number of nodes in the list is an even integer in the range [2, 105].\n",
    "1 <= Node.val <= 105"
   ]
  },
  {
   "cell_type": "markdown",
   "metadata": {},
   "source": [
    "### Convert the linked list to an array"
   ]
  },
  {
   "cell_type": "code",
   "execution_count": 3,
   "metadata": {},
   "outputs": [
    {
     "name": "stdout",
     "output_type": "stream",
     "text": [
      "Maximum pair sum: 3\n"
     ]
    }
   ],
   "source": [
    "# Definition for singly-linked list.\n",
    "class ListNode(object):\n",
    "     def __init__(self, val=0, next=None):\n",
    "         self.val = val\n",
    "         self.next = next\n",
    "class Solution(object):\n",
    "    def pairSum(self, head):\n",
    "        array = []\n",
    "        current_node = head \n",
    "        while current_node is not None:\n",
    "            array.append(current_node.val)\n",
    "            current_node = current_node.next\n",
    "        i = 0\n",
    "        j = len(array) - 1\n",
    "        total_sum = []\n",
    "        while i < j:\n",
    "            twin_sum = array[i] + array[j]\n",
    "            total_sum.append(twin_sum)\n",
    "            i += 1\n",
    "            j -= 1\n",
    "        return max(total_sum)\n",
    "\n",
    "#test case\n",
    "def user_input(nums):\n",
    "    dummy_head = ListNode()\n",
    "    current = dummy_head\n",
    "    for num in nums:\n",
    "        current.next = ListNode(num)\n",
    "        current = dummy_head.next\n",
    "    return dummy_head.next\n",
    "\n",
    "def main():\n",
    "    nums = list(map(int, input(\"Enter space-separated numbers for the linked list: \").split()))\n",
    "    linked_list = user_input(nums)\n",
    "    solution = Solution()\n",
    "    result = solution.pairSum(linked_list)\n",
    "    print(\"Maximum pair sum:\", result)\n",
    "if __name__ == \"__main__\":\n",
    "    main()\n"
   ]
  },
  {
   "cell_type": "markdown",
   "metadata": {},
   "source": [
    "#### errors that came from the code\n",
    "```python\n",
    " for i<j:\n",
    "            twin_sum = array[i]+array[j]\n",
    "            total_sum.append(twin_sum)\n",
    "            i+=1\n",
    "            j-=1\n",
    "        return max(total_sum)\n",
    "SyntaxError: invalid syntax\n",
    "         ^\n",
    "    for i<j:\n",
    "Line 16  (Solution.py)\n",
    "```\n",
    "In Python, a for loop is typically used when you have a fixed number of iterations that you want to perform. You provide a range or a sequence of items, and the loop iterates through each item. On the other hand, a while loop is used when you want to repeatedly execute a block of code as long as a certain condition is true.\n",
    "\n",
    "In your specific case, you want to iterate through a list of values and compare them in pairs, updating two index variables i and j until they meet or cross each other. This is a classic use case for a while loop because you are uncertain about the exact number of iterations needed to achieve the desired condition."
   ]
  },
  {
   "cell_type": "code",
   "execution_count": 6,
   "metadata": {},
   "outputs": [],
   "source": [
    "class Solution(object):\n",
    "    def pairSum(self, head):\n",
    "        current = head\n",
    "        values = []\n",
    "\n",
    "        while current:\n",
    "            values.append(current.val)\n",
    "            current = current.next\n",
    "        \n",
    "        i = 0\n",
    "        j = len(values) - 1\n",
    "        maximumSum = 0\n",
    "        while(i < j):\n",
    "            maximumSum = max(maximumSum, values[i] + values[j])\n",
    "            i = i + 1\n",
    "            j = j - 1\n",
    "        \n",
    "        return maximumSum"
   ]
  },
  {
   "cell_type": "markdown",
   "metadata": {},
   "source": [
    "### Using stack"
   ]
  },
  {
   "cell_type": "code",
   "execution_count": 4,
   "metadata": {},
   "outputs": [],
   "source": []
  },
  {
   "cell_type": "markdown",
   "metadata": {},
   "source": [
    "### Optimizing the space complexity"
   ]
  },
  {
   "cell_type": "code",
   "execution_count": 5,
   "metadata": {},
   "outputs": [],
   "source": []
  }
 ],
 "metadata": {
  "kernelspec": {
   "display_name": "base",
   "language": "python",
   "name": "python3"
  },
  "language_info": {
   "codemirror_mode": {
    "name": "ipython",
    "version": 3
   },
   "file_extension": ".py",
   "mimetype": "text/x-python",
   "name": "python",
   "nbconvert_exporter": "python",
   "pygments_lexer": "ipython3",
   "version": "3.10.9"
  },
  "orig_nbformat": 4
 },
 "nbformat": 4,
 "nbformat_minor": 2
}
