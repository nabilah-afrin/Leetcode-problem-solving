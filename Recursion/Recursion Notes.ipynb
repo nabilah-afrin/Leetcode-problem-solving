{
 "cells": [
  {
   "cell_type": "markdown",
   "metadata": {},
   "source": [
    "# 1. String Revrsal\n",
    "input = \"simple enfineer\"\n",
    "output = "
   ]
  },
  {
   "cell_type": "markdown",
   "metadata": {},
   "source": [
    "## 1. How to cosntruct?\n"
   ]
  },
  {
   "cell_type": "markdown",
   "metadata": {},
   "source": [
    "### 1.1.  what is the base?\n",
    "> when to break or when we can no longer continue\n",
    ">> there are 2 schools of thought, to think about this\n",
    ">>> one letter\n",
    "\n",
    ">>> an empty  string"
   ]
  },
  {
   "cell_type": "code",
   "execution_count": 1,
   "metadata": {},
   "outputs": [],
   "source": [
    "def string_reversal(s:str):\n",
    "    if str == \"\":\n",
    "        return \"\""
   ]
  },
  {
   "cell_type": "markdown",
   "metadata": {},
   "source": [
    "\n",
    "## 1.2. what is the smalles amount of work can be done to iterate through?\n",
    "> between each invocation, what is smallest unit that can be reversed?\n",
    ">> pick a single character from the string and conitnue\n",
    ">>> afterwards where the character is positioned can be concatanated from the call stack in the reverse order"
   ]
  },
  {
   "cell_type": "code",
   "execution_count": null,
   "metadata": {},
   "outputs": [],
   "source": [
    "def string_reversal(s:str):\n",
    "    if str == \"\":\n",
    "        return \"\"\n",
    "    return string_reversal(s[1:]) + s[0]"
   ]
  },
  {
   "cell_type": "markdown",
   "metadata": {},
   "source": [
    "how the reverse_string function works step by step with the input string \"cat.\"\n",
    "\n",
    "1. Initial call:\n",
    "\n",
    "* Input: \"cat\"\n",
    "* The function checks if the input string is empty. Since it's not empty, it proceeds to the next step.\n",
    "\n",
    "2. Recursive call 1:\n",
    "\n",
    "* Input: \"at\"\n",
    "* The function calls itself with the input string \"at\" (input_str[1:]) and then appends the first character \"c\" to the end.\n",
    "* This results in the recursive call: reverse_string(\"at\") + \"c\"\n",
    "\n",
    "3. Recursive call 2:\n",
    "\n",
    "* Input: \"t\"\n",
    "* The function again checks if the input string is empty. It's not empty, so it proceeds to the next step.\n",
    "* It calls itself with the input string \"t\" (input_str[1:]) and then appends the first character \"a\" to the end.\n",
    "* This results in the recursive call: reverse_string(\"t\") + \"a\"\n",
    "\n",
    "4. Recursive call 3:\n",
    "\n",
    "* Input: \"t\"\n",
    "* Just like in the previous step, the function checks if the input string is empty. It's not empty, so it proceeds.\n",
    "* It calls itself with the input string \"t\" (input_str[1:]) and then appends the first character \"c\" to the end.\n",
    "* This results in the recursive call: reverse_string(\"\") + \"t\"\n",
    "\n",
    "5. Base case:\n",
    "\n",
    "* In this recursive call, the input string is an empty string (\"\"), which matches the base case.\n",
    "* The function returns an empty string \"\".\n",
    "```yaml\n",
    "Now, let's put it all together:\n",
    "\n",
    "reverse_string(\"cat\") returns reverse_string(\"at\") + \"c\"\n",
    "reverse_string(\"at\") returns reverse_string(\"t\") + \"a\"\n",
    "reverse_string(\"t\") returns reverse_string(\"\") + \"t\"\n",
    "Since reverse_string(\"\") returns an empty string, the final result is:\n",
    "\n",
    "reverse_string(\"t\") returns \"t\"\n",
    "reverse_string(\"at\") returns \"t\" + \"a\", which is \"ta\"\n",
    "reverse_string(\"cat\") returns \"ta\" + \"c\", which is \"tac\"\n",
    "So, the reversed string for \"cat\" is \"tac.\"```"
   ]
  },
  {
   "cell_type": "markdown",
   "metadata": {},
   "source": [
    "# 2. Is Palindrome?"
   ]
  },
  {
   "cell_type": "code",
   "execution_count": 6,
   "metadata": {},
   "outputs": [
    {
     "name": "stdout",
     "output_type": "stream",
     "text": [
      "True\n"
     ]
    }
   ],
   "source": [
    "def is_palindrome(s: str):\n",
    "    if len(s) == 0 or len(s) == 1:\n",
    "        return True  # A string with 0 or 1 character is a palindrome by definition\n",
    "    if s[0] == s[-1]:\n",
    "        return is_palindrome(s[1:-1])\n",
    "    return False\n",
    "\n",
    "result = is_palindrome(s=\"tenet\")\n",
    "print(result)  # This should print True for \"tenet\" since it's a palindrome\n"
   ]
  },
  {
   "cell_type": "markdown",
   "metadata": {},
   "source": [
    "how the is_palindrome function works step by step with the input strings \"cat\" and \"ana.\"\n",
    "\n",
    "<h4>Input: \"cat\"</h4>\n",
    "\n",
    "1. Initial call:\n",
    "\n",
    "* Input: \"cat\"\n",
    "* The function checks if the length of the input string is 0 or 1. In this case, it's neither, so it proceeds to the next step.\n",
    "2. Recursive call 1:\n",
    "\n",
    "* Input: \"at\"\n",
    "* The function compares the first and last characters \"c\" and \"t.\" Since they are different, it returns False.\n",
    "3. The result of the recursive call in step 2 is False.\n",
    "\n",
    "4. The final result for the input \"cat\" is False because it's not a palindrome.\n",
    "\n",
    "<h4>Input: \"ana\"</h4>\n",
    "1. Initial call:\n",
    "\n",
    "* Input: \"ana\"\n",
    "* The function checks if the length of the input string is 0 or 1. In this case, it's not 0, but it is 1, so it returns True because a single character is considered a palindrome.\n",
    "2. The final result for the input \"ana\" is True because it's a palindrome.\n",
    "\n",
    "So, for \"cat,\" the function returns False because it's not a palindrome, and for \"ana,\" the function returns True because it is a palindrome."
   ]
  },
  {
   "cell_type": "markdown",
   "metadata": {},
   "source": [
    "# 3. Binary to decimal"
   ]
  },
  {
   "cell_type": "code",
   "execution_count": 9,
   "metadata": {},
   "outputs": [
    {
     "name": "stdout",
     "output_type": "stream",
     "text": [
      "1010\n"
     ]
    }
   ],
   "source": [
    "def decimal_to_binary(n):\n",
    "    if n == 0: return \"0\"\n",
    "    elif n == 1: return \"1\"\n",
    "    else:\n",
    "        quotient = n//2 #we dont want float numbers, only whole numbers\n",
    "        remainder = n%2\n",
    "        return decimal_to_binary(quotient) + str(remainder)\n",
    "decimal_number = 10\n",
    "binary_representation = decimal_to_binary(decimal_number)\n",
    "print(binary_representation)"
   ]
  },
  {
   "cell_type": "markdown",
   "metadata": {},
   "source": [
    "Here's how the function works step by step:\n",
    "\n",
    "1. The base cases are when n is 0 or 1. In both cases, the function directly returns \"0\" or \"1\" because the binary representation of 0 is \"0\" and the binary representation of 1 is \"1.\"\n",
    "\n",
    "2. For values of n greater than 1, the function calls itself recursively with n // 2 to compute the binary representation of the quotient, and then appends the remainder of n % 2 to the result.\n",
    "\n",
    "3. The recursive calls continue until n becomes 0 or 1, and then the function builds the binary representation by appending bits as it unwinds the recursion."
   ]
  },
  {
   "cell_type": "markdown",
   "metadata": {},
   "source": [
    "# 4. Summation of natural nUmbers"
   ]
  },
  {
   "cell_type": "code",
   "execution_count": 3,
   "metadata": {},
   "outputs": [
    {
     "name": "stdout",
     "output_type": "stream",
     "text": [
      "6\n"
     ]
    }
   ],
   "source": [
    "def sum(number):\n",
    "    if number <= 1: return number\n",
    "    return sum(number-1)+number\n",
    "print(sum(3))\n",
    "#so the order of function doesnt really matter"
   ]
  },
  {
   "cell_type": "markdown",
   "metadata": {},
   "source": [
    "# 5. Binary Search"
   ]
  },
  {
   "cell_type": "code",
   "execution_count": 4,
   "metadata": {},
   "outputs": [],
   "source": [
    "def binary_search(arr, target, low, high):\n",
    "    if low<=high:\n",
    "        mid = low+ (high-low)//2\n",
    "        if arr[mid]==target: return mid\n",
    "        elif target>arr[mid]: return binary_search(arr,target, mid+1,high)\n",
    "        else: return binary_search(arr,target,low,mid-1)\n",
    "    else:\n",
    "    # Element is not present in the array\n",
    "        return -1\n"
   ]
  },
  {
   "cell_type": "code",
   "execution_count": 5,
   "metadata": {},
   "outputs": [
    {
     "name": "stdout",
     "output_type": "stream",
     "text": [
      "Element is present at index 3\n"
     ]
    }
   ],
   "source": [
    "# Test array\n",
    "arr = [ 2, 3, 4, 10, 40 ]\n",
    "target = 10\n",
    " \n",
    "# Function call\n",
    "result = binary_search(arr,target,0,len(arr)-1)\n",
    " \n",
    "if result != -1:\n",
    "    print(\"Element is present at index\", str(result))\n",
    "else:\n",
    "    print(\"Element is not present in array\")"
   ]
  },
  {
   "cell_type": "markdown",
   "metadata": {},
   "source": [
    "# 6. Fibonacci"
   ]
  },
  {
   "cell_type": "code",
   "execution_count": 7,
   "metadata": {},
   "outputs": [
    {
     "ename": "RecursionError",
     "evalue": "maximum recursion depth exceeded in comparison",
     "output_type": "error",
     "traceback": [
      "\u001b[1;31m---------------------------------------------------------------------------\u001b[0m",
      "\u001b[1;31mRecursionError\u001b[0m                            Traceback (most recent call last)",
      "\u001b[1;32me:\\CODE\\Python\\Leetcode-Notes\\Recursion\\Recursion Notes.ipynb Cell 20\u001b[0m line \u001b[0;36m5\n\u001b[0;32m      <a href='vscode-notebook-cell:/e%3A/CODE/Python/Leetcode-Notes/Recursion/Recursion%20Notes.ipynb#X24sZmlsZQ%3D%3D?line=2'>3</a>\u001b[0m         \u001b[39mreturn\u001b[39;00m n\n\u001b[0;32m      <a href='vscode-notebook-cell:/e%3A/CODE/Python/Leetcode-Notes/Recursion/Recursion%20Notes.ipynb#X24sZmlsZQ%3D%3D?line=3'>4</a>\u001b[0m     \u001b[39mreturn\u001b[39;00m fib(n\u001b[39m-\u001b[39m\u001b[39m1\u001b[39m)\u001b[39m+\u001b[39mfib(n\u001b[39m-\u001b[39m\u001b[39m2\u001b[39m)\n\u001b[1;32m----> <a href='vscode-notebook-cell:/e%3A/CODE/Python/Leetcode-Notes/Recursion/Recursion%20Notes.ipynb#X24sZmlsZQ%3D%3D?line=4'>5</a>\u001b[0m \u001b[39mprint\u001b[39m(fib(\u001b[39m5\u001b[39;49m))\n",
      "\u001b[1;32me:\\CODE\\Python\\Leetcode-Notes\\Recursion\\Recursion Notes.ipynb Cell 20\u001b[0m line \u001b[0;36m4\n\u001b[0;32m      <a href='vscode-notebook-cell:/e%3A/CODE/Python/Leetcode-Notes/Recursion/Recursion%20Notes.ipynb#X24sZmlsZQ%3D%3D?line=1'>2</a>\u001b[0m \u001b[39mif\u001b[39;00m n\u001b[39m==\u001b[39m\u001b[39m0\u001b[39m \u001b[39mand\u001b[39;00m n\u001b[39m==\u001b[39m\u001b[39m1\u001b[39m:\n\u001b[0;32m      <a href='vscode-notebook-cell:/e%3A/CODE/Python/Leetcode-Notes/Recursion/Recursion%20Notes.ipynb#X24sZmlsZQ%3D%3D?line=2'>3</a>\u001b[0m     \u001b[39mreturn\u001b[39;00m n\n\u001b[1;32m----> <a href='vscode-notebook-cell:/e%3A/CODE/Python/Leetcode-Notes/Recursion/Recursion%20Notes.ipynb#X24sZmlsZQ%3D%3D?line=3'>4</a>\u001b[0m \u001b[39mreturn\u001b[39;00m fib(n\u001b[39m-\u001b[39;49m\u001b[39m1\u001b[39;49m)\u001b[39m+\u001b[39mfib(n\u001b[39m-\u001b[39m\u001b[39m2\u001b[39m)\n",
      "\u001b[1;32me:\\CODE\\Python\\Leetcode-Notes\\Recursion\\Recursion Notes.ipynb Cell 20\u001b[0m line \u001b[0;36m4\n\u001b[0;32m      <a href='vscode-notebook-cell:/e%3A/CODE/Python/Leetcode-Notes/Recursion/Recursion%20Notes.ipynb#X24sZmlsZQ%3D%3D?line=1'>2</a>\u001b[0m \u001b[39mif\u001b[39;00m n\u001b[39m==\u001b[39m\u001b[39m0\u001b[39m \u001b[39mand\u001b[39;00m n\u001b[39m==\u001b[39m\u001b[39m1\u001b[39m:\n\u001b[0;32m      <a href='vscode-notebook-cell:/e%3A/CODE/Python/Leetcode-Notes/Recursion/Recursion%20Notes.ipynb#X24sZmlsZQ%3D%3D?line=2'>3</a>\u001b[0m     \u001b[39mreturn\u001b[39;00m n\n\u001b[1;32m----> <a href='vscode-notebook-cell:/e%3A/CODE/Python/Leetcode-Notes/Recursion/Recursion%20Notes.ipynb#X24sZmlsZQ%3D%3D?line=3'>4</a>\u001b[0m \u001b[39mreturn\u001b[39;00m fib(n\u001b[39m-\u001b[39;49m\u001b[39m1\u001b[39;49m)\u001b[39m+\u001b[39mfib(n\u001b[39m-\u001b[39m\u001b[39m2\u001b[39m)\n",
      "    \u001b[1;31m[... skipping similar frames: fib at line 4 (2969 times)]\u001b[0m\n",
      "\u001b[1;32me:\\CODE\\Python\\Leetcode-Notes\\Recursion\\Recursion Notes.ipynb Cell 20\u001b[0m line \u001b[0;36m4\n\u001b[0;32m      <a href='vscode-notebook-cell:/e%3A/CODE/Python/Leetcode-Notes/Recursion/Recursion%20Notes.ipynb#X24sZmlsZQ%3D%3D?line=1'>2</a>\u001b[0m \u001b[39mif\u001b[39;00m n\u001b[39m==\u001b[39m\u001b[39m0\u001b[39m \u001b[39mand\u001b[39;00m n\u001b[39m==\u001b[39m\u001b[39m1\u001b[39m:\n\u001b[0;32m      <a href='vscode-notebook-cell:/e%3A/CODE/Python/Leetcode-Notes/Recursion/Recursion%20Notes.ipynb#X24sZmlsZQ%3D%3D?line=2'>3</a>\u001b[0m     \u001b[39mreturn\u001b[39;00m n\n\u001b[1;32m----> <a href='vscode-notebook-cell:/e%3A/CODE/Python/Leetcode-Notes/Recursion/Recursion%20Notes.ipynb#X24sZmlsZQ%3D%3D?line=3'>4</a>\u001b[0m \u001b[39mreturn\u001b[39;00m fib(n\u001b[39m-\u001b[39;49m\u001b[39m1\u001b[39;49m)\u001b[39m+\u001b[39mfib(n\u001b[39m-\u001b[39m\u001b[39m2\u001b[39m)\n",
      "\u001b[1;32me:\\CODE\\Python\\Leetcode-Notes\\Recursion\\Recursion Notes.ipynb Cell 20\u001b[0m line \u001b[0;36m2\n\u001b[0;32m      <a href='vscode-notebook-cell:/e%3A/CODE/Python/Leetcode-Notes/Recursion/Recursion%20Notes.ipynb#X24sZmlsZQ%3D%3D?line=0'>1</a>\u001b[0m \u001b[39mdef\u001b[39;00m \u001b[39mfib\u001b[39m(n):\n\u001b[1;32m----> <a href='vscode-notebook-cell:/e%3A/CODE/Python/Leetcode-Notes/Recursion/Recursion%20Notes.ipynb#X24sZmlsZQ%3D%3D?line=1'>2</a>\u001b[0m     \u001b[39mif\u001b[39;00m n\u001b[39m==\u001b[39;49m\u001b[39m0\u001b[39;49m \u001b[39mand\u001b[39;00m n\u001b[39m==\u001b[39m\u001b[39m1\u001b[39m:\n\u001b[0;32m      <a href='vscode-notebook-cell:/e%3A/CODE/Python/Leetcode-Notes/Recursion/Recursion%20Notes.ipynb#X24sZmlsZQ%3D%3D?line=2'>3</a>\u001b[0m         \u001b[39mreturn\u001b[39;00m n\n\u001b[0;32m      <a href='vscode-notebook-cell:/e%3A/CODE/Python/Leetcode-Notes/Recursion/Recursion%20Notes.ipynb#X24sZmlsZQ%3D%3D?line=3'>4</a>\u001b[0m     \u001b[39mreturn\u001b[39;00m fib(n\u001b[39m-\u001b[39m\u001b[39m1\u001b[39m)\u001b[39m+\u001b[39mfib(n\u001b[39m-\u001b[39m\u001b[39m2\u001b[39m)\n",
      "\u001b[1;31mRecursionError\u001b[0m: maximum recursion depth exceeded in comparison"
     ]
    }
   ],
   "source": [
    "def fib(n):\n",
    "    if n==0 and n==1:\n",
    "        return n\n",
    "    return fib(n-1)+fib(n-2)\n",
    "print(fib(5))"
   ]
  },
  {
   "cell_type": "markdown",
   "metadata": {},
   "source": [
    "# 7. Merge Sort\n",
    "Merge Sort is a Divide and Conquer algorithm. It divides input array in two halves, calls itself for the two halves and then merges the two sorted halves. The merge() function is used for merging two halves. The merge(arr, l, m, r) is key process that assumes that arr[l..m] and arr[m+1..r] are sorted and merges the two sorted sub-arrays into one. "
   ]
  },
  {
   "cell_type": "code",
   "execution_count": 6,
   "metadata": {},
   "outputs": [
    {
     "name": "stdout",
     "output_type": "stream",
     "text": [
      "Given array is\n",
      "12 11 13 5 6 7 \n",
      "\n",
      "Sorted array is \n",
      "5 6 7 11 12 13 \n"
     ]
    }
   ],
   "source": [
    "# Python program for implementation of MergeSort\n",
    "\n",
    "\n",
    "def mergeSort(arr):\n",
    "\tif len(arr) > 1:\n",
    "\n",
    "\t\t# Finding the mid of the array\n",
    "\t\tmid = len(arr)//2\n",
    "\n",
    "\t\t# Dividing the array elements\n",
    "\t\tL = arr[:mid]\n",
    "\n",
    "\t\t# Into 2 halves\n",
    "\t\tR = arr[mid:]\n",
    "\n",
    "\t\t# Sorting the first half\n",
    "\t\tmergeSort(L)\n",
    "\n",
    "\t\t# Sorting the second half\n",
    "\t\tmergeSort(R)\n",
    "\n",
    "\t\ti = j = k = 0\n",
    "\n",
    "\t\t# Copy data to temp arrays L[] and R[]\n",
    "\t\twhile i < len(L) and j < len(R):\n",
    "\t\t\tif L[i] <= R[j]:\n",
    "\t\t\t\tarr[k] = L[i]\n",
    "\t\t\t\ti += 1\n",
    "\t\t\telse:\n",
    "\t\t\t\tarr[k] = R[j]\n",
    "\t\t\t\tj += 1\n",
    "\t\t\tk += 1\n",
    "\n",
    "\t\t# Checking if any element was left\n",
    "\t\twhile i < len(L):\n",
    "\t\t\tarr[k] = L[i]\n",
    "\t\t\ti += 1\n",
    "\t\t\tk += 1\n",
    "\n",
    "\t\twhile j < len(R):\n",
    "\t\t\tarr[k] = R[j]\n",
    "\t\t\tj += 1\n",
    "\t\t\tk += 1\n",
    "\n",
    "\n",
    "# Code to print the list\n",
    "def printList(arr):\n",
    "\tfor i in range(len(arr)):\n",
    "\t\tprint(arr[i], end=\" \")\n",
    "\tprint()\n",
    "\n",
    "\n",
    "# Driver Code\n",
    "if __name__ == '__main__':\n",
    "\tarr = [12, 11, 13, 5, 6, 7]\n",
    "\tprint(\"Given array is\")\n",
    "\tprintList(arr)\n",
    "\tmergeSort(arr)\n",
    "\tprint(\"\\nSorted array is \")\n",
    "\tprintList(arr)\n",
    "\n",
    "# This code is contributed by Mayank Khanna\n"
   ]
  },
  {
   "cell_type": "markdown",
   "metadata": {},
   "source": [
    "## 8. Reverse a linked list"
   ]
  },
  {
   "cell_type": "code",
   "execution_count": 5,
   "metadata": {},
   "outputs": [],
   "source": [
    "class LinkedList:\n",
    "    def __init__(self, value, next=None):\n",
    "        self.value = value\n",
    "        self.next = next\n",
    "    def __repr__(self):\n",
    "        return 'LinkedList({}, {})'.format(self.value, repr(self.next))"
   ]
  },
  {
   "cell_type": "code",
   "execution_count": 13,
   "metadata": {},
   "outputs": [],
   "source": [
    "\"\"\"def reversed(current, temp):\n",
    "    #create a breaking point\n",
    "    if current.next == None: return None\n",
    "    next_node = current.next\n",
    "    current.next= temp\n",
    "    temp = current\n",
    "    current = next_node\n",
    "    return reversed(current, temp)\"\"\""
   ]
  },
  {
   "cell_type": "code",
   "execution_count": 14,
   "metadata": {},
   "outputs": [],
   "source": [
    "def reversed(current, prev= None):\n",
    "    #create a breaking point\n",
    "    if current == None: return prev\n",
    "    next_node = current.next\n",
    "    current.next= prev\n",
    "    \"\"\"prev = current\n",
    "    current = next_node\"\"\"\n",
    "    return reversed(next_node,current)"
   ]
  },
  {
   "cell_type": "code",
   "execution_count": 15,
   "metadata": {},
   "outputs": [],
   "source": [
    "# Helper function to print the linked list\n",
    "def print_linked_list(head):\n",
    "    current = head\n",
    "    while current:\n",
    "        print(current.value, end=\" -> \")\n",
    "        current = current.next\n",
    "    print(\"None\")"
   ]
  },
  {
   "cell_type": "code",
   "execution_count": 16,
   "metadata": {},
   "outputs": [],
   "source": [
    "node5 = LinkedList(5)\n",
    "node4 = LinkedList(4, node5)\n",
    "node3 = LinkedList(3, node4)\n",
    "node2 = LinkedList(2, node3)\n",
    "node1 = LinkedList(1, node2)"
   ]
  },
  {
   "cell_type": "code",
   "execution_count": 17,
   "metadata": {},
   "outputs": [],
   "source": [
    "# Test the reverse function\n",
    "new_head = reversed(node1)"
   ]
  },
  {
   "cell_type": "code",
   "execution_count": 18,
   "metadata": {},
   "outputs": [
    {
     "name": "stdout",
     "output_type": "stream",
     "text": [
      "5 -> 4 -> 3 -> 2 -> 1 -> None\n"
     ]
    }
   ],
   "source": [
    "print_linked_list(new_head)\n"
   ]
  }
 ],
 "metadata": {
  "kernelspec": {
   "display_name": "base",
   "language": "python",
   "name": "python3"
  },
  "language_info": {
   "codemirror_mode": {
    "name": "ipython",
    "version": 3
   },
   "file_extension": ".py",
   "mimetype": "text/x-python",
   "name": "python",
   "nbconvert_exporter": "python",
   "pygments_lexer": "ipython3",
   "version": "3.10.9"
  },
  "orig_nbformat": 4
 },
 "nbformat": 4,
 "nbformat_minor": 2
}
