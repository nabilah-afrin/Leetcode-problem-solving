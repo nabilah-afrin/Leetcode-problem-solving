{
 "cells": [
  {
   "cell_type": "markdown",
   "metadata": {},
   "source": [
    "## Problem 14. Longest Common Prefix\n",
    "Category\tDifficulty\tLikes\tDislikes\n",
    "\n",
    "algorithms\tEasy (41.40%)\t15592\t4175\n",
    "\n",
    "Tags || string\n",
    "\n",
    "Companies || yelp\n",
    "\n",
    "Write a function to find the longest common prefix string amongst an array of strings.\n",
    "\n",
    "If there is no common prefix, return an empty string \"\".\n",
    " \n",
    "```yaml\n",
    "Example 1:\n",
    "Input: strs = [\"flower\",\"flow\",\"flight\"]\n",
    "Output: \"fl\"\n",
    "\n",
    "Example 2:\n",
    "Input: strs = [\"dog\",\"racecar\",\"car\"]\n",
    "Output: \"\"\n",
    "Explanation: There is no common prefix among the input strings.\n",
    "```\n",
    "Constraints:\n",
    "\n",
    "1 <= strs.length <= 200\n",
    "0 <= strs[i].length <= 200\n",
    "strs[i] consists of only lowercase English letters."
   ]
  },
  {
   "cell_type": "markdown",
   "metadata": {},
   "source": [
    "The problem can be solved in several startegiesfew of them are listed below:\n",
    "1. Word by Word Matching (intuitive or brute force method)\n",
    "2. Character by Character Matching\n",
    "3. Divide and Conquer\n",
    "4. Binary Search.\n",
    "5. Using Trie"
   ]
  },
  {
   "cell_type": "markdown",
   "metadata": {},
   "source": [
    "### Word by word"
   ]
  },
  {
   "cell_type": "code",
   "execution_count": 1,
   "metadata": {},
   "outputs": [],
   "source": [
    "def longest_common_prefix(str):\n",
    "    if not str:\n",
    "        return \"\"\n",
    "    #find the minimmum length of the word in list\n",
    "    min_length = min(len(word) for word in str)\n",
    "    prefix = \"\"\n",
    "    for i in range(min_length):\n",
    "        #get the current character of the first word in list\n",
    "        current_letter = str[0][i] #the i letter of the first word of the string\n",
    "        if all(word[i] == current_letter for word in str ):\n",
    "            prefix += current_letter\n",
    "        else:\n",
    "            break\n",
    "    return prefix"
   ]
  },
  {
   "cell_type": "code",
   "execution_count": 3,
   "metadata": {},
   "outputs": [
    {
     "name": "stdout",
     "output_type": "stream",
     "text": [
      "flow\n"
     ]
    }
   ],
   "source": [
    "strs2 = [\"flower\", \"flowel\", \"flow\"]\n",
    "print(longest_common_prefix(strs2))  # Output: \"\""
   ]
  },
  {
   "cell_type": "code",
   "execution_count": 3,
   "metadata": {},
   "outputs": [
    {
     "name": "stdout",
     "output_type": "stream",
     "text": [
      "There is no common prefix\n"
     ]
    }
   ],
   "source": [
    "### Divide and Conquor\n",
    "def commonPrefix(strs):\n",
    "    half = len(strs)//2\n",
    "    str1 = strs[:half]\n",
    "    str2 = strs[half:]\n",
    "    prefix = \"\"\n",
    "    n1,n2 = len(str1), len(str2)\n",
    "    i,j = 0,0\n",
    "    while i<= n1-1 and j<= n2-1:\n",
    "        if str1[i] != str2[j]:\n",
    "            break\n",
    "        prefix += str1[i]\n",
    "        i,j = i+1, j+1\n",
    "    return prefix\n",
    "if __name__ == \"__main__\":\n",
    " \n",
    "    arr = [\"geeksforgeeks\", \"geeks\",\n",
    "                   \"geek\", \"geezer\"]\n",
    "    n = len(arr)\n",
    "    ans = commonPrefix(arr)\n",
    " \n",
    "    if len(ans):\n",
    "        print(\"The longest common prefix is\", ans)\n",
    "    else:\n",
    "        print(\"There is no common prefix\")"
   ]
  },
  {
   "cell_type": "code",
   "execution_count": 4,
   "metadata": {},
   "outputs": [
    {
     "name": "stdout",
     "output_type": "stream",
     "text": [
      "fl\n",
      "\n"
     ]
    }
   ],
   "source": [
    "def longest_common_prefix(strs):\n",
    "    if not strs:\n",
    "        return \"\"\n",
    "\n",
    "    min_length = min(len(word) for word in strs)\n",
    "    \n",
    "    for i in range(min_length):\n",
    "        current_letter = strs[0][i]\n",
    "        if not all(word[i] == current_letter for word in strs):\n",
    "            return strs[0][:i]  # Return the common prefix found so far\n",
    "    \n",
    "    return strs[0][:min_length]  # Return the full common prefix\n",
    "\n",
    "# Example usage:\n",
    "strs1 = [\"flower\", \"flow\", \"flight\"]\n",
    "print(longest_common_prefix(strs1))  # Output: \"fl\"\n",
    "\n",
    "strs2 = [\"dog\", \"racecar\", \"car\"]\n",
    "print(longest_common_prefix(strs2))  # Output: \"\"\n"
   ]
  },
  {
   "cell_type": "markdown",
   "metadata": {},
   "source": [
    "1. The min_length is 4 because the shortest string is \"flow\" with a length of 4.\n",
    "\n",
    "2. In the first iteration of the loop (i=0), current_letter is 'f', and all strings start with 'f', so it continues to the next iteration.\n",
    "\n",
    "3. In the second iteration (i=1), current_letter is 'l', and all strings have 'l' in the second position, so it continues.\n",
    "\n",
    "4. In the fourth iteration (i=3), current_letter is 'o', and not all strings have 'o' in the third position. So, it returns \"flow,\" which is the common prefix found so far."
   ]
  }
 ],
 "metadata": {
  "kernelspec": {
   "display_name": "base",
   "language": "python",
   "name": "python3"
  },
  "language_info": {
   "codemirror_mode": {
    "name": "ipython",
    "version": 3
   },
   "file_extension": ".py",
   "mimetype": "text/x-python",
   "name": "python",
   "nbconvert_exporter": "python",
   "pygments_lexer": "ipython3",
   "version": "3.10.9"
  },
  "orig_nbformat": 4
 },
 "nbformat": 4,
 "nbformat_minor": 2
}
