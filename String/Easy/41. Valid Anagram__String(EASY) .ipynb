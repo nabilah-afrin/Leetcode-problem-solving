{
 "cells": [
  {
   "cell_type": "markdown",
   "metadata": {},
   "source": [
    "242. Valid Anagram\n",
    " \n",
    "Given two strings s and t, return true if t is an anagram of s, and false otherwise.\n",
    "\n",
    "An Anagram is a word or phrase formed by rearranging the letters of a different word or phrase, typically using all the original letters exactly once.\n",
    "\n",
    " \n",
    "\n",
    "```yaml\n",
    "Example 1:\n",
    "Input: s = \"anagram\", t = \"nagaram\"\n",
    "Output: true\n",
    "\n",
    "Example 2:\n",
    "Input: s = \"rat\", t = \"car\"\n",
    "Output: false\n",
    " \n",
    "Constraints:\n",
    "\n",
    "1 <= s.length, t.length <= 5 * 104\n",
    "s and t consist of lowercase English letters.\n",
    "```\n",
    "\n",
    "Follow up: What if the inputs contain Unicode characters? How would you adapt your solution to such a case?"
   ]
  },
  {
   "cell_type": "markdown",
   "metadata": {},
   "source": [
    "### Brute force method\n",
    "Time Complexity: O(N * logN), For sorting.\n",
    "\n",
    "Auxiliary Space: O(1) as it is using constant extra space"
   ]
  },
  {
   "cell_type": "code",
   "execution_count": 4,
   "metadata": {},
   "outputs": [
    {
     "name": "stdout",
     "output_type": "stream",
     "text": [
      "The two strings are not anagram of each other\n"
     ]
    }
   ],
   "source": [
    "class Solution:\n",
    "    def anagram(self,s,t):\n",
    "        if sorted(s) == sorted(t):\n",
    "            return True\n",
    "        else: return False\n",
    "if __name__ == '__main__':\n",
    "    a = \"gram\"\n",
    "    b = \"arm\"\n",
    "    if(Solution().anagram(a, b)):\n",
    "      print(\"The two strings are anagram of each other\")\n",
    "    else:\n",
    "      print(\"The two strings are not anagram of each other\")"
   ]
  },
  {
   "cell_type": "markdown",
   "metadata": {},
   "source": [
    "### Hash map\n",
    "1. create a hashmap to store the frequency of characters in both string\n",
    "\n"
   ]
  },
  {
   "cell_type": "code",
   "execution_count": 7,
   "metadata": {},
   "outputs": [],
   "source": [
    "class Solution:\n",
    "    def isAnagram(self,s:str,t:str):\n",
    "        if len(s) != len(t):\n",
    "            return False\n",
    "        character_frequency = {}\n",
    "        for char in s:\n",
    "            if char in character_frequency:\n",
    "                character_frequency[char] +=1\n",
    "            else: character_frequency[char] =1\n",
    "\n",
    "        for char in t:\n",
    "            if char in character_frequency:\n",
    "                character_frequency[char] -= 1\n",
    "                if character_frequency[char] == 0:\n",
    "                    del character_frequency[char]\n",
    "            else: return False\n",
    "        return len(character_frequency) == 0"
   ]
  },
  {
   "cell_type": "code",
   "execution_count": 9,
   "metadata": {},
   "outputs": [
    {
     "name": "stdout",
     "output_type": "stream",
     "text": [
      "First string:  Hello World!  Second String:  World Hello\n",
      "The given strings are not anagrams.\n"
     ]
    }
   ],
   "source": [
    "def main():\n",
    "    solution = Solution()\n",
    "    TestCases = int(input(\"Enter the number of test cases: \"))\n",
    "    for __ in range(TestCases):\n",
    "        s = input(\"Enter the first string: \")\n",
    "        t = input(\"Enter the second string: \")\n",
    "        print(\"First string: \",s,\" Second String: \",t)\n",
    "        result = solution.isAnagram(s,t) \n",
    "        if result:\n",
    "            print(\"The given strings are anagrams.\")\n",
    "        else:\n",
    "            print(\"The given strings are not anagrams.\")\n",
    "\n",
    "if __name__ == \"__main__\":\n",
    "    main()"
   ]
  }
 ],
 "metadata": {
  "kernelspec": {
   "display_name": "base",
   "language": "python",
   "name": "python3"
  },
  "language_info": {
   "codemirror_mode": {
    "name": "ipython",
    "version": 3
   },
   "file_extension": ".py",
   "mimetype": "text/x-python",
   "name": "python",
   "nbconvert_exporter": "python",
   "pygments_lexer": "ipython3",
   "version": "3.10.9"
  },
  "orig_nbformat": 4
 },
 "nbformat": 4,
 "nbformat_minor": 2
}
