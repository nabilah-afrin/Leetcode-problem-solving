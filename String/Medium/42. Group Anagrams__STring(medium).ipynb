{
 "cells": [
  {
   "cell_type": "markdown",
   "metadata": {},
   "source": [
    "### Problem 49: Group Anagrams\n",
    "hash-table | string\n",
    "\n",
    "Companies  ||| amazon | bloomberg | facebook | uber | yelp\n",
    "\n",
    "Given an array of strings strs, group the anagrams together. You can return the answer in any order.\n",
    "\n",
    "An Anagram is a word or phrase formed by rearranging the letters of a different word or phrase, typically using all the original letters exactly once.\n",
    "\n",
    "``` python\n",
    "\n",
    "Example 1:\n",
    "Input: strs = [\"eat\",\"tea\",\"tan\",\"ate\",\"nat\",\"bat\"]\n",
    "Output: [[\"bat\"],[\"nat\",\"tan\"],[\"ate\",\"eat\",\"tea\"]]\n",
    "\n",
    "Example 2:\n",
    "Input: strs = [\"\"]\n",
    "Output: [[\"\"]]\n",
    "\n",
    "Example 3:\n",
    "Input: strs = [\"a\"]\n",
    "Output: [[\"a\"]]\n",
    "```\n",
    "\n",
    "Constraints:\n",
    "\n",
    "1 <= strs.length <= 104\n",
    "0 <= strs[i].length <= 100\n",
    "strs[i] consists of lowercase English letters."
   ]
  },
  {
   "cell_type": "markdown",
   "metadata": {},
   "source": [
    "### Brute force method"
   ]
  },
  {
   "cell_type": "code",
   "execution_count": 1,
   "metadata": {},
   "outputs": [],
   "source": [
    "class Solution:\n",
    "    def group_anagrams(list):\n",
    "        i = 0\n",
    "        j = i+1\n",
    "        for words in list:\n",
    "            if len(list[0]) == all(len(words)):\n",
    "                words.sorted()\n",
    "                #if list[word][i]== list[word][j]:"
   ]
  },
  {
   "cell_type": "markdown",
   "metadata": {},
   "source": [
    "### Hash table"
   ]
  },
  {
   "cell_type": "code",
   "execution_count": 6,
   "metadata": {},
   "outputs": [],
   "source": [
    "class Solution:\n",
    "    def groupAnagrams(self, strs):\n",
    "        dict = {}\n",
    "        for word in strs:\n",
    "             # Convert the word to lowercase to make it case-insensitive\n",
    "            lowercase_word = word.lower()\n",
    "            sorted_word = \"\".join(sorted(word))\n",
    "            if sorted_word not in dict:\n",
    "                dict[sorted_word] = []\n",
    "            if sorted_word in dict:\n",
    "                dict[sorted_word].append(word)\n",
    "            else: dict[sorted_word] = word  \n",
    "        return list(dict.values())"
   ]
  },
  {
   "cell_type": "markdown",
   "metadata": {},
   "source": [
    "```python\n",
    "word = \"tea\"\n",
    "\n",
    "# Using ''.join(sorted(word))\n",
    "sorted_word = ''.join(sorted(word))\n",
    "print(sorted_word)  # Output: \"aet\"\n",
    "\n",
    "# Using sorted(word)\n",
    "sorted_word_list = sorted(word)\n",
    "print(sorted_word_list)  # Output: ['a', 'e', 't']\n",
    "\n",
    "# If you want to convert the list back to a string\n",
    "sorted_word = ''.join(sorted_word_list)\n",
    "print(sorted_word)  # Output: \"aet\"\n",
    "\n",
    "```"
   ]
  },
  {
   "cell_type": "markdown",
   "metadata": {},
   "source": [
    "```python\n",
    "anagrams = {}  # Initialize an empty dictionary to store anagrams\n",
    "\n",
    "# Assuming we have two words, \"eat\" and \"tea\"\n",
    "word = \"eat\"\n",
    "sorted_word = ''.join(sorted(word))  # sorted_word is \"aet\"\n",
    "\n",
    "# Check if the sorted_word is already a key in the 'anagrams' dictionary\n",
    "if sorted_word in anagrams:\n",
    "    # If the sorted_word is already a key, append the current 'word' to the list of values associated with that key.\n",
    "    anagrams[sorted_word].append(word)\n",
    "else:\n",
    "    # If the sorted_word is not a key, create a new key-value pair with the sorted_word as the key and a list containing 'word' as the value.\n",
    "    anagrams[sorted_word] = [word]\n",
    "\n",
    "# After this code, the 'anagrams' dictionary may look like this:\n",
    "# {'aet': ['eat']}\n",
    "\n",
    "# Let's add another word, \"tan\"\n",
    "word = \"tan\"\n",
    "sorted_word = ''.join(sorted(word))  # sorted_word is \"ant\"\n",
    "\n",
    "# Check if the sorted_word is already a key in the 'anagrams' dictionary\n",
    "if sorted_word in anagrams:\n",
    "    # If the sorted_word is already a key, append the current 'word' to the list of values associated with that key.\n",
    "    anagrams[sorted_word].append(word)\n",
    "else:\n",
    "    # If the sorted_word is not a key, create a new key-value pair with the sorted_word as the key and a list containing 'word' as the value.\n",
    "    anagrams[sorted_word] = [word]\n",
    "\n",
    "# After this code, the 'anagrams' dictionary may look like this:\n",
    "# {'aet': ['eat', 'tea'], 'ant': ['tan']}\n",
    "```"
   ]
  },
  {
   "cell_type": "markdown",
   "metadata": {},
   "source": [
    "#### Test Code"
   ]
  },
  {
   "cell_type": "code",
   "execution_count": 7,
   "metadata": {},
   "outputs": [
    {
     "name": "stdout",
     "output_type": "stream",
     "text": [
      "Test Case 1:\n",
      "INPUT:  [\"Mars_needs_MOM'\", \"'marsnedse__mom\"]\n",
      "Result:\n",
      "[\"Mars_needs_MOM'\"]\n",
      "[\"'marsnedse__mom\"]\n",
      "\n",
      "\n"
     ]
    }
   ],
   "source": [
    "def main():\n",
    "    solution = Solution()\n",
    "    total_test_cases = int(input(\"Enter the number of test cases: \"))\n",
    "    for _ in range(total_test_cases):\n",
    "        print(f\"Test Case {_ + 1}:\")\n",
    "            # Input: List of strings for this test case\n",
    "        string_list= input(\"Enter a list of strings separated by spaces: \").split()\n",
    "        print(\"INPUT: \",string_list)\n",
    "        result = solution.groupAnagrams(string_list)\n",
    "        print(\"Result:\")\n",
    "        for group in result:\n",
    "            print(group)\n",
    "        print(\"\\n\")\n",
    "if __name__ == \"__main__\":\n",
    "    main()"
   ]
  }
 ],
 "metadata": {
  "kernelspec": {
   "display_name": "base",
   "language": "python",
   "name": "python3"
  },
  "language_info": {
   "codemirror_mode": {
    "name": "ipython",
    "version": 3
   },
   "file_extension": ".py",
   "mimetype": "text/x-python",
   "name": "python",
   "nbconvert_exporter": "python",
   "pygments_lexer": "ipython3",
   "version": "3.10.9"
  },
  "orig_nbformat": 4
 },
 "nbformat": 4,
 "nbformat_minor": 2
}
