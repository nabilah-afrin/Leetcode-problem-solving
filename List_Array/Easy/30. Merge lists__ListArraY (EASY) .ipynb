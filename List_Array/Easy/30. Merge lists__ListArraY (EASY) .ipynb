{
 "cells": [
  {
   "cell_type": "markdown",
   "metadata": {},
   "source": [
    "### List/Array\n",
    "<h4>Problem 42</h4> \n",
    "<h4>Merge Sorted Array</h4>\n",
    "\n",
    "You are given two integer arrays nums1 and nums2, sorted in non-decreasing order, and two integers m and n, representing the number of elements in nums1 and nums2 respectively.\n",
    "\n",
    "Merge nums1 and nums2 into a single array sorted in non-decreasing order.\n",
    "\n",
    "The final sorted array should not be returned by the function, but instead be stored inside the array nums1. To accommodate this, nums1 has a length of m + n, where the first m elements denote the elements that should be merged, and the last n elements are set to 0 and should be ignored. nums2 has a length of n.\n",
    "\n",
    "\n",
    "```python\n",
    "Example 1:\n",
    "\n",
    "Input: nums1 = [1,2,3,0,0,0], m = 3, nums2 = [2,5,6], n = 3\n",
    "\n",
    "Output: [1,2,2,3,5,6]\n",
    "\n",
    "Explanation: The arrays we are merging are [1,2,3] and [2,5,6].\n",
    "\n",
    "The result of the merge is [1,2,2,3,5,6] with the underlined elements coming from nums1.\n",
    "\n",
    "\n",
    "Example 2:\n",
    "\n",
    "Input: nums1 = [1], m = 1, nums2 = [], n = 0\n",
    "\n",
    "Output: [1]\n",
    "\n",
    "Explanation: The arrays we are merging are [1] and [].\n",
    "\n",
    "The result of the merge is [1].\n",
    "\n",
    "Example 3:\n",
    "\n",
    "Input: nums1 = [0], m = 0, nums2 = [1], n = 1\n",
    "\n",
    "Output: [1]\n",
    "\n",
    "Explanation: The arrays we are merging are [] and [1].\n",
    "\n",
    "The result of the merge is [1].\n",
    "Note that because m = 0, there are no elements in nums1. The 0 is only there to ensure the merge result can fit in nums1.```\n",
    " \n",
    "\n",
    "Constraints:\n",
    "\n",
    "nums1.length == m + n\n",
    "nums2.length == n\n",
    "0 <= m, n <= 200\n",
    "1 <= m + n <= 200\n",
    "-109 <= nums1[i], nums2[j] <= 109"
   ]
  },
  {
   "cell_type": "markdown",
   "metadata": {},
   "source": [
    "### Using two pointers technique for optimal approach"
   ]
  },
  {
   "cell_type": "code",
   "execution_count": 1,
   "metadata": {},
   "outputs": [
    {
     "name": "stdout",
     "output_type": "stream",
     "text": [
      "[1, 2, 2, 3, 5, 6]\n"
     ]
    }
   ],
   "source": [
    "def merge(nums1, m, nums2, n):\n",
    "    i = m - 1  # Pointer for nums1\n",
    "    j = n - 1  # Pointer for nums2\n",
    "    p = m + n - 1  # Pointer for merged array\n",
    "    \n",
    "    #in case the list is empyt\n",
    "    while i >= 0 and j >= 0:\n",
    "        if nums1[i] >= nums2[j]:\n",
    "            nums1[p] = nums1[i]\n",
    "            i -= 1\n",
    "        else:\n",
    "            nums1[p] = nums2[j]\n",
    "            j -= 1\n",
    "        p -= 1\n",
    "    \n",
    "    # Copy remaining elements from nums2 to nums1\n",
    "    nums1[:j + 1] = nums2[:j + 1]\n",
    "\n",
    "# Example usage\n",
    "nums1 = [1, 2, 3, 0, 0, 0]\n",
    "m = 3\n",
    "nums2 = [2, 5, 6]\n",
    "n = 3\n",
    "merge(nums1, m, nums2, n)\n",
    "print(nums1)  # Output: [1, 2, 2, 3, 5, 6]\n"
   ]
  },
  {
   "cell_type": "code",
   "execution_count": 2,
   "metadata": {},
   "outputs": [
    {
     "name": "stdout",
     "output_type": "stream",
     "text": [
      "All test cases passed!\n"
     ]
    }
   ],
   "source": [
    "def test_merge_sorted_array():\n",
    "    # Test case 1\n",
    "    nums1 = [1, 2, 3, 0, 0, 0]\n",
    "    m = 3\n",
    "    nums2 = [2, 5, 6]\n",
    "    n = 3\n",
    "    merge(nums1, m, nums2, n)\n",
    "    assert nums1 == [1, 2, 2, 3, 5, 6], \"Test case 1 failed\"\n",
    "\n",
    "    # Test case 2\n",
    "    nums1 = [1]\n",
    "    m = 1\n",
    "    nums2 = []\n",
    "    n = 0\n",
    "    merge(nums1, m, nums2, n)\n",
    "    assert nums1 == [1], \"Test case 2 failed\"\n",
    "\n",
    "    # Test case 3\n",
    "    nums1 = [0, 0, 0]\n",
    "    m = 0\n",
    "    nums2 = [1, 2, 3]\n",
    "    n = 3\n",
    "    merge(nums1, m, nums2, n)\n",
    "    assert nums1 == [1, 2, 3], \"Test case 3 failed\"\n",
    "\n",
    "    # Test case 4\n",
    "    nums1 = [4, 5, 6, 0, 0, 0]\n",
    "    m = 3\n",
    "    nums2 = [1, 2, 3]\n",
    "    n = 3\n",
    "    merge(nums1, m, nums2, n)\n",
    "    assert nums1 == [1, 2, 3, 4, 5, 6], \"Test case 4 failed\"\n",
    "\n",
    "    # Test case 5\n",
    "    nums1 = [1, 3, 5, 0, 0]\n",
    "    m = 3\n",
    "    nums2 = [2, 4]\n",
    "    n = 2\n",
    "    merge(nums1, m, nums2, n)\n",
    "    assert nums1 == [1, 2, 3, 4, 5], \"Test case 5 failed\"\n",
    "\n",
    "    print(\"All test cases passed!\")\n",
    "\n",
    "# Run the test cases\n",
    "test_merge_sorted_array()\n"
   ]
  }
 ],
 "metadata": {
  "kernelspec": {
   "display_name": "base",
   "language": "python",
   "name": "python3"
  },
  "language_info": {
   "codemirror_mode": {
    "name": "ipython",
    "version": 3
   },
   "file_extension": ".py",
   "mimetype": "text/x-python",
   "name": "python",
   "nbconvert_exporter": "python",
   "pygments_lexer": "ipython3",
   "version": "3.10.9"
  },
  "orig_nbformat": 4
 },
 "nbformat": 4,
 "nbformat_minor": 2
}
