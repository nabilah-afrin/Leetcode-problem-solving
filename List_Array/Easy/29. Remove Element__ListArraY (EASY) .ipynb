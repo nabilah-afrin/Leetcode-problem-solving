{
 "cells": [
  {
   "cell_type": "markdown",
   "metadata": {},
   "source": [
    "### List/Array\n",
    "<h4>Problem 41</h4> \n",
    "<h4>Remove Element</h4>\n",
    "\n",
    "\n",
    "Given an integer array __nums__ and an __integer val__, you need to remove all occurrences of val from the array `in-place`. The order of the elements in the array can be changed. After removing the elements, return the number of elements remaining in the array that are not equal to val.\n",
    "\n",
    "To get your solution accepted, follow these steps:\n",
    "\n",
    "Modify the array nums such that the first k elements contain the elements that are not equal to val.\n",
    "The remaining elements and their order are not important, and the size of nums can be disregarded.\n",
    "Return the value k.\n",
    "Custom Judge:\n",
    "\n",
    "Your solution will be tested with the following code:\n",
    "```python\n",
    "nums = [...]  # Input array\n",
    "val = ...  # Value to remove\n",
    "expectedNums = [...]  # Expected answer with correct length.\n",
    "                      # Sorted with no values equaling val.\n",
    "\n",
    "def removeElement(nums, val):\n",
    "    k = 0\n",
    "    for num in nums:\n",
    "        if num != val:\n",
    "            nums[k] = num\n",
    "            k += 1\n",
    "    return k\n",
    "\n",
    "k = removeElement(nums, val)  # Calls your implementation\n",
    "\n",
    "assert k == len(expectedNums)\n",
    "nums[:k] = sorted(nums[:k])  # Sorts the first k elements of nums\n",
    "for i in range(k):\n",
    "    assert nums[i] == expectedNums[i]\n",
    "\n",
    "```\n",
    "\n",
    "\n",
    "Example 1:\n",
    "\n",
    "Input: nums = [3,2,2,3], val = 3\n",
    "Output: 2, nums = [2,2,_,_]\n",
    "Explanation: Your function should return k = 2, with the first two elements of nums being 2.\n",
    "It does not matter what you leave beyond the returned k (hence they are underscores).\n",
    "Example 2:\n",
    "\n",
    "Input: nums = [0,1,2,2,3,0,4,2], val = 2\n",
    "Output: 5, nums = [0,1,4,0,3,_,_,_]\n",
    "Explanation: Your function should return k = 5, with the first five elements of nums containing 0, 0, 1, 3, and 4.\n",
    "Note that the five elements can be returned in any order.\n",
    "It does not matter what you leave beyond the returned k (hence they are underscores).\n",
    " \n",
    "\n",
    "Constraints:\n",
    "\n",
    "0 <= nums.length <= 100\n",
    "0 <= nums[i] <= 50\n",
    "0 <= val <= 100"
   ]
  },
  {
   "cell_type": "code",
   "execution_count": null,
   "metadata": {},
   "outputs": [],
   "source": [
    "### "
   ]
  }
 ],
 "metadata": {
  "language_info": {
   "name": "python"
  },
  "orig_nbformat": 4
 },
 "nbformat": 4,
 "nbformat_minor": 2
}
