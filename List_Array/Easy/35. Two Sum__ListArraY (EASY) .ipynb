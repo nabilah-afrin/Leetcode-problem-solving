{
 "cells": [
  {
   "cell_type": "markdown",
   "metadata": {},
   "source": [
    "### 1. Two Sum\n",
    "\n",
    "Given an array of integers nums and an integer target, return indices of the two numbers such that they add up to target.\n",
    "\n",
    "You may assume that each input would have exactly one solution, and you may not use the same element twice.\n",
    "\n",
    "You can return the answer in any order.\n",
    "\n",
    " \n",
    "\n",
    "```python\n",
    "Example 1:\n",
    "\n",
    "Input: nums = [2,7,11,15], target = 9\n",
    "Output: [0,1]\n",
    "Explanation: Because nums[0] + nums[1] == 9, we return [0, 1].\n",
    "Example 2:\n",
    "\n",
    "Input: nums = [3,2,4], target = 6\n",
    "Output: [1,2]\n",
    "Example 3:\n",
    "\n",
    "Input: nums = [3,3], target = 6\n",
    "Output: [0,1]\n",
    "```\n",
    " \n",
    "\n",
    "Constraints:\n",
    "\n",
    "2 <= nums.length <= 104\n",
    "-109 <= nums[i] <= 109\n",
    "-109 <= target <= 109\n",
    "Only one valid answer exists.\n",
    " \n",
    "\n",
    "Follow-up: Can yo"
   ]
  },
  {
   "cell_type": "markdown",
   "metadata": {},
   "source": [
    "### Intuitive Solution"
   ]
  },
  {
   "cell_type": "code",
   "execution_count": null,
   "metadata": {},
   "outputs": [],
   "source": [
    "class Solution:\n",
    "    def two_sum(self, num, target):\n",
    "        i, j = 0,1\n",
    "        while i in range(len(num)):\n",
    "            while j in range(1, len(num)):\n",
    "                if num[i]+num[j] == target:\n",
    "                    return [i,j]\n",
    "                else: j+=1\n",
    "            i+=1"
   ]
  },
  {
   "cell_type": "markdown",
   "metadata": {},
   "source": [
    "#### Wrong with test case!"
   ]
  },
  {
   "cell_type": "markdown",
   "metadata": {},
   "source": [
    "#### Modified"
   ]
  },
  {
   "cell_type": "code",
   "execution_count": 3,
   "metadata": {},
   "outputs": [],
   "source": [
    "class Solution(object):\n",
    "    def twoSum(self, nums, target):\n",
    "        \"\"\"\n",
    "        :type nums: List[int]\n",
    "        :type target: int\n",
    "        :rtype: List[int]\n",
    "        \"\"\"\n",
    "        i, j = 0, 1\n",
    "        while i < len(nums):\n",
    "            while j < len(nums):\n",
    "                if nums[i] + nums[j] == target:\n",
    "                    return [i, j]\n",
    "                j += 1\n",
    "            i += 1\n",
    "            j = i + 1  # Reset j to the next index after i\n",
    "        return []  # Return an empty list if no solution is found\n"
   ]
  },
  {
   "cell_type": "markdown",
   "metadata": {},
   "source": [
    "#### Test Case"
   ]
  },
  {
   "cell_type": "code",
   "execution_count": 4,
   "metadata": {},
   "outputs": [
    {
     "name": "stdout",
     "output_type": "stream",
     "text": [
      "Input: nums = [2, 7, 11, 15], target = 9\n",
      "Output: [0, 1]\n",
      "\n",
      "Input: nums = [3, 2, 4], target = 6\n",
      "Output: [1, 2]\n",
      "\n",
      "Input: nums = [-1, -2, -3, -4, -5], target = -8\n",
      "Output: [2, 4]\n",
      "\n",
      "Input: nums = [1000000, 2000000, 3000000, 4000000], target = 5000000\n",
      "Output: [0, 3]\n",
      "\n",
      "Input: nums = [1, 2, 3, 4], target = 10\n",
      "Output: []\n",
      "\n",
      "Input: nums = [], target = 5\n",
      "Output: []\n",
      "\n",
      "Input: nums = [2, 2, 3, 4], target = 5\n",
      "Output: [0, 2]\n",
      "\n",
      "Input: nums = [-2, -7, 11, 15], target = -9\n",
      "Output: [0, 1]\n",
      "\n"
     ]
    }
   ],
   "source": [
    "solution = Solution()\n",
    "test_cases = [\n",
    "    ([2, 7, 11, 15], 9),\n",
    "    ([3, 2, 4], 6),\n",
    "    ([-1, -2, -3, -4, -5], -8),\n",
    "    ([1000000, 2000000, 3000000, 4000000], 5000000),\n",
    "    ([1, 2, 3, 4], 10),\n",
    "    ([], 5),\n",
    "    ([2, 2, 3, 4], 5),\n",
    "    ([-2, -7, 11, 15], -9)\n",
    "]\n",
    "for nums, target in test_cases:\n",
    "    result = solution.twoSum(nums, target)\n",
    "    print(f\"Input: nums = {nums}, target = {target}\")\n",
    "    print(f\"Output: {result}\")\n",
    "    print()"
   ]
  },
  {
   "cell_type": "markdown",
   "metadata": {},
   "source": [
    "### Hash Map\n",
    "for each number create a hash map\n",
    "1. Initialize an empty hashmap to store numbers and their indices.\n",
    "2. Iterate through the array of numbers.\n",
    "3. For each number, calculate its complement (target minus the current number).\n",
    "4. Check if the complement exists in the hashmap. If it does, return the indices of the current number and its complement.\n",
    "5.If the complement doesn't exist in the hashmap, add the current number and its index to the hashmap."
   ]
  },
  {
   "cell_type": "code",
   "execution_count": 5,
   "metadata": {},
   "outputs": [],
   "source": [
    "class Solution:\n",
    "    def TwoSum_HashMap(self, num, target):\n",
    "        hashmap = {}\n",
    "        for index, x in enumerate((num)):\n",
    "            compliment = target - x\n",
    "            if compliment in hashmap:\n",
    "                return [hashmap[compliment], index]\n",
    "            \n",
    "            hashmap[x] = index \n"
   ]
  },
  {
   "cell_type": "markdown",
   "metadata": {},
   "source": [
    "The enumerate function in Python is a built-in function that provides an easy way to iterate over a sequence (such as a list, tuple, or string) while keeping track of both the elements and their corresponding indices. It returns pairs of (index, element) for each element in the sequence.\n",
    "```python\n",
    "enumerate(sequence, start=0)\n",
    "fruits = ['apple', 'banana', 'cherry', 'date']\n",
    "\n",
    "for index, fruit in enumerate(fruits):\n",
    "    print(f\"Index: {index}, Fruit: {fruit}\")\n",
    "```\n",
    "```yaml\n",
    "Output::\n",
    "Index: 0, Fruit: apple\n",
    "Index: 1, Fruit: banana\n",
    "Index: 2, Fruit: cherry\n",
    "Index: 3, Fruit: date\n",
    "```"
   ]
  },
  {
   "cell_type": "markdown",
   "metadata": {},
   "source": [
    "#### Test Case"
   ]
  },
  {
   "cell_type": "code",
   "execution_count": 8,
   "metadata": {},
   "outputs": [
    {
     "name": "stdout",
     "output_type": "stream",
     "text": [
      "Input: nums = [2, 7, 11, 15], target = 9\n",
      "Output: []\n",
      "\n",
      "Input: nums = [3, 2, 4], target = 10\n",
      "Output: []\n",
      "\n",
      "Input: nums = [], target = 5\n",
      "Output: None\n",
      "\n",
      "Input: nums = [5, 5], target = 5\n",
      "Output: []\n",
      "\n",
      "Input: nums = [0, 0, 0, 0], target = 12\n",
      "Output: []\n",
      "\n"
     ]
    }
   ],
   "source": [
    "def main():\n",
    "    solution = Solution()\n",
    "    \n",
    "    num_test_cases = int(input(\"Enter the number of test cases: \"))\n",
    "    \n",
    "    for _ in range(num_test_cases):\n",
    "        nums = list(map(int, input(\"Enter space-separated numbers: \").split()))\n",
    "        target = int(input(\"Enter the target sum: \"))\n",
    "        \n",
    "        result = solution.TwoSum_HashMap(nums, target)\n",
    "        print(f\"Input: nums = {nums}, target = {target}\")\n",
    "        print(f\"Output: {result}\")\n",
    "        print()\n",
    "\n",
    "if __name__ == \"__main__\":\n",
    "    main()\n",
    "\n"
   ]
  }
 ],
 "metadata": {
  "kernelspec": {
   "display_name": "base",
   "language": "python",
   "name": "python3"
  },
  "language_info": {
   "codemirror_mode": {
    "name": "ipython",
    "version": 3
   },
   "file_extension": ".py",
   "mimetype": "text/x-python",
   "name": "python",
   "nbconvert_exporter": "python",
   "pygments_lexer": "ipython3",
   "version": "3.10.9"
  },
  "orig_nbformat": 4
 },
 "nbformat": 4,
 "nbformat_minor": 2
}
