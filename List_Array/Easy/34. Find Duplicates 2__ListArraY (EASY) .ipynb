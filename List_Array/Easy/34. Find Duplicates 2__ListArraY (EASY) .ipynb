{
 "cells": [
  {
   "cell_type": "markdown",
   "metadata": {},
   "source": [
    "## Find Duplicates\n",
    "Contains Duplicate II\n",
    "\n",
    "Given an integer array nums and an integer k, return true if there are two distinct indices i and j in the array such that nums[i] == nums[j] and abs(i - j) <= k.\n",
    "\n",
    "```python\n",
    "Example 1:\n",
    "\n",
    "Input: nums = [1,2,3,1], k = 3\n",
    "Output: true\n",
    "Example 2:\n",
    "\n",
    "Input: nums = [1,0,1,1], k = 1\n",
    "Output: true\n",
    "Example 3:\n",
    "\n",
    "Input: nums = [1,2,3,1,2,3], k = 2\n",
    "Output: false\n",
    "```\n",
    " \n",
    "\n",
    "Constraints:\n",
    "\n",
    "1 <= nums.length <= 105\n",
    "-109 <= nums[i] <= 109\n",
    "0 <= k <= 105"
   ]
  },
  {
   "cell_type": "markdown",
   "metadata": {},
   "source": [
    "### Using Brute force method"
   ]
  },
  {
   "cell_type": "code",
   "execution_count": 1,
   "metadata": {},
   "outputs": [
    {
     "name": "stdout",
     "output_type": "stream",
     "text": [
      "True\n",
      "True\n",
      "False\n"
     ]
    }
   ],
   "source": [
    "def containsNearbyDuplicate_bruteforce(nums, k):\n",
    "    n = len(nums)\n",
    "    \n",
    "    for i in range(n):\n",
    "        for j in range(i + 1, min(n, i + k + 1)):\n",
    "            if nums[i] == nums[j]:\n",
    "                return True\n",
    "    \n",
    "    return False\n",
    "\n",
    "# Test cases\n",
    "print(containsNearbyDuplicate_bruteforce([1, 2, 3, 1], 3))  \n",
    "print(containsNearbyDuplicate_bruteforce([1, 0, 1, 1], 1))  \n",
    "print(containsNearbyDuplicate_bruteforce([1, 2, 3, 1, 2, 3], 2)) \n"
   ]
  },
  {
   "cell_type": "markdown",
   "metadata": {},
   "source": [
    "### Using sliding window"
   ]
  },
  {
   "cell_type": "code",
   "execution_count": 2,
   "metadata": {},
   "outputs": [
    {
     "name": "stdout",
     "output_type": "stream",
     "text": [
      "True\n",
      "True\n",
      "False\n"
     ]
    }
   ],
   "source": [
    "def containsNearbyDuplicate_sliding(nums, k):\n",
    "    num_set = set()\n",
    "    \n",
    "    for i in range(len(nums)):\n",
    "        if nums[i] in num_set:\n",
    "            return True\n",
    "        \n",
    "        num_set.add(nums[i])\n",
    "        if len(num_set) > k:\n",
    "            num_set.remove(nums[i - k])\n",
    "    \n",
    "    return False\n",
    "\n",
    "# Test cases\n",
    "print(containsNearbyDuplicate_sliding([1, 2, 3, 1], 3))  \n",
    "print(containsNearbyDuplicate_sliding([1, 0, 1, 1], 1))  \n",
    "print(containsNearbyDuplicate_sliding([1, 2, 3, 1, 2, 3], 2)) \n"
   ]
  },
  {
   "cell_type": "markdown",
   "metadata": {},
   "source": [
    "### Hash Map"
   ]
  },
  {
   "cell_type": "code",
   "execution_count": 4,
   "metadata": {},
   "outputs": [
    {
     "name": "stdout",
     "output_type": "stream",
     "text": [
      "True\n",
      "True\n",
      "False\n"
     ]
    }
   ],
   "source": [
    "def containsNearbyDuplicate(nums, k):\n",
    "    num_indices = {}\n",
    "    \n",
    "    for i, num in enumerate(nums):\n",
    "        if num in num_indices and abs(i - num_indices[num]) <= k:\n",
    "            return True\n",
    "        num_indices[num] = i\n",
    "    \n",
    "    return False\n",
    "\n",
    "# Test cases\n",
    "print(containsNearbyDuplicate([1, 2, 3, 1], 3))  \n",
    "print(containsNearbyDuplicate([1, 0, 1, 1], 1))  \n",
    "print(containsNearbyDuplicate([1, 2, 3, 1, 2, 3], 2))  "
   ]
  }
 ],
 "metadata": {
  "kernelspec": {
   "display_name": "base",
   "language": "python",
   "name": "python3"
  },
  "language_info": {
   "codemirror_mode": {
    "name": "ipython",
    "version": 3
   },
   "file_extension": ".py",
   "mimetype": "text/x-python",
   "name": "python",
   "nbconvert_exporter": "python",
   "pygments_lexer": "ipython3",
   "version": "3.10.9"
  },
  "orig_nbformat": 4
 },
 "nbformat": 4,
 "nbformat_minor": 2
}
