{
 "cells": [
  {
   "cell_type": "markdown",
   "metadata": {},
   "source": [
    "## Problem 121 Best Time to Buy and Sell Stock\n",
    "\n",
    "Tags || array | dynamic-programming\n",
    "\n",
    "Companies || amazon | bloomberg | facebook | microsoft | uber\n",
    "> You are given an array prices where prices[i] is the price of a given stock on the ith day. You want to maximize your profit by choosing a single day to buy one stock and choosing a different day in the future to sell that stock.\n",
    ">>Return the maximum profit you can achieve from this transaction. If you cannot achieve any profit, return 0.\n",
    "```yaml\n",
    "Example 1:\n",
    "Input: prices = [7,1,5,3,6,4]\n",
    "Output: 5\n",
    "Explanation: Buy on day 2 (price = 1) and sell on day 5 (price = 6), profit = 6-1 = 5.\n",
    "Note that buying on day 2 and selling on day 1 is not allowed because you must buy before you sell.\n",
    "\n",
    "Example 2:\n",
    "Input: prices = [7,6,4,3,1]\n",
    "Output: 0\n",
    "Explanation: In this case, no transactions are done and the max profit = 0.\n",
    "```\n",
    "__Stock must be bought before selling__\n",
    "\n",
    "_try to solve the problem by drawing a graph_\n",
    "Constraints:\n",
    "\n",
    "1 <= prices.length <= 105\n",
    "0 <= prices[i] <= 104\n",
    "\n",
    "```yaml\n",
    "Test Cases:\n",
    "1. [7,1,1,1]\n",
    "2. [7,8,9,10,1]\n",
    "3. [7,6,4,3,1]\n",
    "4. [1,2,3,4]\n",
    "```"
   ]
  },
  {
   "cell_type": "markdown",
   "metadata": {},
   "source": [
    "this problem is marked with dynamic programming because it requires the Sliding Window technique."
   ]
  },
  {
   "cell_type": "markdown",
   "metadata": {},
   "source": [
    "### When one transaction is allowed"
   ]
  },
  {
   "cell_type": "markdown",
   "metadata": {},
   "source": [
    "#### Greedy approach"
   ]
  },
  {
   "cell_type": "markdown",
   "metadata": {},
   "source": [
    "This problem can be solved using the greedy approach(each point is considered to be the best upto every point). "
   ]
  },
  {
   "cell_type": "code",
   "execution_count": 4,
   "metadata": {},
   "outputs": [],
   "source": [
    "def maxProfit(prices, n):\n",
    "    buy = prices[0]\n",
    "    max_profit= 0\n",
    "    for i in range(1,n):\n",
    "        #check for minumum price to buy\n",
    "        if buy > prices[i]:\n",
    "            buy = prices[i]\n",
    "        \n",
    "        #check for higher profit\n",
    "        elif (prices[i] - buy > max_profit):\n",
    "            max_profit = prices[i]-buy\n",
    "    return(max_profit)"
   ]
  },
  {
   "cell_type": "markdown",
   "metadata": {},
   "source": [
    "#### Sliding window approach"
   ]
  },
  {
   "cell_type": "code",
   "execution_count": 2,
   "metadata": {},
   "outputs": [],
   "source": [
    "class Solution:\n",
    "    def maxProfit(self, prices) -> int:\n",
    "        min_price = float(\"inf\")\n",
    "        max_profit = 0\n",
    "        for price in prices:\n",
    "            if price <min_price:\n",
    "                min_price = price\n",
    "            elif price-min_price > max_profit:\n",
    "                max_profit = price-min_price\n",
    "        return max_profit  "
   ]
  },
  {
   "cell_type": "markdown",
   "metadata": {},
   "source": [
    "min_price = float(\"inf\") in Python is initializing a variable called min_price and assigning it the value of positive infinity, which is represented in Python as float(\"inf\").\n",
    "\n",
    "float(\"inf\") value is used to represent a number that is greater than any finite number. \n",
    "\n",
    "This is often used when you want to find the minimum value in a list or a series of values, and you want to ensure that any other value in the list will be smaller than the initial value of min_price.\n",
    "```python\n",
    "prices = [10.99, 5.99, 15.95, 8.49, 12.75]\n",
    "min_price = float(\"inf\")\n",
    "for price in prices:\n",
    "    if price < min_price:\n",
    "        min_price = price\n",
    "print(\"The minimum price is:\", min_price) ##output = 5.99\n",
    "\n",
    "```\n",
    "In this code, min_price is initialized to positive infinity, so any value in the prices list will be smaller than min_price initially. As the loop iterates through the list, it updates min_price to the smallest value it encounters, effectively finding the minimum price in the list."
   ]
  },
  {
   "cell_type": "markdown",
   "metadata": {},
   "source": [
    "#### using Iteration process (two pointers)"
   ]
  },
  {
   "cell_type": "code",
   "execution_count": 4,
   "metadata": {},
   "outputs": [
    {
     "ename": "IndexError",
     "evalue": "list index out of range",
     "output_type": "error",
     "traceback": [
      "\u001b[1;31m---------------------------------------------------------------------------\u001b[0m",
      "\u001b[1;31mIndexError\u001b[0m                                Traceback (most recent call last)",
      "Cell \u001b[1;32mIn[4], line 13\u001b[0m\n\u001b[0;32m     11\u001b[0m     \u001b[39mreturn\u001b[39;00m(max_profit)\n\u001b[0;32m     12\u001b[0m prices_1 \u001b[39m=\u001b[39m [\u001b[39m7\u001b[39m,\u001b[39m8\u001b[39m,\u001b[39m9\u001b[39m,\u001b[39m10\u001b[39m,\u001b[39m1\u001b[39m]\n\u001b[1;32m---> 13\u001b[0m solution(prices_1)\n",
      "Cell \u001b[1;32mIn[4], line 10\u001b[0m, in \u001b[0;36msolution\u001b[1;34m(prices)\u001b[0m\n\u001b[0;32m      8\u001b[0m     \u001b[39melse\u001b[39;00m: l \u001b[39m=\u001b[39m r\n\u001b[0;32m      9\u001b[0m     r\u001b[39m+\u001b[39m\u001b[39m=\u001b[39m\u001b[39m1\u001b[39m\n\u001b[1;32m---> 10\u001b[0m \u001b[39mprint\u001b[39m(prices[l],prices[r])\n\u001b[0;32m     11\u001b[0m \u001b[39mreturn\u001b[39;00m(max_profit)\n",
      "\u001b[1;31mIndexError\u001b[0m: list index out of range"
     ]
    }
   ],
   "source": [
    "def solution(prices):\n",
    "    l, r = 0,1\n",
    "    max_profit = 0\n",
    "    while r<len(prices):\n",
    "        if prices[l] < prices[r]:\n",
    "            profit = prices[r] - prices[l]\n",
    "            max_profit = max(max_profit,profit)\n",
    "        else: l = r\n",
    "        r+=1\n",
    "    print(prices[l],prices[r])\n",
    "    return(max_profit)\n",
    "prices_1 = [7,8,9,10,1]\n",
    "solution(prices_1)\n"
   ]
  },
  {
   "cell_type": "code",
   "execution_count": 8,
   "metadata": {},
   "outputs": [
    {
     "name": "stdout",
     "output_type": "stream",
     "text": [
      "l: 0 r: 1\n",
      "l: 0 r: 2\n",
      "l: 0 r: 3\n",
      "l: 4 r: 4\n",
      "Final values - l: 4 r: 5\n",
      "3\n"
     ]
    }
   ],
   "source": [
    "def solution(prices):\n",
    "    l, r = 0, 1\n",
    "    max_profit = 0\n",
    "    while r < len(prices):\n",
    "        if prices[l] < prices[r]:\n",
    "            profit = prices[r] - prices[l]\n",
    "            max_profit = max(max_profit, profit)\n",
    "        else:\n",
    "            l = r\n",
    "        print(\"l:\", l, \"r:\", r)  # Print l and r here\n",
    "        r += 1\n",
    "    print(\"Final values - l:\", l, \"r:\", r)\n",
    "    return max_profit\n",
    "prices_1 = [7, 8, 9, 10, 1]\n",
    "print(solution(prices_1))\n"
   ]
  }
 ],
 "metadata": {
  "kernelspec": {
   "display_name": "base",
   "language": "python",
   "name": "python3"
  },
  "language_info": {
   "codemirror_mode": {
    "name": "ipython",
    "version": 3
   },
   "file_extension": ".py",
   "mimetype": "text/x-python",
   "name": "python",
   "nbconvert_exporter": "python",
   "pygments_lexer": "ipython3",
   "version": "3.10.9"
  },
  "orig_nbformat": 4
 },
 "nbformat": 4,
 "nbformat_minor": 2
}
