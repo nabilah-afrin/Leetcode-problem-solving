{
 "cells": [
  {
   "cell_type": "markdown",
   "metadata": {},
   "source": [
    "# LC Daily Challenge : <a href=\"https://leetcode.com/problems/eliminate-maximum-number-of-monsters/description/?envType=daily-question&envId=2023-11-07\">Eliminate Maximum Number of Monsters</a>\n"
   ]
  },
  {
   "cell_type": "markdown",
   "metadata": {},
   "source": [
    "## Problem Statement\n",
    "In the following problem statement, we have to defend a city from a group of (`n`) monsters. 2 lists are given as input, the first list (`distance`) indicates how far the n monsters are from the city; the second list(`speed`) is defined as each monster's corresponding speed. We can defeat 1 monster at a time with a weapon that is provided with inital charge; but after each killing, it needs to be charged for *1 minute* before reusing.\n",
    "\n",
    "The game loses, when one of the monster reaches the city; as well as when the monster reaches the city at the exact moment the weapon is fully charged.\n",
    "\n",
    "We have to return __how many times the monster was defeated__ before any of the monster reached.\n",
    "\n",
    "```yaml\n",
    "Example 1:\n",
    "Input: dist = [1,3,4], speed = [1,1,1]\n",
    "Output: 3\n",
    "Explanation:\n",
    "In the beginning, the distances of the monsters are [1,3,4]. You eliminate the first monster.\n",
    "After a minute, the distances of the monsters are [X,2,3]. You eliminate the second monster.\n",
    "After a minute, the distances of the monsters are [X,X,2]. You eliminate the thrid monster.\n",
    "All 3 monsters can be eliminated.\n",
    "```\n"
   ]
  },
  {
   "cell_type": "markdown",
   "metadata": {},
   "source": [
    "## Approach\n",
    "1. Calculate the time required for each monster to get into the city by dividing the distance by the speed.\n",
    "2. Sort the arrival time in ascending order, beacuse the shooter needs to take down the fastest monster or the game is over.\n",
    "3. Create a variable that will record each time a monster has been eliminated.\n",
    "4. Iterate through the sorted arrival time and compare the arrival time with the corresponding index or the current time. . If a monster's arrival time is less than or equal to the current time, the monster has arrived before or at the same time as the gun is ready to fire. \n",
    "5. Otherwise append the varibale that is recording elimination count"
   ]
  },
  {
   "cell_type": "code",
   "execution_count": 1,
   "metadata": {},
   "outputs": [
    {
     "name": "stdout",
     "output_type": "stream",
     "text": [
      "1\n"
     ]
    }
   ],
   "source": [
    "class Solution:\n",
    "    def eliminateMaximum(self, dist: list[int], speed: list[int]) -> int:\n",
    "        arrival = []\n",
    "        for idx in range(len(dist)):\n",
    "            arrival.append(dist[idx] / speed[idx])\n",
    "        \n",
    "        arrival.sort()\n",
    "        eliminated = 0\n",
    "\n",
    "        for currentTime in range(len(arrival)):\n",
    "            if arrival[currentTime] <= currentTime:\n",
    "                break\n",
    "                \n",
    "            eliminated += 1\n",
    "\n",
    "        return eliminated\n",
    "solution = Solution()\n",
    "result = solution.eliminateMaximum(dist =[3,2,4], speed = [5,3,2])\n",
    "print(result)"
   ]
  }
 ],
 "metadata": {
  "kernelspec": {
   "display_name": "base",
   "language": "python",
   "name": "python3"
  },
  "language_info": {
   "codemirror_mode": {
    "name": "ipython",
    "version": 3
   },
   "file_extension": ".py",
   "mimetype": "text/x-python",
   "name": "python",
   "nbconvert_exporter": "python",
   "pygments_lexer": "ipython3",
   "version": "3.11.4"
  }
 },
 "nbformat": 4,
 "nbformat_minor": 2
}
