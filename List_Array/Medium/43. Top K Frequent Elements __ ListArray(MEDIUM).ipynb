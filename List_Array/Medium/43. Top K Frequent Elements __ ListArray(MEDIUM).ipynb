{
 "cells": [
  {
   "cell_type": "markdown",
   "metadata": {},
   "source": [
    "## Problem 347. Top K Frequent Elements\n",
    "Tags \\\\\\\\\\\\\\ hash-table | heap\n",
    "\n",
    "Companies \\\\\\\\\\\\\\\\\\\\\\\\ pocketgems | yelp\n",
    "\n",
    "Given an integer array nums and an integer k, return the k most frequent elements. You may return the answer in any order.\n",
    "\n",
    " \n",
    "```yaml\n",
    "Example 1:\n",
    "Input: nums = [1,1,1,2,2,3], k = 2\n",
    "Output: [1,2]\n",
    "\n",
    "Example 2:\n",
    "Input: nums = [1], k = 1\n",
    "Output: [1]\n",
    " ```\n",
    "\n",
    "Constraints:\n",
    "\n",
    "1 <= nums.length <= 105\n",
    "-104 <= nums[i] <= 104\n",
    "k is in the range [1, the number of unique elements in the array].\n",
    "It is guaranteed that the answer is unique.\n",
    " \n",
    "__Follow up: Your algorithm's time complexity must be better than O(n log n), where n is the array's size.__"
   ]
  },
  {
   "cell_type": "markdown",
   "metadata": {},
   "source": [
    "### Using Hash table (intuitive approach)"
   ]
  },
  {
   "cell_type": "markdown",
   "metadata": {},
   "source": [
    "1. create an empty hash map\n",
    "2. sort the list if it isnot yet\n",
    "3. iterate through each number, which will e the key\n",
    "4. if the  value is already in the dictionary then count the position of value\n",
    "5. else entry both the key and value(ith position) in the dictionary\n",
    "6. sort the dictionary according to the total count\n",
    "6. return the first k keys of the dictionary"
   ]
  },
  {
   "cell_type": "code",
   "execution_count": 5,
   "metadata": {},
   "outputs": [
    {
     "name": "stdout",
     "output_type": "stream",
     "text": [
      "[12, 3, 14]\n"
     ]
    }
   ],
   "source": [
    "class Solution:\n",
    "    def k_most_frequent(self, nums, k):\n",
    "        nums.sort()\n",
    "        num_count = {}\n",
    "        for num in nums:\n",
    "            if num in num_count:\n",
    "                num_count[num] += 1\n",
    "            else:\n",
    "                num_count[num] = 1\n",
    "        result = sorted(num_count.keys(), key=lambda x: num_count[x], reverse=True)[:k]\n",
    "        return result\n",
    "\n",
    "solution = Solution()\n",
    "nums = [7, 10, 3, 12, 12, 12, 18, 14, 3, 14]\n",
    "k = 3\n",
    "output = solution.k_most_frequent(nums, k)\n",
    "print(output)\n"
   ]
  },
  {
   "cell_type": "markdown",
   "metadata": {},
   "source": [
    "__Lambda Function:__\n",
    "lambda function is an anonymous function that can have any number of arguments but can only have one expression. It's a way to create small, throwaway functions without giving them a name.In this code, we use a lambda function as the `key`(x) argument in the `sorted`(function(argument)) function.\n",
    "```python\n",
    "lambda x: num_count[x]\n",
    "```\n",
    "This lambda function takes an argument x (which is a number in this context) and returns num_count[x]. In other words, it extracts the count of each number x from the num_count dictionary. The sorted function uses this lambda function as the key to sort the numbers in descending order based on their counts.\n"
   ]
  },
  {
   "cell_type": "markdown",
   "metadata": {},
   "source": [
    "#### Time Complexity\n",
    "* Sorting the input list nums takes _O(n log n)_ time, where n is the length of the list.\n",
    "* Iterating through the sorted list and updating the num_count dictionary takes O(n) time, as we process each element once.\n",
    "* Sorting the keys of the num_count dictionary based on their counts using sorted takes O(k log k) time, where k is the value of k.\n",
    "* The overall time complexity of the code is dominated by the sorting step, which is O(n log n).\n",
    "* Runtime beats 69%\n",
    "* time complexity will be O(n) if the sorted list is already given as an input. same O(n) for space complexity"
   ]
  },
  {
   "cell_type": "markdown",
   "metadata": {},
   "source": [
    "#### Space Complexity\n",
    "* The num_count dictionary stores at most unique elements from the input list nums. In the worst case, where all elements are unique, the space complexity is O(n).\n",
    "* The result list stores the k most frequent elements, so its space complexity is O(k).\n",
    "* Other variables have negligible space complexity compared to these data structures.\n",
    "* The overall space complexity of the code is O(n) due to the num_count dictionary.\n",
    "* Memory beats 91%"
   ]
  },
  {
   "cell_type": "markdown",
   "metadata": {},
   "source": [
    "### Using bucket sort algorithm\n",
    "__bucket sort algorithm__\n",
    "\n",
    "Bucket Sort is a sorting algorithm that works by _dividing an array into a fixed number of equally sized buckets_ and then sorting the elements within each bucket. It's a `distribution-based sorting algorithm` and is particularly useful when the input data is uniformly distributed over a range.\n",
    "\n",
    "__How the Bucket Sort algorithm works:__\n",
    "\n",
    "1. __Determine the range of input values:__ Find the minimum and maximum values in the input array to determine the range of values.\n",
    "```python\n",
    "    min_val, max_val = min(arr), max(arr)\n",
    "```\n",
    "\n",
    "2. __Create empty buckets:__ Create a fixed number of empty buckets, typically as an array or a list.\n",
    "```python\n",
    "    bucket_range = (max_val - min_val) / len(arr)\n",
    "    buckets = [[] for _ in range(len(arr))]\n",
    "```\n",
    "3. __Distribute elements into buckets:__ Iterate through the input array and place each element into the corresponding bucket based on a function or formula that maps the element's value to a bucket index. Elements with similar values will be placed in the same bucket.\n",
    "```python\n",
    "    for num in arr:\n",
    "        index = int((num - min_val) / bucket_range)\n",
    "        buckets[index].append(num)\n",
    "```\n",
    "4. __Sort each bucket:__ Apply a sorting algorithm (e.g., insertion sort) to sort the elements within each bucket. This step ensures that elements within each bucket are sorted relative to each other.\n",
    "```python\n",
    "    sorted_arr = []\n",
    "    for bucket in buckets:\n",
    "        sorted_arr.extend(sorted(bucket))\n",
    "\n",
    "    return sorted_arr\n",
    "```\n",
    "\n",
    "5. __Concatenate the buckets:__ After sorting all the individual buckets, concatenate them back together in order of the bucket indices to obtain the sorted array.\n",
    "\n",
    "_Bucket Sort Implementation:_\n",
    "\n",
    "```python\n",
    "def bucket_sort(arr):\n",
    "    if len(arr) == 0:\n",
    "        return arr\n",
    "\n",
    "    # Step 1: Determine the range of input values\n",
    "    min_val, max_val = min(arr), max(arr)\n",
    "    \n",
    "    # Step 2: Create empty buckets\n",
    "    bucket_range = (max_val - min_val) / len(arr)\n",
    "    buckets = [[] for _ in range(len(arr))]\n",
    "\n",
    "    # Step 3: Distribute elements into buckets\n",
    "    for num in arr:\n",
    "        index = int((num - min_val) / bucket_range)\n",
    "        buckets[index].append(num)\n",
    "\n",
    "    # Step 4: Sort each bucket (insertion sort in this example)\n",
    "    sorted_arr = []\n",
    "    for bucket in buckets:\n",
    "        sorted_arr.extend(sorted(bucket))\n",
    "\n",
    "    return sorted_arr\n",
    "```\n",
    "\n",
    "```yaml\n",
    "# Example usage:\n",
    "arr = [3.0, 1.0, 2.0, 4.0, 3.5]\n",
    "sorted_arr = bucket_sort(arr)\n",
    "print(sorted_arr)  # Output: [1.0, 2.0, 3.0, 3.5, 4.0]\n",
    "```\n",
    "Bucket Sort is efficient when the data is uniformly distributed across the range and the number of buckets is chosen appropriately. It can achieve a linear time complexity of O(n) in many cases, making it a useful sorting algorithm for specific scenarios."
   ]
  },
  {
   "cell_type": "code",
   "execution_count": 6,
   "metadata": {},
   "outputs": [
    {
     "name": "stdout",
     "output_type": "stream",
     "text": [
      "[12, 3, 14, 10, 18, 7]\n"
     ]
    }
   ],
   "source": [
    "class Solution:\n",
    "    def k_most_frequent(self, nums, k):\n",
    "        num_count = {}\n",
    "        max_count = 0\n",
    "        \n",
    "        # Step 1: Count the frequency of each number\n",
    "        for num in nums:\n",
    "            if num in num_count:\n",
    "                num_count[num] += 1\n",
    "            else:\n",
    "                num_count[num] = 1\n",
    "            max_count = max(max_count, num_count[num])\n",
    "        \n",
    "        # Step 2: Create a list of buckets\n",
    "        buckets = [set() for _ in range(max_count + 1)]\n",
    "        for num, count in num_count.items():\n",
    "            buckets[count].add(num)\n",
    "        \n",
    "        # Step 3: Collect the k most frequent numbers\n",
    "        result = []\n",
    "        for i in range(max_count, 0, -1):\n",
    "            if k == 0:\n",
    "                break\n",
    "            if len(buckets[i]) > 0:\n",
    "                result.extend(buckets[i])\n",
    "                k -= len(buckets[i])\n",
    "        \n",
    "        return result\n",
    "\n",
    "solution = Solution()\n",
    "nums = [7, 10, 3, 12, 12, 12, 18, 14, 3, 14]\n",
    "k = 2\n",
    "output = solution.k_most_frequent(nums, k)\n",
    "print(output)\n"
   ]
  },
  {
   "cell_type": "markdown",
   "metadata": {},
   "source": [
    "#### Time complexity\n",
    "* Time Complexity: O(n + k) in the average case, where n is the size of the array and k is the number of unique elements.\n",
    "* It counts the frequency of each number and then groups numbers by their frequency. The key difference is that it avoids the O(n log n) sorting step and instead works with the frequencies directly.\n",
    "* time complexity will be same if we work with already sorted input"
   ]
  },
  {
   "cell_type": "markdown",
   "metadata": {},
   "source": [
    "#### Space complexity\n",
    "* space complexity will be O(n)\n",
    "* but the space complexity will vary according to the input. so the first solution is more optimal in case of space complexity. It may vary depending on the number of unique elements in the input list"
   ]
  },
  {
   "cell_type": "markdown",
   "metadata": {},
   "source": [
    "### Test cases\n",
    "\n",
    "1. []\n",
    "2. [ 1 2 3 4 5 6] k=3, k= 6\n",
    "3. [1 1 1 1 2 3 4 5 6 7]  k=1, k=2\n",
    "4. [0 0 0 0 0 0] k=1\n",
    "5. [ -3 -4 -7 -7 -7]\n",
    "6. [ 1 2 3 4 4 4 5 5 5 6 6 6 7 7] k =3,2\n",
    "7. [7 10 12 12 14 18 14 14 3] k = 2,1"
   ]
  }
 ],
 "metadata": {
  "kernelspec": {
   "display_name": "base",
   "language": "python",
   "name": "python3"
  },
  "language_info": {
   "codemirror_mode": {
    "name": "ipython",
    "version": 3
   },
   "file_extension": ".py",
   "mimetype": "text/x-python",
   "name": "python",
   "nbconvert_exporter": "python",
   "pygments_lexer": "ipython3",
   "version": "3.10.9"
  },
  "orig_nbformat": 4
 },
 "nbformat": 4,
 "nbformat_minor": 2
}
